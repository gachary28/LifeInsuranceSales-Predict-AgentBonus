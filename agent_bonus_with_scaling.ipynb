{
 "cells": [
  {
   "cell_type": "code",
   "execution_count": 89,
   "metadata": {},
   "outputs": [],
   "source": [
    "# import required libraries\n",
    "import pandas as pd\n",
    "import numpy as np\n",
    "import matplotlib.pyplot as plt\n",
    "%matplotlib inline"
   ]
  },
  {
   "cell_type": "code",
   "execution_count": 90,
   "metadata": {},
   "outputs": [],
   "source": [
    "# Read dataset\n",
    "insurance_data =  pd.read_excel(\"Sales.xlsx\", sheet_name=\"Sales\")"
   ]
  },
  {
   "cell_type": "code",
   "execution_count": 91,
   "metadata": {},
   "outputs": [
    {
     "data": {
      "text/html": [
       "<div>\n",
       "<style scoped>\n",
       "    .dataframe tbody tr th:only-of-type {\n",
       "        vertical-align: middle;\n",
       "    }\n",
       "\n",
       "    .dataframe tbody tr th {\n",
       "        vertical-align: top;\n",
       "    }\n",
       "\n",
       "    .dataframe thead th {\n",
       "        text-align: right;\n",
       "    }\n",
       "</style>\n",
       "<table border=\"1\" class=\"dataframe\">\n",
       "  <thead>\n",
       "    <tr style=\"text-align: right;\">\n",
       "      <th></th>\n",
       "      <th>CustID</th>\n",
       "      <th>AgentBonus</th>\n",
       "      <th>Age</th>\n",
       "      <th>CustTenure</th>\n",
       "      <th>Channel</th>\n",
       "      <th>Occupation</th>\n",
       "      <th>EducationField</th>\n",
       "      <th>Gender</th>\n",
       "      <th>ExistingProdType</th>\n",
       "      <th>Designation</th>\n",
       "      <th>NumberOfPolicy</th>\n",
       "      <th>MaritalStatus</th>\n",
       "      <th>MonthlyIncome</th>\n",
       "      <th>Complaint</th>\n",
       "      <th>ExistingPolicyTenure</th>\n",
       "      <th>SumAssured</th>\n",
       "      <th>Zone</th>\n",
       "      <th>PaymentMethod</th>\n",
       "      <th>LastMonthCalls</th>\n",
       "      <th>CustCareScore</th>\n",
       "    </tr>\n",
       "  </thead>\n",
       "  <tbody>\n",
       "    <tr>\n",
       "      <td>0</td>\n",
       "      <td>7000000</td>\n",
       "      <td>4409</td>\n",
       "      <td>22.0</td>\n",
       "      <td>4.0</td>\n",
       "      <td>Agent</td>\n",
       "      <td>Salaried</td>\n",
       "      <td>Graduate</td>\n",
       "      <td>Female</td>\n",
       "      <td>3</td>\n",
       "      <td>Manager</td>\n",
       "      <td>2.0</td>\n",
       "      <td>Single</td>\n",
       "      <td>20993.0</td>\n",
       "      <td>1</td>\n",
       "      <td>2.0</td>\n",
       "      <td>806761.0</td>\n",
       "      <td>North</td>\n",
       "      <td>Half Yearly</td>\n",
       "      <td>5</td>\n",
       "      <td>2.0</td>\n",
       "    </tr>\n",
       "    <tr>\n",
       "      <td>1</td>\n",
       "      <td>7000001</td>\n",
       "      <td>2214</td>\n",
       "      <td>11.0</td>\n",
       "      <td>2.0</td>\n",
       "      <td>Third Party Partner</td>\n",
       "      <td>Salaried</td>\n",
       "      <td>Graduate</td>\n",
       "      <td>Male</td>\n",
       "      <td>4</td>\n",
       "      <td>Manager</td>\n",
       "      <td>4.0</td>\n",
       "      <td>Divorced</td>\n",
       "      <td>20130.0</td>\n",
       "      <td>0</td>\n",
       "      <td>3.0</td>\n",
       "      <td>294502.0</td>\n",
       "      <td>North</td>\n",
       "      <td>Yearly</td>\n",
       "      <td>7</td>\n",
       "      <td>3.0</td>\n",
       "    </tr>\n",
       "    <tr>\n",
       "      <td>2</td>\n",
       "      <td>7000002</td>\n",
       "      <td>4273</td>\n",
       "      <td>26.0</td>\n",
       "      <td>4.0</td>\n",
       "      <td>Agent</td>\n",
       "      <td>Free Lancer</td>\n",
       "      <td>Post Graduate</td>\n",
       "      <td>Male</td>\n",
       "      <td>4</td>\n",
       "      <td>Exe</td>\n",
       "      <td>3.0</td>\n",
       "      <td>Unmarried</td>\n",
       "      <td>17090.0</td>\n",
       "      <td>1</td>\n",
       "      <td>2.0</td>\n",
       "      <td>NaN</td>\n",
       "      <td>North</td>\n",
       "      <td>Yearly</td>\n",
       "      <td>0</td>\n",
       "      <td>3.0</td>\n",
       "    </tr>\n",
       "    <tr>\n",
       "      <td>3</td>\n",
       "      <td>7000003</td>\n",
       "      <td>1791</td>\n",
       "      <td>11.0</td>\n",
       "      <td>NaN</td>\n",
       "      <td>Third Party Partner</td>\n",
       "      <td>Salaried</td>\n",
       "      <td>Graduate</td>\n",
       "      <td>Fe male</td>\n",
       "      <td>3</td>\n",
       "      <td>Executive</td>\n",
       "      <td>3.0</td>\n",
       "      <td>Divorced</td>\n",
       "      <td>17909.0</td>\n",
       "      <td>1</td>\n",
       "      <td>2.0</td>\n",
       "      <td>268635.0</td>\n",
       "      <td>West</td>\n",
       "      <td>Half Yearly</td>\n",
       "      <td>0</td>\n",
       "      <td>5.0</td>\n",
       "    </tr>\n",
       "    <tr>\n",
       "      <td>4</td>\n",
       "      <td>7000004</td>\n",
       "      <td>2955</td>\n",
       "      <td>6.0</td>\n",
       "      <td>NaN</td>\n",
       "      <td>Agent</td>\n",
       "      <td>Small Business</td>\n",
       "      <td>UG</td>\n",
       "      <td>Male</td>\n",
       "      <td>3</td>\n",
       "      <td>Executive</td>\n",
       "      <td>4.0</td>\n",
       "      <td>Divorced</td>\n",
       "      <td>18468.0</td>\n",
       "      <td>0</td>\n",
       "      <td>4.0</td>\n",
       "      <td>366405.0</td>\n",
       "      <td>West</td>\n",
       "      <td>Half Yearly</td>\n",
       "      <td>2</td>\n",
       "      <td>5.0</td>\n",
       "    </tr>\n",
       "    <tr>\n",
       "      <td>5</td>\n",
       "      <td>7000005</td>\n",
       "      <td>3252</td>\n",
       "      <td>7.0</td>\n",
       "      <td>NaN</td>\n",
       "      <td>Third Party Partner</td>\n",
       "      <td>Salaried</td>\n",
       "      <td>Graduate</td>\n",
       "      <td>Male</td>\n",
       "      <td>3</td>\n",
       "      <td>Executive</td>\n",
       "      <td>2.0</td>\n",
       "      <td>Single</td>\n",
       "      <td>18068.0</td>\n",
       "      <td>0</td>\n",
       "      <td>2.0</td>\n",
       "      <td>487836.0</td>\n",
       "      <td>North</td>\n",
       "      <td>Half Yearly</td>\n",
       "      <td>6</td>\n",
       "      <td>5.0</td>\n",
       "    </tr>\n",
       "    <tr>\n",
       "      <td>6</td>\n",
       "      <td>7000006</td>\n",
       "      <td>3850</td>\n",
       "      <td>12.0</td>\n",
       "      <td>23.0</td>\n",
       "      <td>Agent</td>\n",
       "      <td>Salaried</td>\n",
       "      <td>Graduate</td>\n",
       "      <td>Male</td>\n",
       "      <td>4</td>\n",
       "      <td>VP</td>\n",
       "      <td>3.0</td>\n",
       "      <td>Divorced</td>\n",
       "      <td>34999.0</td>\n",
       "      <td>0</td>\n",
       "      <td>2.0</td>\n",
       "      <td>392689.0</td>\n",
       "      <td>North</td>\n",
       "      <td>Yearly</td>\n",
       "      <td>9</td>\n",
       "      <td>2.0</td>\n",
       "    </tr>\n",
       "    <tr>\n",
       "      <td>7</td>\n",
       "      <td>7000007</td>\n",
       "      <td>2073</td>\n",
       "      <td>6.0</td>\n",
       "      <td>4.0</td>\n",
       "      <td>Agent</td>\n",
       "      <td>Small Business</td>\n",
       "      <td>Under Graduate</td>\n",
       "      <td>Female</td>\n",
       "      <td>3</td>\n",
       "      <td>Executive</td>\n",
       "      <td>4.0</td>\n",
       "      <td>Unmarried</td>\n",
       "      <td>17279.0</td>\n",
       "      <td>0</td>\n",
       "      <td>2.0</td>\n",
       "      <td>369079.0</td>\n",
       "      <td>West</td>\n",
       "      <td>Half Yearly</td>\n",
       "      <td>3</td>\n",
       "      <td>3.0</td>\n",
       "    </tr>\n",
       "    <tr>\n",
       "      <td>8</td>\n",
       "      <td>7000008</td>\n",
       "      <td>2719</td>\n",
       "      <td>8.0</td>\n",
       "      <td>11.0</td>\n",
       "      <td>Agent</td>\n",
       "      <td>Salaried</td>\n",
       "      <td>Graduate</td>\n",
       "      <td>Male</td>\n",
       "      <td>4</td>\n",
       "      <td>Manager</td>\n",
       "      <td>3.0</td>\n",
       "      <td>Divorced</td>\n",
       "      <td>20916.0</td>\n",
       "      <td>1</td>\n",
       "      <td>1.0</td>\n",
       "      <td>405143.0</td>\n",
       "      <td>West</td>\n",
       "      <td>Yearly</td>\n",
       "      <td>1</td>\n",
       "      <td>4.0</td>\n",
       "    </tr>\n",
       "    <tr>\n",
       "      <td>9</td>\n",
       "      <td>7000009</td>\n",
       "      <td>3247</td>\n",
       "      <td>6.0</td>\n",
       "      <td>3.0</td>\n",
       "      <td>Online</td>\n",
       "      <td>Small Business</td>\n",
       "      <td>Under Graduate</td>\n",
       "      <td>Male</td>\n",
       "      <td>2</td>\n",
       "      <td>Exe</td>\n",
       "      <td>2.0</td>\n",
       "      <td>Married</td>\n",
       "      <td>17089.0</td>\n",
       "      <td>0</td>\n",
       "      <td>1.0</td>\n",
       "      <td>NaN</td>\n",
       "      <td>West</td>\n",
       "      <td>Quarterly</td>\n",
       "      <td>2</td>\n",
       "      <td>4.0</td>\n",
       "    </tr>\n",
       "  </tbody>\n",
       "</table>\n",
       "</div>"
      ],
      "text/plain": [
       "    CustID  AgentBonus   Age  CustTenure              Channel      Occupation  \\\n",
       "0  7000000        4409  22.0         4.0                Agent        Salaried   \n",
       "1  7000001        2214  11.0         2.0  Third Party Partner        Salaried   \n",
       "2  7000002        4273  26.0         4.0                Agent     Free Lancer   \n",
       "3  7000003        1791  11.0         NaN  Third Party Partner        Salaried   \n",
       "4  7000004        2955   6.0         NaN                Agent  Small Business   \n",
       "5  7000005        3252   7.0         NaN  Third Party Partner        Salaried   \n",
       "6  7000006        3850  12.0        23.0                Agent        Salaried   \n",
       "7  7000007        2073   6.0         4.0                Agent  Small Business   \n",
       "8  7000008        2719   8.0        11.0                Agent        Salaried   \n",
       "9  7000009        3247   6.0         3.0               Online  Small Business   \n",
       "\n",
       "   EducationField   Gender  ExistingProdType Designation  NumberOfPolicy  \\\n",
       "0        Graduate   Female                 3     Manager             2.0   \n",
       "1        Graduate     Male                 4     Manager             4.0   \n",
       "2   Post Graduate     Male                 4         Exe             3.0   \n",
       "3        Graduate  Fe male                 3   Executive             3.0   \n",
       "4              UG     Male                 3   Executive             4.0   \n",
       "5        Graduate     Male                 3   Executive             2.0   \n",
       "6        Graduate     Male                 4          VP             3.0   \n",
       "7  Under Graduate   Female                 3   Executive             4.0   \n",
       "8        Graduate     Male                 4     Manager             3.0   \n",
       "9  Under Graduate     Male                 2         Exe             2.0   \n",
       "\n",
       "  MaritalStatus  MonthlyIncome  Complaint  ExistingPolicyTenure  SumAssured  \\\n",
       "0        Single        20993.0          1                   2.0    806761.0   \n",
       "1      Divorced        20130.0          0                   3.0    294502.0   \n",
       "2     Unmarried        17090.0          1                   2.0         NaN   \n",
       "3      Divorced        17909.0          1                   2.0    268635.0   \n",
       "4      Divorced        18468.0          0                   4.0    366405.0   \n",
       "5        Single        18068.0          0                   2.0    487836.0   \n",
       "6      Divorced        34999.0          0                   2.0    392689.0   \n",
       "7     Unmarried        17279.0          0                   2.0    369079.0   \n",
       "8      Divorced        20916.0          1                   1.0    405143.0   \n",
       "9       Married        17089.0          0                   1.0         NaN   \n",
       "\n",
       "    Zone PaymentMethod  LastMonthCalls  CustCareScore  \n",
       "0  North   Half Yearly               5            2.0  \n",
       "1  North        Yearly               7            3.0  \n",
       "2  North        Yearly               0            3.0  \n",
       "3   West   Half Yearly               0            5.0  \n",
       "4   West   Half Yearly               2            5.0  \n",
       "5  North   Half Yearly               6            5.0  \n",
       "6  North        Yearly               9            2.0  \n",
       "7   West   Half Yearly               3            3.0  \n",
       "8   West        Yearly               1            4.0  \n",
       "9   West     Quarterly               2            4.0  "
      ]
     },
     "execution_count": 91,
     "metadata": {},
     "output_type": "execute_result"
    }
   ],
   "source": [
    "# display few observation from dataset\n",
    "insurance_data.head(10)"
   ]
  },
  {
   "cell_type": "code",
   "execution_count": 92,
   "metadata": {},
   "outputs": [
    {
     "data": {
      "text/html": [
       "<div>\n",
       "<style scoped>\n",
       "    .dataframe tbody tr th:only-of-type {\n",
       "        vertical-align: middle;\n",
       "    }\n",
       "\n",
       "    .dataframe tbody tr th {\n",
       "        vertical-align: top;\n",
       "    }\n",
       "\n",
       "    .dataframe thead th {\n",
       "        text-align: right;\n",
       "    }\n",
       "</style>\n",
       "<table border=\"1\" class=\"dataframe\">\n",
       "  <thead>\n",
       "    <tr style=\"text-align: right;\">\n",
       "      <th></th>\n",
       "      <th>count</th>\n",
       "      <th>unique</th>\n",
       "      <th>top</th>\n",
       "      <th>freq</th>\n",
       "      <th>mean</th>\n",
       "      <th>std</th>\n",
       "      <th>min</th>\n",
       "      <th>25%</th>\n",
       "      <th>50%</th>\n",
       "      <th>75%</th>\n",
       "      <th>max</th>\n",
       "    </tr>\n",
       "  </thead>\n",
       "  <tbody>\n",
       "    <tr>\n",
       "      <td>CustID</td>\n",
       "      <td>4520</td>\n",
       "      <td>NaN</td>\n",
       "      <td>NaN</td>\n",
       "      <td>NaN</td>\n",
       "      <td>7.00226e+06</td>\n",
       "      <td>1304.96</td>\n",
       "      <td>7e+06</td>\n",
       "      <td>7.00113e+06</td>\n",
       "      <td>7.00226e+06</td>\n",
       "      <td>7.00339e+06</td>\n",
       "      <td>7.00452e+06</td>\n",
       "    </tr>\n",
       "    <tr>\n",
       "      <td>AgentBonus</td>\n",
       "      <td>4520</td>\n",
       "      <td>NaN</td>\n",
       "      <td>NaN</td>\n",
       "      <td>NaN</td>\n",
       "      <td>4077.84</td>\n",
       "      <td>1403.32</td>\n",
       "      <td>1605</td>\n",
       "      <td>3027.75</td>\n",
       "      <td>3911.5</td>\n",
       "      <td>4867.25</td>\n",
       "      <td>9608</td>\n",
       "    </tr>\n",
       "    <tr>\n",
       "      <td>Age</td>\n",
       "      <td>4251</td>\n",
       "      <td>NaN</td>\n",
       "      <td>NaN</td>\n",
       "      <td>NaN</td>\n",
       "      <td>14.4947</td>\n",
       "      <td>9.03763</td>\n",
       "      <td>2</td>\n",
       "      <td>7</td>\n",
       "      <td>13</td>\n",
       "      <td>20</td>\n",
       "      <td>58</td>\n",
       "    </tr>\n",
       "    <tr>\n",
       "      <td>CustTenure</td>\n",
       "      <td>4294</td>\n",
       "      <td>NaN</td>\n",
       "      <td>NaN</td>\n",
       "      <td>NaN</td>\n",
       "      <td>14.469</td>\n",
       "      <td>8.96367</td>\n",
       "      <td>2</td>\n",
       "      <td>7</td>\n",
       "      <td>13</td>\n",
       "      <td>20</td>\n",
       "      <td>57</td>\n",
       "    </tr>\n",
       "    <tr>\n",
       "      <td>Channel</td>\n",
       "      <td>4520</td>\n",
       "      <td>3</td>\n",
       "      <td>Agent</td>\n",
       "      <td>3194</td>\n",
       "      <td>NaN</td>\n",
       "      <td>NaN</td>\n",
       "      <td>NaN</td>\n",
       "      <td>NaN</td>\n",
       "      <td>NaN</td>\n",
       "      <td>NaN</td>\n",
       "      <td>NaN</td>\n",
       "    </tr>\n",
       "    <tr>\n",
       "      <td>Occupation</td>\n",
       "      <td>4520</td>\n",
       "      <td>5</td>\n",
       "      <td>Salaried</td>\n",
       "      <td>2192</td>\n",
       "      <td>NaN</td>\n",
       "      <td>NaN</td>\n",
       "      <td>NaN</td>\n",
       "      <td>NaN</td>\n",
       "      <td>NaN</td>\n",
       "      <td>NaN</td>\n",
       "      <td>NaN</td>\n",
       "    </tr>\n",
       "    <tr>\n",
       "      <td>EducationField</td>\n",
       "      <td>4520</td>\n",
       "      <td>7</td>\n",
       "      <td>Graduate</td>\n",
       "      <td>1870</td>\n",
       "      <td>NaN</td>\n",
       "      <td>NaN</td>\n",
       "      <td>NaN</td>\n",
       "      <td>NaN</td>\n",
       "      <td>NaN</td>\n",
       "      <td>NaN</td>\n",
       "      <td>NaN</td>\n",
       "    </tr>\n",
       "    <tr>\n",
       "      <td>Gender</td>\n",
       "      <td>4520</td>\n",
       "      <td>3</td>\n",
       "      <td>Male</td>\n",
       "      <td>2688</td>\n",
       "      <td>NaN</td>\n",
       "      <td>NaN</td>\n",
       "      <td>NaN</td>\n",
       "      <td>NaN</td>\n",
       "      <td>NaN</td>\n",
       "      <td>NaN</td>\n",
       "      <td>NaN</td>\n",
       "    </tr>\n",
       "    <tr>\n",
       "      <td>ExistingProdType</td>\n",
       "      <td>4520</td>\n",
       "      <td>NaN</td>\n",
       "      <td>NaN</td>\n",
       "      <td>NaN</td>\n",
       "      <td>3.68894</td>\n",
       "      <td>1.01577</td>\n",
       "      <td>1</td>\n",
       "      <td>3</td>\n",
       "      <td>4</td>\n",
       "      <td>4</td>\n",
       "      <td>6</td>\n",
       "    </tr>\n",
       "    <tr>\n",
       "      <td>Designation</td>\n",
       "      <td>4520</td>\n",
       "      <td>6</td>\n",
       "      <td>Manager</td>\n",
       "      <td>1620</td>\n",
       "      <td>NaN</td>\n",
       "      <td>NaN</td>\n",
       "      <td>NaN</td>\n",
       "      <td>NaN</td>\n",
       "      <td>NaN</td>\n",
       "      <td>NaN</td>\n",
       "      <td>NaN</td>\n",
       "    </tr>\n",
       "    <tr>\n",
       "      <td>NumberOfPolicy</td>\n",
       "      <td>4475</td>\n",
       "      <td>NaN</td>\n",
       "      <td>NaN</td>\n",
       "      <td>NaN</td>\n",
       "      <td>3.56536</td>\n",
       "      <td>1.45593</td>\n",
       "      <td>1</td>\n",
       "      <td>2</td>\n",
       "      <td>4</td>\n",
       "      <td>5</td>\n",
       "      <td>6</td>\n",
       "    </tr>\n",
       "    <tr>\n",
       "      <td>MaritalStatus</td>\n",
       "      <td>4520</td>\n",
       "      <td>4</td>\n",
       "      <td>Married</td>\n",
       "      <td>2268</td>\n",
       "      <td>NaN</td>\n",
       "      <td>NaN</td>\n",
       "      <td>NaN</td>\n",
       "      <td>NaN</td>\n",
       "      <td>NaN</td>\n",
       "      <td>NaN</td>\n",
       "      <td>NaN</td>\n",
       "    </tr>\n",
       "    <tr>\n",
       "      <td>MonthlyIncome</td>\n",
       "      <td>4284</td>\n",
       "      <td>NaN</td>\n",
       "      <td>NaN</td>\n",
       "      <td>NaN</td>\n",
       "      <td>22890.3</td>\n",
       "      <td>4885.6</td>\n",
       "      <td>16009</td>\n",
       "      <td>19683.5</td>\n",
       "      <td>21606</td>\n",
       "      <td>24725</td>\n",
       "      <td>38456</td>\n",
       "    </tr>\n",
       "    <tr>\n",
       "      <td>Complaint</td>\n",
       "      <td>4520</td>\n",
       "      <td>NaN</td>\n",
       "      <td>NaN</td>\n",
       "      <td>NaN</td>\n",
       "      <td>0.287168</td>\n",
       "      <td>0.452491</td>\n",
       "      <td>0</td>\n",
       "      <td>0</td>\n",
       "      <td>0</td>\n",
       "      <td>1</td>\n",
       "      <td>1</td>\n",
       "    </tr>\n",
       "    <tr>\n",
       "      <td>ExistingPolicyTenure</td>\n",
       "      <td>4336</td>\n",
       "      <td>NaN</td>\n",
       "      <td>NaN</td>\n",
       "      <td>NaN</td>\n",
       "      <td>4.13007</td>\n",
       "      <td>3.34639</td>\n",
       "      <td>1</td>\n",
       "      <td>2</td>\n",
       "      <td>3</td>\n",
       "      <td>6</td>\n",
       "      <td>25</td>\n",
       "    </tr>\n",
       "    <tr>\n",
       "      <td>SumAssured</td>\n",
       "      <td>4366</td>\n",
       "      <td>NaN</td>\n",
       "      <td>NaN</td>\n",
       "      <td>NaN</td>\n",
       "      <td>620000</td>\n",
       "      <td>246235</td>\n",
       "      <td>168536</td>\n",
       "      <td>439443</td>\n",
       "      <td>578976</td>\n",
       "      <td>758236</td>\n",
       "      <td>1.8385e+06</td>\n",
       "    </tr>\n",
       "    <tr>\n",
       "      <td>Zone</td>\n",
       "      <td>4520</td>\n",
       "      <td>4</td>\n",
       "      <td>West</td>\n",
       "      <td>2566</td>\n",
       "      <td>NaN</td>\n",
       "      <td>NaN</td>\n",
       "      <td>NaN</td>\n",
       "      <td>NaN</td>\n",
       "      <td>NaN</td>\n",
       "      <td>NaN</td>\n",
       "      <td>NaN</td>\n",
       "    </tr>\n",
       "    <tr>\n",
       "      <td>PaymentMethod</td>\n",
       "      <td>4520</td>\n",
       "      <td>4</td>\n",
       "      <td>Half Yearly</td>\n",
       "      <td>2656</td>\n",
       "      <td>NaN</td>\n",
       "      <td>NaN</td>\n",
       "      <td>NaN</td>\n",
       "      <td>NaN</td>\n",
       "      <td>NaN</td>\n",
       "      <td>NaN</td>\n",
       "      <td>NaN</td>\n",
       "    </tr>\n",
       "    <tr>\n",
       "      <td>LastMonthCalls</td>\n",
       "      <td>4520</td>\n",
       "      <td>NaN</td>\n",
       "      <td>NaN</td>\n",
       "      <td>NaN</td>\n",
       "      <td>4.62699</td>\n",
       "      <td>3.62013</td>\n",
       "      <td>0</td>\n",
       "      <td>2</td>\n",
       "      <td>3</td>\n",
       "      <td>8</td>\n",
       "      <td>18</td>\n",
       "    </tr>\n",
       "    <tr>\n",
       "      <td>CustCareScore</td>\n",
       "      <td>4468</td>\n",
       "      <td>NaN</td>\n",
       "      <td>NaN</td>\n",
       "      <td>NaN</td>\n",
       "      <td>3.06759</td>\n",
       "      <td>1.38297</td>\n",
       "      <td>1</td>\n",
       "      <td>2</td>\n",
       "      <td>3</td>\n",
       "      <td>4</td>\n",
       "      <td>5</td>\n",
       "    </tr>\n",
       "  </tbody>\n",
       "</table>\n",
       "</div>"
      ],
      "text/plain": [
       "                     count unique          top  freq         mean       std  \\\n",
       "CustID                4520    NaN          NaN   NaN  7.00226e+06   1304.96   \n",
       "AgentBonus            4520    NaN          NaN   NaN      4077.84   1403.32   \n",
       "Age                   4251    NaN          NaN   NaN      14.4947   9.03763   \n",
       "CustTenure            4294    NaN          NaN   NaN       14.469   8.96367   \n",
       "Channel               4520      3        Agent  3194          NaN       NaN   \n",
       "Occupation            4520      5     Salaried  2192          NaN       NaN   \n",
       "EducationField        4520      7     Graduate  1870          NaN       NaN   \n",
       "Gender                4520      3         Male  2688          NaN       NaN   \n",
       "ExistingProdType      4520    NaN          NaN   NaN      3.68894   1.01577   \n",
       "Designation           4520      6      Manager  1620          NaN       NaN   \n",
       "NumberOfPolicy        4475    NaN          NaN   NaN      3.56536   1.45593   \n",
       "MaritalStatus         4520      4      Married  2268          NaN       NaN   \n",
       "MonthlyIncome         4284    NaN          NaN   NaN      22890.3    4885.6   \n",
       "Complaint             4520    NaN          NaN   NaN     0.287168  0.452491   \n",
       "ExistingPolicyTenure  4336    NaN          NaN   NaN      4.13007   3.34639   \n",
       "SumAssured            4366    NaN          NaN   NaN       620000    246235   \n",
       "Zone                  4520      4         West  2566          NaN       NaN   \n",
       "PaymentMethod         4520      4  Half Yearly  2656          NaN       NaN   \n",
       "LastMonthCalls        4520    NaN          NaN   NaN      4.62699   3.62013   \n",
       "CustCareScore         4468    NaN          NaN   NaN      3.06759   1.38297   \n",
       "\n",
       "                         min          25%          50%          75%  \\\n",
       "CustID                 7e+06  7.00113e+06  7.00226e+06  7.00339e+06   \n",
       "AgentBonus              1605      3027.75       3911.5      4867.25   \n",
       "Age                        2            7           13           20   \n",
       "CustTenure                 2            7           13           20   \n",
       "Channel                  NaN          NaN          NaN          NaN   \n",
       "Occupation               NaN          NaN          NaN          NaN   \n",
       "EducationField           NaN          NaN          NaN          NaN   \n",
       "Gender                   NaN          NaN          NaN          NaN   \n",
       "ExistingProdType           1            3            4            4   \n",
       "Designation              NaN          NaN          NaN          NaN   \n",
       "NumberOfPolicy             1            2            4            5   \n",
       "MaritalStatus            NaN          NaN          NaN          NaN   \n",
       "MonthlyIncome          16009      19683.5        21606        24725   \n",
       "Complaint                  0            0            0            1   \n",
       "ExistingPolicyTenure       1            2            3            6   \n",
       "SumAssured            168536       439443       578976       758236   \n",
       "Zone                     NaN          NaN          NaN          NaN   \n",
       "PaymentMethod            NaN          NaN          NaN          NaN   \n",
       "LastMonthCalls             0            2            3            8   \n",
       "CustCareScore              1            2            3            4   \n",
       "\n",
       "                              max  \n",
       "CustID                7.00452e+06  \n",
       "AgentBonus                   9608  \n",
       "Age                            58  \n",
       "CustTenure                     57  \n",
       "Channel                       NaN  \n",
       "Occupation                    NaN  \n",
       "EducationField                NaN  \n",
       "Gender                        NaN  \n",
       "ExistingProdType                6  \n",
       "Designation                   NaN  \n",
       "NumberOfPolicy                  6  \n",
       "MaritalStatus                 NaN  \n",
       "MonthlyIncome               38456  \n",
       "Complaint                       1  \n",
       "ExistingPolicyTenure           25  \n",
       "SumAssured             1.8385e+06  \n",
       "Zone                          NaN  \n",
       "PaymentMethod                 NaN  \n",
       "LastMonthCalls                 18  \n",
       "CustCareScore                   5  "
      ]
     },
     "execution_count": 92,
     "metadata": {},
     "output_type": "execute_result"
    }
   ],
   "source": [
    "# summary of features\n",
    "insurance_data.describe(include=\"all\").transpose()"
   ]
  },
  {
   "cell_type": "code",
   "execution_count": 93,
   "metadata": {},
   "outputs": [
    {
     "name": "stdout",
     "output_type": "stream",
     "text": [
      "<class 'pandas.core.frame.DataFrame'>\n",
      "RangeIndex: 4520 entries, 0 to 4519\n",
      "Data columns (total 20 columns):\n",
      "CustID                  4520 non-null int64\n",
      "AgentBonus              4520 non-null int64\n",
      "Age                     4251 non-null float64\n",
      "CustTenure              4294 non-null float64\n",
      "Channel                 4520 non-null object\n",
      "Occupation              4520 non-null object\n",
      "EducationField          4520 non-null object\n",
      "Gender                  4520 non-null object\n",
      "ExistingProdType        4520 non-null int64\n",
      "Designation             4520 non-null object\n",
      "NumberOfPolicy          4475 non-null float64\n",
      "MaritalStatus           4520 non-null object\n",
      "MonthlyIncome           4284 non-null float64\n",
      "Complaint               4520 non-null int64\n",
      "ExistingPolicyTenure    4336 non-null float64\n",
      "SumAssured              4366 non-null float64\n",
      "Zone                    4520 non-null object\n",
      "PaymentMethod           4520 non-null object\n",
      "LastMonthCalls          4520 non-null int64\n",
      "CustCareScore           4468 non-null float64\n",
      "dtypes: float64(7), int64(5), object(8)\n",
      "memory usage: 706.4+ KB\n"
     ]
    }
   ],
   "source": [
    "# display feature types \n",
    "insurance_data.info()"
   ]
  },
  {
   "cell_type": "code",
   "execution_count": 94,
   "metadata": {},
   "outputs": [
    {
     "data": {
      "text/plain": [
       "CustID                    0\n",
       "AgentBonus                0\n",
       "Age                     269\n",
       "CustTenure              226\n",
       "Channel                   0\n",
       "Occupation                0\n",
       "EducationField            0\n",
       "Gender                    0\n",
       "ExistingProdType          0\n",
       "Designation               0\n",
       "NumberOfPolicy           45\n",
       "MaritalStatus             0\n",
       "MonthlyIncome           236\n",
       "Complaint                 0\n",
       "ExistingPolicyTenure    184\n",
       "SumAssured              154\n",
       "Zone                      0\n",
       "PaymentMethod             0\n",
       "LastMonthCalls            0\n",
       "CustCareScore            52\n",
       "dtype: int64"
      ]
     },
     "execution_count": 94,
     "metadata": {},
     "output_type": "execute_result"
    }
   ],
   "source": [
    "insurance_data.isna().sum()"
   ]
  },
  {
   "cell_type": "code",
   "execution_count": 95,
   "metadata": {},
   "outputs": [],
   "source": [
    "insurance_data_original = insurance_data.copy()"
   ]
  },
  {
   "cell_type": "code",
   "execution_count": 96,
   "metadata": {
    "scrolled": true
   },
   "outputs": [
    {
     "name": "stdout",
     "output_type": "stream",
     "text": [
      "Channel  -----  ['Agent' 'Third Party Partner' 'Online']\n",
      "Occupation  -----  ['Salaried' 'Free Lancer' 'Small Business' 'Laarge Business'\n",
      " 'Large Business']\n",
      "EducationField  -----  ['Graduate' 'Post Graduate' 'UG' 'Under Graduate' 'Engineer' 'Diploma'\n",
      " 'MBA']\n",
      "Gender  -----  ['Female' 'Male' 'Fe male']\n",
      "Designation  -----  ['Manager' 'Exe' 'Executive' 'VP' 'AVP' 'Senior Manager']\n",
      "MaritalStatus  -----  ['Single' 'Divorced' 'Unmarried' 'Married']\n",
      "Zone  -----  ['North' 'West' 'East' 'South']\n",
      "PaymentMethod  -----  ['Half Yearly' 'Yearly' 'Quarterly' 'Monthly']\n"
     ]
    }
   ],
   "source": [
    "# get the unique values of categorical data set\n",
    "for columns in insurance_data.columns:\n",
    "    if insurance_data[columns].dtypes ==\"object\":\n",
    "        print(columns, \" ----- \" , insurance_data[columns].unique())"
   ]
  },
  {
   "cell_type": "code",
   "execution_count": 97,
   "metadata": {},
   "outputs": [],
   "source": [
    "# Rename the similar values\n",
    "insurance_data[\"Occupation\"].replace({\"Laarge Business\":\"Large Business\"},inplace=True)\n",
    "insurance_data[\"EducationField\"].replace({\"UG\":\"Under Graduate\"},inplace=True)\n",
    "insurance_data[\"Gender\"].replace({\"Fe male\":\"Female\"},inplace=True)\n",
    "insurance_data[\"MaritalStatus\"].replace({\"Unmarried\":\"Single\"},inplace=True)"
   ]
  },
  {
   "cell_type": "code",
   "execution_count": 98,
   "metadata": {},
   "outputs": [
    {
     "name": "stdout",
     "output_type": "stream",
     "text": [
      "Channel  -----  ['Agent' 'Third Party Partner' 'Online']\n",
      "Occupation  -----  ['Salaried' 'Free Lancer' 'Small Business' 'Large Business']\n",
      "EducationField  -----  ['Graduate' 'Post Graduate' 'Under Graduate' 'Engineer' 'Diploma' 'MBA']\n",
      "Gender  -----  ['Female' 'Male']\n",
      "Designation  -----  ['Manager' 'Exe' 'Executive' 'VP' 'AVP' 'Senior Manager']\n",
      "MaritalStatus  -----  ['Single' 'Divorced' 'Married']\n",
      "Zone  -----  ['North' 'West' 'East' 'South']\n",
      "PaymentMethod  -----  ['Half Yearly' 'Yearly' 'Quarterly' 'Monthly']\n"
     ]
    }
   ],
   "source": [
    "# get the unique values of categorical data set\n",
    "for columns in insurance_data.columns:\n",
    "    if insurance_data[columns].dtypes ==\"object\":\n",
    "        print(columns, \" ----- \" , insurance_data[columns].unique())"
   ]
  },
  {
   "cell_type": "code",
   "execution_count": 99,
   "metadata": {},
   "outputs": [
    {
     "data": {
      "text/plain": [
       "Index(['CustID', 'AgentBonus', 'Age', 'CustTenure', 'Channel', 'Occupation',\n",
       "       'EducationField', 'Gender', 'ExistingProdType', 'Designation',\n",
       "       'NumberOfPolicy', 'MaritalStatus', 'MonthlyIncome', 'Complaint',\n",
       "       'ExistingPolicyTenure', 'SumAssured', 'Zone', 'PaymentMethod',\n",
       "       'LastMonthCalls', 'CustCareScore'],\n",
       "      dtype='object')"
      ]
     },
     "execution_count": 99,
     "metadata": {},
     "output_type": "execute_result"
    }
   ],
   "source": [
    "insurance_data.columns"
   ]
  },
  {
   "cell_type": "code",
   "execution_count": 100,
   "metadata": {},
   "outputs": [],
   "source": [
    "# drop the necessary columns\n",
    "insurance_data.drop([\"CustID\"], inplace=True, axis=1)"
   ]
  },
  {
   "cell_type": "code",
   "execution_count": 101,
   "metadata": {},
   "outputs": [
    {
     "data": {
      "text/plain": [
       "Index(['AgentBonus', 'Age', 'CustTenure', 'Channel', 'Occupation',\n",
       "       'EducationField', 'Gender', 'ExistingProdType', 'Designation',\n",
       "       'NumberOfPolicy', 'MaritalStatus', 'MonthlyIncome', 'Complaint',\n",
       "       'ExistingPolicyTenure', 'SumAssured', 'Zone', 'PaymentMethod',\n",
       "       'LastMonthCalls', 'CustCareScore'],\n",
       "      dtype='object')"
      ]
     },
     "execution_count": 101,
     "metadata": {},
     "output_type": "execute_result"
    }
   ],
   "source": [
    "insurance_data.columns"
   ]
  },
  {
   "cell_type": "code",
   "execution_count": 102,
   "metadata": {},
   "outputs": [],
   "source": [
    "import seaborn as sns"
   ]
  },
  {
   "cell_type": "code",
   "execution_count": 103,
   "metadata": {},
   "outputs": [],
   "source": [
    "# get the number value features\n",
    "numerical_columns =[]\n",
    "for columns in insurance_data.columns:\n",
    "    if insurance_data[columns].dtypes !=\"object\":\n",
    "        numerical_columns.append(columns)       "
   ]
  },
  {
   "cell_type": "code",
   "execution_count": 104,
   "metadata": {},
   "outputs": [
    {
     "data": {
      "text/plain": [
       "6"
      ]
     },
     "execution_count": 104,
     "metadata": {},
     "output_type": "execute_result"
    }
   ],
   "source": [
    "import math\n",
    "math.ceil(len(numerical_columns)/2)"
   ]
  },
  {
   "cell_type": "code",
   "execution_count": 105,
   "metadata": {
    "scrolled": true
   },
   "outputs": [
    {
     "name": "stdout",
     "output_type": "stream",
     "text": [
      "0 AgentBonus\n",
      "1 Age\n",
      "2 CustTenure\n",
      "3 ExistingProdType\n",
      "4 NumberOfPolicy\n",
      "5 MonthlyIncome\n",
      "6 Complaint\n",
      "7 ExistingPolicyTenure\n",
      "8 SumAssured\n",
      "9 LastMonthCalls\n",
      "10 CustCareScore\n"
     ]
    }
   ],
   "source": [
    "for j , column in enumerate(numerical_columns):\n",
    "    print(j , column)"
   ]
  },
  {
   "cell_type": "code",
   "execution_count": 106,
   "metadata": {},
   "outputs": [],
   "source": [
    "for column in numerical_columns:\n",
    "    if insurance_data[column].isna().sum() > 0:\n",
    "        insurance_data[column].fillna( insurance_data[column].median(), axis=0, inplace=True)"
   ]
  },
  {
   "cell_type": "code",
   "execution_count": 107,
   "metadata": {
    "scrolled": true
   },
   "outputs": [
    {
     "data": {
      "text/plain": [
       "AgentBonus              0\n",
       "Age                     0\n",
       "CustTenure              0\n",
       "Channel                 0\n",
       "Occupation              0\n",
       "EducationField          0\n",
       "Gender                  0\n",
       "ExistingProdType        0\n",
       "Designation             0\n",
       "NumberOfPolicy          0\n",
       "MaritalStatus           0\n",
       "MonthlyIncome           0\n",
       "Complaint               0\n",
       "ExistingPolicyTenure    0\n",
       "SumAssured              0\n",
       "Zone                    0\n",
       "PaymentMethod           0\n",
       "LastMonthCalls          0\n",
       "CustCareScore           0\n",
       "dtype: int64"
      ]
     },
     "execution_count": 107,
     "metadata": {},
     "output_type": "execute_result"
    }
   ],
   "source": [
    "insurance_data.isna().sum()"
   ]
  },
  {
   "cell_type": "code",
   "execution_count": 110,
   "metadata": {},
   "outputs": [],
   "source": [
    "two_value_columns =[]\n",
    "multi_value_columns =[]\n",
    "for columns in insurance_data.columns:\n",
    "    if insurance_data[columns].dtypes ==\"object\":\n",
    "        if insurance_data[columns].nunique() <= 2:\n",
    "             two_value_columns.append(columns)\n",
    "             insurance_data[columns] = pd.Categorical(insurance_data[columns]).codes \n",
    "        else:\n",
    "             multi_value_columns.append(columns)"
   ]
  },
  {
   "cell_type": "code",
   "execution_count": 111,
   "metadata": {},
   "outputs": [],
   "source": [
    "insurance_data =pd.get_dummies(insurance_data, columns=multi_value_columns,drop_first=True)"
   ]
  },
  {
   "cell_type": "code",
   "execution_count": 112,
   "metadata": {},
   "outputs": [],
   "source": [
    "# impute null values using KNNImputer\n",
    "# from sklearn.impute import KNNImputer\n",
    "# imputer = KNNImputer(n_neighbors=5)\n",
    "# imputed_data = imputer.fit_transform(insurance_data[numerical_columns])"
   ]
  },
  {
   "cell_type": "code",
   "execution_count": 113,
   "metadata": {},
   "outputs": [
    {
     "data": {
      "text/html": [
       "<div>\n",
       "<style scoped>\n",
       "    .dataframe tbody tr th:only-of-type {\n",
       "        vertical-align: middle;\n",
       "    }\n",
       "\n",
       "    .dataframe tbody tr th {\n",
       "        vertical-align: top;\n",
       "    }\n",
       "\n",
       "    .dataframe thead th {\n",
       "        text-align: right;\n",
       "    }\n",
       "</style>\n",
       "<table border=\"1\" class=\"dataframe\">\n",
       "  <thead>\n",
       "    <tr style=\"text-align: right;\">\n",
       "      <th></th>\n",
       "      <th>AgentBonus</th>\n",
       "      <th>Age</th>\n",
       "      <th>CustTenure</th>\n",
       "      <th>Gender</th>\n",
       "      <th>ExistingProdType</th>\n",
       "      <th>NumberOfPolicy</th>\n",
       "      <th>MonthlyIncome</th>\n",
       "      <th>Complaint</th>\n",
       "      <th>ExistingPolicyTenure</th>\n",
       "      <th>SumAssured</th>\n",
       "      <th>...</th>\n",
       "      <th>Designation_Senior Manager</th>\n",
       "      <th>Designation_VP</th>\n",
       "      <th>MaritalStatus_Married</th>\n",
       "      <th>MaritalStatus_Single</th>\n",
       "      <th>Zone_North</th>\n",
       "      <th>Zone_South</th>\n",
       "      <th>Zone_West</th>\n",
       "      <th>PaymentMethod_Monthly</th>\n",
       "      <th>PaymentMethod_Quarterly</th>\n",
       "      <th>PaymentMethod_Yearly</th>\n",
       "    </tr>\n",
       "  </thead>\n",
       "  <tbody>\n",
       "    <tr>\n",
       "      <td>0</td>\n",
       "      <td>4409</td>\n",
       "      <td>22.0</td>\n",
       "      <td>4.0</td>\n",
       "      <td>0</td>\n",
       "      <td>3</td>\n",
       "      <td>2.0</td>\n",
       "      <td>20993.0</td>\n",
       "      <td>1</td>\n",
       "      <td>2.0</td>\n",
       "      <td>806761.0</td>\n",
       "      <td>...</td>\n",
       "      <td>0</td>\n",
       "      <td>0</td>\n",
       "      <td>0</td>\n",
       "      <td>1</td>\n",
       "      <td>1</td>\n",
       "      <td>0</td>\n",
       "      <td>0</td>\n",
       "      <td>0</td>\n",
       "      <td>0</td>\n",
       "      <td>0</td>\n",
       "    </tr>\n",
       "    <tr>\n",
       "      <td>1</td>\n",
       "      <td>2214</td>\n",
       "      <td>11.0</td>\n",
       "      <td>2.0</td>\n",
       "      <td>1</td>\n",
       "      <td>4</td>\n",
       "      <td>4.0</td>\n",
       "      <td>20130.0</td>\n",
       "      <td>0</td>\n",
       "      <td>3.0</td>\n",
       "      <td>294502.0</td>\n",
       "      <td>...</td>\n",
       "      <td>0</td>\n",
       "      <td>0</td>\n",
       "      <td>0</td>\n",
       "      <td>0</td>\n",
       "      <td>1</td>\n",
       "      <td>0</td>\n",
       "      <td>0</td>\n",
       "      <td>0</td>\n",
       "      <td>0</td>\n",
       "      <td>1</td>\n",
       "    </tr>\n",
       "    <tr>\n",
       "      <td>2</td>\n",
       "      <td>4273</td>\n",
       "      <td>26.0</td>\n",
       "      <td>4.0</td>\n",
       "      <td>1</td>\n",
       "      <td>4</td>\n",
       "      <td>3.0</td>\n",
       "      <td>17090.0</td>\n",
       "      <td>1</td>\n",
       "      <td>2.0</td>\n",
       "      <td>578976.5</td>\n",
       "      <td>...</td>\n",
       "      <td>0</td>\n",
       "      <td>0</td>\n",
       "      <td>0</td>\n",
       "      <td>1</td>\n",
       "      <td>1</td>\n",
       "      <td>0</td>\n",
       "      <td>0</td>\n",
       "      <td>0</td>\n",
       "      <td>0</td>\n",
       "      <td>1</td>\n",
       "    </tr>\n",
       "    <tr>\n",
       "      <td>3</td>\n",
       "      <td>1791</td>\n",
       "      <td>11.0</td>\n",
       "      <td>13.0</td>\n",
       "      <td>0</td>\n",
       "      <td>3</td>\n",
       "      <td>3.0</td>\n",
       "      <td>17909.0</td>\n",
       "      <td>1</td>\n",
       "      <td>2.0</td>\n",
       "      <td>268635.0</td>\n",
       "      <td>...</td>\n",
       "      <td>0</td>\n",
       "      <td>0</td>\n",
       "      <td>0</td>\n",
       "      <td>0</td>\n",
       "      <td>0</td>\n",
       "      <td>0</td>\n",
       "      <td>1</td>\n",
       "      <td>0</td>\n",
       "      <td>0</td>\n",
       "      <td>0</td>\n",
       "    </tr>\n",
       "    <tr>\n",
       "      <td>4</td>\n",
       "      <td>2955</td>\n",
       "      <td>6.0</td>\n",
       "      <td>13.0</td>\n",
       "      <td>1</td>\n",
       "      <td>3</td>\n",
       "      <td>4.0</td>\n",
       "      <td>18468.0</td>\n",
       "      <td>0</td>\n",
       "      <td>4.0</td>\n",
       "      <td>366405.0</td>\n",
       "      <td>...</td>\n",
       "      <td>0</td>\n",
       "      <td>0</td>\n",
       "      <td>0</td>\n",
       "      <td>0</td>\n",
       "      <td>0</td>\n",
       "      <td>0</td>\n",
       "      <td>1</td>\n",
       "      <td>0</td>\n",
       "      <td>0</td>\n",
       "      <td>0</td>\n",
       "    </tr>\n",
       "  </tbody>\n",
       "</table>\n",
       "<p>5 rows × 35 columns</p>\n",
       "</div>"
      ],
      "text/plain": [
       "   AgentBonus   Age  CustTenure  Gender  ExistingProdType  NumberOfPolicy  \\\n",
       "0        4409  22.0         4.0       0                 3             2.0   \n",
       "1        2214  11.0         2.0       1                 4             4.0   \n",
       "2        4273  26.0         4.0       1                 4             3.0   \n",
       "3        1791  11.0        13.0       0                 3             3.0   \n",
       "4        2955   6.0        13.0       1                 3             4.0   \n",
       "\n",
       "   MonthlyIncome  Complaint  ExistingPolicyTenure  SumAssured  ...  \\\n",
       "0        20993.0          1                   2.0    806761.0  ...   \n",
       "1        20130.0          0                   3.0    294502.0  ...   \n",
       "2        17090.0          1                   2.0    578976.5  ...   \n",
       "3        17909.0          1                   2.0    268635.0  ...   \n",
       "4        18468.0          0                   4.0    366405.0  ...   \n",
       "\n",
       "   Designation_Senior Manager  Designation_VP  MaritalStatus_Married  \\\n",
       "0                           0               0                      0   \n",
       "1                           0               0                      0   \n",
       "2                           0               0                      0   \n",
       "3                           0               0                      0   \n",
       "4                           0               0                      0   \n",
       "\n",
       "   MaritalStatus_Single  Zone_North  Zone_South  Zone_West  \\\n",
       "0                     1           1           0          0   \n",
       "1                     0           1           0          0   \n",
       "2                     1           1           0          0   \n",
       "3                     0           0           0          1   \n",
       "4                     0           0           0          1   \n",
       "\n",
       "   PaymentMethod_Monthly  PaymentMethod_Quarterly  PaymentMethod_Yearly  \n",
       "0                      0                        0                     0  \n",
       "1                      0                        0                     1  \n",
       "2                      0                        0                     1  \n",
       "3                      0                        0                     0  \n",
       "4                      0                        0                     0  \n",
       "\n",
       "[5 rows x 35 columns]"
      ]
     },
     "execution_count": 113,
     "metadata": {},
     "output_type": "execute_result"
    }
   ],
   "source": [
    "insurance_data.head()"
   ]
  },
  {
   "cell_type": "code",
   "execution_count": 114,
   "metadata": {},
   "outputs": [],
   "source": [
    "for columns in insurance_data.columns:\n",
    "    if insurance_data[columns].dtypes !=\"object\":\n",
    "        if insurance_data[columns].isna().sum() > 0:            \n",
    "             insurance_data[columns].fillna(insurance_data[columns].median())"
   ]
  },
  {
   "cell_type": "code",
   "execution_count": 115,
   "metadata": {},
   "outputs": [
    {
     "data": {
      "text/plain": [
       "['AgentBonus',\n",
       " 'Age',\n",
       " 'CustTenure',\n",
       " 'ExistingProdType',\n",
       " 'NumberOfPolicy',\n",
       " 'MonthlyIncome',\n",
       " 'Complaint',\n",
       " 'ExistingPolicyTenure',\n",
       " 'SumAssured',\n",
       " 'LastMonthCalls',\n",
       " 'CustCareScore']"
      ]
     },
     "execution_count": 115,
     "metadata": {},
     "output_type": "execute_result"
    }
   ],
   "source": [
    "numerical_columns"
   ]
  },
  {
   "cell_type": "code",
   "execution_count": 116,
   "metadata": {},
   "outputs": [
    {
     "data": {
      "text/plain": [
       "6"
      ]
     },
     "execution_count": 116,
     "metadata": {},
     "output_type": "execute_result"
    }
   ],
   "source": [
    "math.ceil(len(numerical_columns)/2)"
   ]
  },
  {
   "cell_type": "markdown",
   "metadata": {},
   "source": [
    "figure, axis = plt.subplots(math.ceil(len(numerical_columns)/2), 2)\n",
    "for j , column in enumerate(numerical_columns):\n",
    "    if (j+1)%2 ==0:\n",
    "        axis[j, 0].boxplot(insurance_data[column])\n",
    "        axis[j, 0].set_title(column, \" outlier boxplot\")\n",
    "    else:\n",
    "        axis[j,1].boxplot(insurance_data[column])\n",
    "        axis[j,1].set_title(column, \" outlier boxplot\")\n",
    "\n",
    "figure.set_figheight(10)\n",
    "figure.set_figwidth(15)\n"
   ]
  },
  {
   "cell_type": "code",
   "execution_count": 117,
   "metadata": {},
   "outputs": [
    {
     "data": {
      "text/plain": [
       "['AgentBonus',\n",
       " 'Age',\n",
       " 'CustTenure',\n",
       " 'ExistingProdType',\n",
       " 'NumberOfPolicy',\n",
       " 'MonthlyIncome',\n",
       " 'Complaint',\n",
       " 'ExistingPolicyTenure',\n",
       " 'SumAssured',\n",
       " 'LastMonthCalls',\n",
       " 'CustCareScore']"
      ]
     },
     "execution_count": 117,
     "metadata": {},
     "output_type": "execute_result"
    }
   ],
   "source": [
    "numerical_columns"
   ]
  },
  {
   "cell_type": "code",
   "execution_count": 118,
   "metadata": {
    "scrolled": true
   },
   "outputs": [
    {
     "data": {
      "image/png": "[encoded data removed]",
      "text/plain": [
       "<Figure size 1080x1440 with 12 Axes>"
      ]
     },
     "metadata": {
      "needs_background": "light"
     },
     "output_type": "display_data"
    }
   ],
   "source": [
    "figure, axis = plt.subplots(6, 2)\n",
    "axis[0, 0].boxplot(insurance_data['AgentBonus'])\n",
    "axis[0, 0].set_title(\"AgentBonus outlier boxplot\")\n",
    "\n",
    "axis[0, 1].boxplot(insurance_data['Age'])\n",
    "axis[0, 1].set_title(\"Age outlier boxplot\")\n",
    "\n",
    "axis[1, 0].boxplot(insurance_data['CustTenure'])\n",
    "axis[1, 0].set_title(\"CustTenure outlier boxplot\")\n",
    "\n",
    "axis[1, 1].boxplot(insurance_data['ExistingProdType'])\n",
    "axis[1, 1].set_title(\"ExistingProdType outlier boxplot\")\n",
    "\n",
    "axis[2, 0].boxplot(insurance_data['NumberOfPolicy'])\n",
    "axis[2, 0].set_title(\"NumberOfPolicy outlier boxplot\")\n",
    "\n",
    "axis[2, 1].boxplot(insurance_data['MonthlyIncome'])\n",
    "axis[2, 1].set_title(\"MonthlyIncome outlier boxplot\")\n",
    "\n",
    "axis[3, 0].boxplot(insurance_data['CustTenure'])\n",
    "axis[3, 0].set_title(\"CustTenure outlier boxplot\")\n",
    "\n",
    "axis[3, 1].boxplot(insurance_data['Complaint'])\n",
    "axis[3, 1].set_title(\"Complaint outlier boxplot\")\n",
    "\n",
    "axis[4, 0].boxplot(insurance_data['ExistingPolicyTenure'])\n",
    "axis[4, 0].set_title(\"ExistingPolicyTenure outlier boxplot\")\n",
    "\n",
    "axis[4, 1].boxplot(insurance_data['SumAssured'])\n",
    "axis[4, 1].set_title(\"SumAssured outlier boxplot\")\n",
    "\n",
    "axis[5, 0].boxplot(insurance_data['LastMonthCalls'])\n",
    "axis[5, 0].set_title(\"LastMonthCalls outlier boxplot\")\n",
    "\n",
    "axis[5, 1].boxplot(insurance_data['CustCareScore'])\n",
    "axis[5, 1].set_title(\"CustCareScore boxplot\")\n",
    "\n",
    "figure.set_figheight(20)\n",
    "figure.set_figwidth(15)\n"
   ]
  },
  {
   "cell_type": "markdown",
   "metadata": {},
   "source": [
    "from sklearn.preprocessing import StandardScaler\n",
    "std_scale = StandardScaler()\n",
    "std_scale"
   ]
  },
  {
   "cell_type": "markdown",
   "metadata": {},
   "source": [
    "for column in insurance_data.columns:\n",
    "     insurance_data[column]=   std_scale.fit_transform(insurance_data[[column]])"
   ]
  },
  {
   "cell_type": "code",
   "execution_count": 119,
   "metadata": {},
   "outputs": [],
   "source": [
    "from sklearn.preprocessing import MinMaxScaler"
   ]
  },
  {
   "cell_type": "code",
   "execution_count": 120,
   "metadata": {},
   "outputs": [],
   "source": [
    "std_scale = MinMaxScaler()\n",
    "for column in insurance_data.columns:\n",
    "     insurance_data[column]=   std_scale.fit_transform(insurance_data[[column]])"
   ]
  },
  {
   "cell_type": "code",
   "execution_count": 121,
   "metadata": {},
   "outputs": [],
   "source": [
    "X = insurance_data.drop([\"AgentBonus\"] , axis=1)\n",
    "\n",
    "y = insurance_data[[\"AgentBonus\"]]"
   ]
  },
  {
   "cell_type": "code",
   "execution_count": 122,
   "metadata": {},
   "outputs": [],
   "source": [
    "from sklearn.model_selection import train_test_split"
   ]
  },
  {
   "cell_type": "code",
   "execution_count": 123,
   "metadata": {},
   "outputs": [],
   "source": [
    "X_train, X_test, y_train, y_test = train_test_split(X, y, test_size=0.20, random_state=1)"
   ]
  },
  {
   "cell_type": "code",
   "execution_count": 124,
   "metadata": {},
   "outputs": [
    {
     "data": {
      "text/plain": [
       "Age                              0\n",
       "CustTenure                       0\n",
       "Gender                           0\n",
       "ExistingProdType                 0\n",
       "NumberOfPolicy                   0\n",
       "MonthlyIncome                    0\n",
       "Complaint                        0\n",
       "ExistingPolicyTenure             0\n",
       "SumAssured                       0\n",
       "LastMonthCalls                   0\n",
       "CustCareScore                    0\n",
       "Channel_Online                   0\n",
       "Channel_Third Party Partner      0\n",
       "Occupation_Large Business        0\n",
       "Occupation_Salaried              0\n",
       "Occupation_Small Business        0\n",
       "EducationField_Engineer          0\n",
       "EducationField_Graduate          0\n",
       "EducationField_MBA               0\n",
       "EducationField_Post Graduate     0\n",
       "EducationField_Under Graduate    0\n",
       "Designation_Exe                  0\n",
       "Designation_Executive            0\n",
       "Designation_Manager              0\n",
       "Designation_Senior Manager       0\n",
       "Designation_VP                   0\n",
       "MaritalStatus_Married            0\n",
       "MaritalStatus_Single             0\n",
       "Zone_North                       0\n",
       "Zone_South                       0\n",
       "Zone_West                        0\n",
       "PaymentMethod_Monthly            0\n",
       "PaymentMethod_Quarterly          0\n",
       "PaymentMethod_Yearly             0\n",
       "dtype: int64"
      ]
     },
     "execution_count": 124,
     "metadata": {},
     "output_type": "execute_result"
    }
   ],
   "source": [
    "X_train.isna().sum()"
   ]
  },
  {
   "cell_type": "code",
   "execution_count": 125,
   "metadata": {},
   "outputs": [
    {
     "data": {
      "text/plain": [
       "LinearRegression()"
      ]
     },
     "execution_count": 125,
     "metadata": {},
     "output_type": "execute_result"
    }
   ],
   "source": [
    "from sklearn.linear_model import LinearRegression\n",
    "# invoke linear regression from sklearn\n",
    "l_reg = LinearRegression()\n",
    "l_reg.fit(X_train, y_train)"
   ]
  },
  {
   "cell_type": "code",
   "execution_count": 126,
   "metadata": {},
   "outputs": [
    {
     "data": {
      "text/plain": [
       "0.11252127572697546"
      ]
     },
     "execution_count": 126,
     "metadata": {},
     "output_type": "execute_result"
    }
   ],
   "source": [
    "l_reg.intercept_[0]"
   ]
  },
  {
   "cell_type": "code",
   "execution_count": 127,
   "metadata": {},
   "outputs": [
    {
     "name": "stdout",
     "output_type": "stream",
     "text": [
      "Age   coeffient value is    0.15455843004466796\n",
      "CustTenure   coeffient value is    0.15897880006134887\n",
      "Gender   coeffient value is    0.0018930611328729374\n",
      "ExistingProdType   coeffient value is    0.028809110822074654\n",
      "NumberOfPolicy   coeffient value is    0.004302589706865579\n",
      "MonthlyIncome   coeffient value is    0.07743354780353649\n",
      "Complaint   coeffient value is    0.004298300751201882\n",
      "ExistingPolicyTenure   coeffient value is    0.11072280635746148\n",
      "SumAssured   coeffient value is    0.7194972626513989\n",
      "LastMonthCalls   coeffient value is    -0.008560596804285395\n",
      "CustCareScore   coeffient value is    0.003073978109673526\n",
      "Channel_Online   coeffient value is    0.0032910035119227353\n",
      "Channel_Third Party Partner   coeffient value is    0.000953027295099752\n",
      "Occupation_Large Business   coeffient value is    -0.09381309895945535\n",
      "Occupation_Salaried   coeffient value is    -0.07614715870267844\n",
      "Occupation_Small Business   coeffient value is    -0.08735907609194804\n",
      "EducationField_Engineer   coeffient value is    0.007051081284738877\n",
      "EducationField_Graduate   coeffient value is    -0.00809544553724042\n",
      "EducationField_MBA   coeffient value is    -0.022331068608574072\n",
      "EducationField_Post Graduate   coeffient value is    -0.006487494816044169\n",
      "EducationField_Under Graduate   coeffient value is    0.0012903819780481598\n",
      "Designation_Exe   coeffient value is    -0.11419539525893405\n",
      "Designation_Executive   coeffient value is    -0.05431979824371427\n",
      "Designation_Manager   coeffient value is    -0.05202133765090281\n",
      "Designation_Senior Manager   coeffient value is    -0.02762616835325003\n",
      "Designation_VP   coeffient value is    0.0002186406947778265\n",
      "MaritalStatus_Married   coeffient value is    -0.004252312400268696\n",
      "MaritalStatus_Single   coeffient value is    0.0012204547850950555\n",
      "Zone_North   coeffient value is    0.007356329877104843\n",
      "Zone_South   coeffient value is    0.026392362899198867\n",
      "Zone_West   coeffient value is    0.006784477046845114\n",
      "PaymentMethod_Monthly   coeffient value is    0.021867032944078983\n",
      "PaymentMethod_Quarterly   coeffient value is    0.010609472349954352\n",
      "PaymentMethod_Yearly   coeffient value is    -0.00996514570370136\n"
     ]
    }
   ],
   "source": [
    "for index, columns in enumerate(X_train.columns):\n",
    "    print(columns, \"  coeffient value is   \", l_reg.coef_[0][index])"
   ]
  },
  {
   "cell_type": "code",
   "execution_count": 128,
   "metadata": {},
   "outputs": [],
   "source": [
    "coefficients = pd.DataFrame({\"Feature\":X_train.columns,\"Coefficients\": np.transpose(l_reg.coef_[0])})"
   ]
  },
  {
   "cell_type": "code",
   "execution_count": 129,
   "metadata": {
    "scrolled": true
   },
   "outputs": [
    {
     "data": {
      "text/html": [
       "<div>\n",
       "<style scoped>\n",
       "    .dataframe tbody tr th:only-of-type {\n",
       "        vertical-align: middle;\n",
       "    }\n",
       "\n",
       "    .dataframe tbody tr th {\n",
       "        vertical-align: top;\n",
       "    }\n",
       "\n",
       "    .dataframe thead th {\n",
       "        text-align: right;\n",
       "    }\n",
       "</style>\n",
       "<table border=\"1\" class=\"dataframe\">\n",
       "  <thead>\n",
       "    <tr style=\"text-align: right;\">\n",
       "      <th></th>\n",
       "      <th>Feature</th>\n",
       "      <th>Coefficients</th>\n",
       "    </tr>\n",
       "  </thead>\n",
       "  <tbody>\n",
       "    <tr>\n",
       "      <td>8</td>\n",
       "      <td>SumAssured</td>\n",
       "      <td>0.719497</td>\n",
       "    </tr>\n",
       "    <tr>\n",
       "      <td>1</td>\n",
       "      <td>CustTenure</td>\n",
       "      <td>0.158979</td>\n",
       "    </tr>\n",
       "    <tr>\n",
       "      <td>0</td>\n",
       "      <td>Age</td>\n",
       "      <td>0.154558</td>\n",
       "    </tr>\n",
       "    <tr>\n",
       "      <td>7</td>\n",
       "      <td>ExistingPolicyTenure</td>\n",
       "      <td>0.110723</td>\n",
       "    </tr>\n",
       "    <tr>\n",
       "      <td>5</td>\n",
       "      <td>MonthlyIncome</td>\n",
       "      <td>0.077434</td>\n",
       "    </tr>\n",
       "    <tr>\n",
       "      <td>3</td>\n",
       "      <td>ExistingProdType</td>\n",
       "      <td>0.028809</td>\n",
       "    </tr>\n",
       "    <tr>\n",
       "      <td>29</td>\n",
       "      <td>Zone_South</td>\n",
       "      <td>0.026392</td>\n",
       "    </tr>\n",
       "    <tr>\n",
       "      <td>31</td>\n",
       "      <td>PaymentMethod_Monthly</td>\n",
       "      <td>0.021867</td>\n",
       "    </tr>\n",
       "    <tr>\n",
       "      <td>32</td>\n",
       "      <td>PaymentMethod_Quarterly</td>\n",
       "      <td>0.010609</td>\n",
       "    </tr>\n",
       "    <tr>\n",
       "      <td>28</td>\n",
       "      <td>Zone_North</td>\n",
       "      <td>0.007356</td>\n",
       "    </tr>\n",
       "    <tr>\n",
       "      <td>16</td>\n",
       "      <td>EducationField_Engineer</td>\n",
       "      <td>0.007051</td>\n",
       "    </tr>\n",
       "    <tr>\n",
       "      <td>30</td>\n",
       "      <td>Zone_West</td>\n",
       "      <td>0.006784</td>\n",
       "    </tr>\n",
       "    <tr>\n",
       "      <td>4</td>\n",
       "      <td>NumberOfPolicy</td>\n",
       "      <td>0.004303</td>\n",
       "    </tr>\n",
       "    <tr>\n",
       "      <td>6</td>\n",
       "      <td>Complaint</td>\n",
       "      <td>0.004298</td>\n",
       "    </tr>\n",
       "    <tr>\n",
       "      <td>11</td>\n",
       "      <td>Channel_Online</td>\n",
       "      <td>0.003291</td>\n",
       "    </tr>\n",
       "    <tr>\n",
       "      <td>10</td>\n",
       "      <td>CustCareScore</td>\n",
       "      <td>0.003074</td>\n",
       "    </tr>\n",
       "    <tr>\n",
       "      <td>2</td>\n",
       "      <td>Gender</td>\n",
       "      <td>0.001893</td>\n",
       "    </tr>\n",
       "    <tr>\n",
       "      <td>20</td>\n",
       "      <td>EducationField_Under Graduate</td>\n",
       "      <td>0.001290</td>\n",
       "    </tr>\n",
       "    <tr>\n",
       "      <td>27</td>\n",
       "      <td>MaritalStatus_Single</td>\n",
       "      <td>0.001220</td>\n",
       "    </tr>\n",
       "    <tr>\n",
       "      <td>12</td>\n",
       "      <td>Channel_Third Party Partner</td>\n",
       "      <td>0.000953</td>\n",
       "    </tr>\n",
       "    <tr>\n",
       "      <td>25</td>\n",
       "      <td>Designation_VP</td>\n",
       "      <td>0.000219</td>\n",
       "    </tr>\n",
       "    <tr>\n",
       "      <td>26</td>\n",
       "      <td>MaritalStatus_Married</td>\n",
       "      <td>-0.004252</td>\n",
       "    </tr>\n",
       "    <tr>\n",
       "      <td>19</td>\n",
       "      <td>EducationField_Post Graduate</td>\n",
       "      <td>-0.006487</td>\n",
       "    </tr>\n",
       "    <tr>\n",
       "      <td>17</td>\n",
       "      <td>EducationField_Graduate</td>\n",
       "      <td>-0.008095</td>\n",
       "    </tr>\n",
       "    <tr>\n",
       "      <td>9</td>\n",
       "      <td>LastMonthCalls</td>\n",
       "      <td>-0.008561</td>\n",
       "    </tr>\n",
       "    <tr>\n",
       "      <td>33</td>\n",
       "      <td>PaymentMethod_Yearly</td>\n",
       "      <td>-0.009965</td>\n",
       "    </tr>\n",
       "    <tr>\n",
       "      <td>18</td>\n",
       "      <td>EducationField_MBA</td>\n",
       "      <td>-0.022331</td>\n",
       "    </tr>\n",
       "    <tr>\n",
       "      <td>24</td>\n",
       "      <td>Designation_Senior Manager</td>\n",
       "      <td>-0.027626</td>\n",
       "    </tr>\n",
       "    <tr>\n",
       "      <td>23</td>\n",
       "      <td>Designation_Manager</td>\n",
       "      <td>-0.052021</td>\n",
       "    </tr>\n",
       "    <tr>\n",
       "      <td>22</td>\n",
       "      <td>Designation_Executive</td>\n",
       "      <td>-0.054320</td>\n",
       "    </tr>\n",
       "    <tr>\n",
       "      <td>14</td>\n",
       "      <td>Occupation_Salaried</td>\n",
       "      <td>-0.076147</td>\n",
       "    </tr>\n",
       "    <tr>\n",
       "      <td>15</td>\n",
       "      <td>Occupation_Small Business</td>\n",
       "      <td>-0.087359</td>\n",
       "    </tr>\n",
       "    <tr>\n",
       "      <td>13</td>\n",
       "      <td>Occupation_Large Business</td>\n",
       "      <td>-0.093813</td>\n",
       "    </tr>\n",
       "    <tr>\n",
       "      <td>21</td>\n",
       "      <td>Designation_Exe</td>\n",
       "      <td>-0.114195</td>\n",
       "    </tr>\n",
       "  </tbody>\n",
       "</table>\n",
       "</div>"
      ],
      "text/plain": [
       "                          Feature  Coefficients\n",
       "8                      SumAssured      0.719497\n",
       "1                      CustTenure      0.158979\n",
       "0                             Age      0.154558\n",
       "7            ExistingPolicyTenure      0.110723\n",
       "5                   MonthlyIncome      0.077434\n",
       "3                ExistingProdType      0.028809\n",
       "29                     Zone_South      0.026392\n",
       "31          PaymentMethod_Monthly      0.021867\n",
       "32        PaymentMethod_Quarterly      0.010609\n",
       "28                     Zone_North      0.007356\n",
       "16        EducationField_Engineer      0.007051\n",
       "30                      Zone_West      0.006784\n",
       "4                  NumberOfPolicy      0.004303\n",
       "6                       Complaint      0.004298\n",
       "11                 Channel_Online      0.003291\n",
       "10                  CustCareScore      0.003074\n",
       "2                          Gender      0.001893\n",
       "20  EducationField_Under Graduate      0.001290\n",
       "27           MaritalStatus_Single      0.001220\n",
       "12    Channel_Third Party Partner      0.000953\n",
       "25                 Designation_VP      0.000219\n",
       "26          MaritalStatus_Married     -0.004252\n",
       "19   EducationField_Post Graduate     -0.006487\n",
       "17        EducationField_Graduate     -0.008095\n",
       "9                  LastMonthCalls     -0.008561\n",
       "33           PaymentMethod_Yearly     -0.009965\n",
       "18             EducationField_MBA     -0.022331\n",
       "24     Designation_Senior Manager     -0.027626\n",
       "23            Designation_Manager     -0.052021\n",
       "22          Designation_Executive     -0.054320\n",
       "14            Occupation_Salaried     -0.076147\n",
       "15      Occupation_Small Business     -0.087359\n",
       "13      Occupation_Large Business     -0.093813\n",
       "21                Designation_Exe     -0.114195"
      ]
     },
     "execution_count": 129,
     "metadata": {},
     "output_type": "execute_result"
    }
   ],
   "source": [
    "coefficients.sort_values(\"Coefficients\", axis=0, ascending=False)"
   ]
  },
  {
   "cell_type": "code",
   "execution_count": 130,
   "metadata": {},
   "outputs": [],
   "source": [
    "removable_coef = coefficients[coefficients[\"Coefficients\"] < -100]"
   ]
  },
  {
   "cell_type": "code",
   "execution_count": 131,
   "metadata": {},
   "outputs": [
    {
     "data": {
      "text/plain": [
       "[]"
      ]
     },
     "execution_count": 131,
     "metadata": {},
     "output_type": "execute_result"
    }
   ],
   "source": [
    "list(removable_coef[\"Feature\"])"
   ]
  },
  {
   "cell_type": "code",
   "execution_count": 132,
   "metadata": {},
   "outputs": [
    {
     "data": {
      "text/plain": [
       "0.8131554162413469"
      ]
     },
     "execution_count": 132,
     "metadata": {},
     "output_type": "execute_result"
    }
   ],
   "source": [
    "l_reg.score(X_train, y_train)"
   ]
  },
  {
   "cell_type": "code",
   "execution_count": 133,
   "metadata": {},
   "outputs": [
    {
     "data": {
      "text/plain": [
       "0.7952913471746754"
      ]
     },
     "execution_count": 133,
     "metadata": {},
     "output_type": "execute_result"
    }
   ],
   "source": [
    "l_reg.score(X_test, y_test)"
   ]
  },
  {
   "cell_type": "code",
   "execution_count": 134,
   "metadata": {},
   "outputs": [],
   "source": [
    "mse_train = np.mean((l_reg.predict(X_train)-y_train)**2)"
   ]
  },
  {
   "cell_type": "code",
   "execution_count": 135,
   "metadata": {},
   "outputs": [
    {
     "data": {
      "text/plain": [
       "0.07587651564873102"
      ]
     },
     "execution_count": 135,
     "metadata": {},
     "output_type": "execute_result"
    }
   ],
   "source": [
    "math.sqrt(mse_train)"
   ]
  },
  {
   "cell_type": "code",
   "execution_count": 136,
   "metadata": {},
   "outputs": [
    {
     "data": {
      "text/html": [
       "<div>\n",
       "<style scoped>\n",
       "    .dataframe tbody tr th:only-of-type {\n",
       "        vertical-align: middle;\n",
       "    }\n",
       "\n",
       "    .dataframe tbody tr th {\n",
       "        vertical-align: top;\n",
       "    }\n",
       "\n",
       "    .dataframe thead th {\n",
       "        text-align: right;\n",
       "    }\n",
       "</style>\n",
       "<table border=\"1\" class=\"dataframe\">\n",
       "  <thead>\n",
       "    <tr style=\"text-align: right;\">\n",
       "      <th></th>\n",
       "      <th>AgentBonus</th>\n",
       "    </tr>\n",
       "  </thead>\n",
       "  <tbody>\n",
       "    <tr>\n",
       "      <td>610</td>\n",
       "      <td>-0.137498</td>\n",
       "    </tr>\n",
       "    <tr>\n",
       "      <td>1519</td>\n",
       "      <td>0.001227</td>\n",
       "    </tr>\n",
       "    <tr>\n",
       "      <td>1620</td>\n",
       "      <td>0.076141</td>\n",
       "    </tr>\n",
       "    <tr>\n",
       "      <td>2031</td>\n",
       "      <td>0.067026</td>\n",
       "    </tr>\n",
       "    <tr>\n",
       "      <td>494</td>\n",
       "      <td>-0.003220</td>\n",
       "    </tr>\n",
       "    <tr>\n",
       "      <td>...</td>\n",
       "      <td>...</td>\n",
       "    </tr>\n",
       "    <tr>\n",
       "      <td>921</td>\n",
       "      <td>0.061829</td>\n",
       "    </tr>\n",
       "    <tr>\n",
       "      <td>490</td>\n",
       "      <td>0.092456</td>\n",
       "    </tr>\n",
       "    <tr>\n",
       "      <td>2264</td>\n",
       "      <td>-0.003945</td>\n",
       "    </tr>\n",
       "    <tr>\n",
       "      <td>3476</td>\n",
       "      <td>-0.026129</td>\n",
       "    </tr>\n",
       "    <tr>\n",
       "      <td>757</td>\n",
       "      <td>0.051641</td>\n",
       "    </tr>\n",
       "  </tbody>\n",
       "</table>\n",
       "<p>904 rows × 1 columns</p>\n",
       "</div>"
      ],
      "text/plain": [
       "      AgentBonus\n",
       "610    -0.137498\n",
       "1519    0.001227\n",
       "1620    0.076141\n",
       "2031    0.067026\n",
       "494    -0.003220\n",
       "...          ...\n",
       "921     0.061829\n",
       "490     0.092456\n",
       "2264   -0.003945\n",
       "3476   -0.026129\n",
       "757     0.051641\n",
       "\n",
       "[904 rows x 1 columns]"
      ]
     },
     "execution_count": 136,
     "metadata": {},
     "output_type": "execute_result"
    }
   ],
   "source": [
    "l_reg.predict(X_test)-y_test"
   ]
  },
  {
   "cell_type": "code",
   "execution_count": 137,
   "metadata": {},
   "outputs": [],
   "source": [
    "mse_test = np.mean((l_reg.predict(X_test)-y_test)**2)"
   ]
  },
  {
   "cell_type": "code",
   "execution_count": 138,
   "metadata": {},
   "outputs": [
    {
     "data": {
      "text/plain": [
       "AgentBonus    0.006226\n",
       "dtype: float64"
      ]
     },
     "execution_count": 138,
     "metadata": {},
     "output_type": "execute_result"
    }
   ],
   "source": [
    "mse_test"
   ]
  },
  {
   "cell_type": "code",
   "execution_count": 139,
   "metadata": {},
   "outputs": [
    {
     "data": {
      "text/plain": [
       "0.07890286245826306"
      ]
     },
     "execution_count": 139,
     "metadata": {},
     "output_type": "execute_result"
    }
   ],
   "source": [
    "math.sqrt(mse_test)"
   ]
  },
  {
   "cell_type": "code",
   "execution_count": 140,
   "metadata": {},
   "outputs": [],
   "source": [
    "y_test_predict =l_reg.predict(X_test)"
   ]
  },
  {
   "cell_type": "code",
   "execution_count": 141,
   "metadata": {},
   "outputs": [],
   "source": [
    "y_train_predict = l_reg.predict(X_train)"
   ]
  },
  {
   "cell_type": "code",
   "execution_count": 142,
   "metadata": {},
   "outputs": [
    {
     "data": {
      "image/png": "[encoded data removed]",
      "text/plain": [
       "<Figure size 1080x576 with 2 Axes>"
      ]
     },
     "metadata": {
      "needs_background": "light"
     },
     "output_type": "display_data"
    }
   ],
   "source": [
    "figure, axis = plt.subplots(1, 2)\n",
    "axis[0].scatter(y_train['AgentBonus'], y_train_predict)\n",
    "axis[0].set_title(\"Train data linear line\")\n",
    "axis[1].scatter(y_test['AgentBonus'], y_test_predict)\n",
    "axis[1].set_title(\"Test data linear line\")\n",
    "\n",
    "figure.set_figheight(8)\n",
    "figure.set_figwidth(15)\n"
   ]
  },
  {
   "cell_type": "code",
   "execution_count": 143,
   "metadata": {},
   "outputs": [],
   "source": [
    "# Hyper parameter\n",
    "from sklearn.model_selection import RandomizedSearchCV\n",
    "from sklearn.model_selection import GridSearchCV\n",
    "from sklearn.model_selection import RepeatedKFold"
   ]
  },
  {
   "cell_type": "code",
   "execution_count": 144,
   "metadata": {},
   "outputs": [],
   "source": [
    "cv = RepeatedKFold(n_splits=10, n_repeats=3, random_state=1)"
   ]
  },
  {
   "cell_type": "code",
   "execution_count": 145,
   "metadata": {},
   "outputs": [],
   "source": [
    "model = LinearRegression()"
   ]
  },
  {
   "cell_type": "code",
   "execution_count": 146,
   "metadata": {},
   "outputs": [],
   "source": [
    "space = dict()\n",
    "space['solver'] = ['svd', 'cholesky', 'lsqr', 'sag']\n",
    "space['fit_intercept'] = [True, False]\n",
    "space['normalize'] = [True, False]\n",
    "# define search\n",
    "parameters = {'fit_intercept':[True,False], 'normalize':[True,False], 'copy_X':[True, False]}\n",
    "grid = GridSearchCV(model,parameters,scoring='neg_mean_absolute_error', cv=cv)\n",
    "# search =GridSearchCV(model, space, scoring='neg_mean_absolute_error', n_jobs=-1, cv=3)\n",
    "# execute search\n",
    "result = grid.fit(X_train, y_train)\n"
   ]
  },
  {
   "cell_type": "code",
   "execution_count": 147,
   "metadata": {},
   "outputs": [
    {
     "data": {
      "text/plain": [
       "{'copy_X': True, 'fit_intercept': False, 'normalize': True}"
      ]
     },
     "execution_count": 147,
     "metadata": {},
     "output_type": "execute_result"
    }
   ],
   "source": [
    "result.best_params_"
   ]
  },
  {
   "cell_type": "code",
   "execution_count": 148,
   "metadata": {},
   "outputs": [],
   "source": [
    "model_tuning = LinearRegression(copy_X= True, fit_intercept= True, normalize= False)"
   ]
  },
  {
   "cell_type": "code",
   "execution_count": 149,
   "metadata": {},
   "outputs": [
    {
     "data": {
      "text/plain": [
       "LinearRegression()"
      ]
     },
     "execution_count": 149,
     "metadata": {},
     "output_type": "execute_result"
    }
   ],
   "source": [
    "model_tuning.fit(X_train, y_train)"
   ]
  },
  {
   "cell_type": "code",
   "execution_count": 150,
   "metadata": {},
   "outputs": [
    {
     "data": {
      "text/plain": [
       "0.8131554162413469"
      ]
     },
     "execution_count": 150,
     "metadata": {},
     "output_type": "execute_result"
    }
   ],
   "source": [
    "model_tuning.score(X_train, y_train)"
   ]
  },
  {
   "cell_type": "code",
   "execution_count": 151,
   "metadata": {},
   "outputs": [
    {
     "data": {
      "text/plain": [
       "0.7952913471746754"
      ]
     },
     "execution_count": 151,
     "metadata": {},
     "output_type": "execute_result"
    }
   ],
   "source": [
    "model_tuning.score(X_test, y_test)"
   ]
  },
  {
   "cell_type": "code",
   "execution_count": 152,
   "metadata": {},
   "outputs": [],
   "source": [
    "mse_train = np.mean((model_tuning.predict(X_train)-y_train)**2)"
   ]
  },
  {
   "cell_type": "code",
   "execution_count": 153,
   "metadata": {},
   "outputs": [
    {
     "data": {
      "text/plain": [
       "0.07587651564873102"
      ]
     },
     "execution_count": 153,
     "metadata": {},
     "output_type": "execute_result"
    }
   ],
   "source": [
    "math.sqrt(mse_train)"
   ]
  },
  {
   "cell_type": "code",
   "execution_count": 154,
   "metadata": {},
   "outputs": [],
   "source": [
    "mse_test = np.mean((model_tuning.predict(X_test)-y_test)**2)"
   ]
  },
  {
   "cell_type": "code",
   "execution_count": 155,
   "metadata": {},
   "outputs": [
    {
     "data": {
      "text/plain": [
       "0.07890286245826306"
      ]
     },
     "execution_count": 155,
     "metadata": {},
     "output_type": "execute_result"
    }
   ],
   "source": [
    "math.sqrt(mse_test)"
   ]
  },
  {
   "cell_type": "code",
   "execution_count": 156,
   "metadata": {},
   "outputs": [
    {
     "data": {
      "text/plain": [
       "0.11252127572697546"
      ]
     },
     "execution_count": 156,
     "metadata": {},
     "output_type": "execute_result"
    }
   ],
   "source": [
    "model_tuning.intercept_[0]"
   ]
  },
  {
   "cell_type": "code",
   "execution_count": 157,
   "metadata": {},
   "outputs": [],
   "source": [
    "coefficients_tuned = pd.DataFrame({\"Feature\":X_train.columns,\"Coefficients\": np.transpose(model_tuning.coef_[0])})"
   ]
  },
  {
   "cell_type": "code",
   "execution_count": 158,
   "metadata": {},
   "outputs": [
    {
     "data": {
      "text/html": [
       "<div>\n",
       "<style scoped>\n",
       "    .dataframe tbody tr th:only-of-type {\n",
       "        vertical-align: middle;\n",
       "    }\n",
       "\n",
       "    .dataframe tbody tr th {\n",
       "        vertical-align: top;\n",
       "    }\n",
       "\n",
       "    .dataframe thead th {\n",
       "        text-align: right;\n",
       "    }\n",
       "</style>\n",
       "<table border=\"1\" class=\"dataframe\">\n",
       "  <thead>\n",
       "    <tr style=\"text-align: right;\">\n",
       "      <th></th>\n",
       "      <th>Feature</th>\n",
       "      <th>Coefficients</th>\n",
       "    </tr>\n",
       "  </thead>\n",
       "  <tbody>\n",
       "    <tr>\n",
       "      <td>8</td>\n",
       "      <td>SumAssured</td>\n",
       "      <td>0.719497</td>\n",
       "    </tr>\n",
       "    <tr>\n",
       "      <td>1</td>\n",
       "      <td>CustTenure</td>\n",
       "      <td>0.158979</td>\n",
       "    </tr>\n",
       "    <tr>\n",
       "      <td>0</td>\n",
       "      <td>Age</td>\n",
       "      <td>0.154558</td>\n",
       "    </tr>\n",
       "    <tr>\n",
       "      <td>7</td>\n",
       "      <td>ExistingPolicyTenure</td>\n",
       "      <td>0.110723</td>\n",
       "    </tr>\n",
       "    <tr>\n",
       "      <td>5</td>\n",
       "      <td>MonthlyIncome</td>\n",
       "      <td>0.077434</td>\n",
       "    </tr>\n",
       "    <tr>\n",
       "      <td>3</td>\n",
       "      <td>ExistingProdType</td>\n",
       "      <td>0.028809</td>\n",
       "    </tr>\n",
       "    <tr>\n",
       "      <td>29</td>\n",
       "      <td>Zone_South</td>\n",
       "      <td>0.026392</td>\n",
       "    </tr>\n",
       "    <tr>\n",
       "      <td>31</td>\n",
       "      <td>PaymentMethod_Monthly</td>\n",
       "      <td>0.021867</td>\n",
       "    </tr>\n",
       "    <tr>\n",
       "      <td>32</td>\n",
       "      <td>PaymentMethod_Quarterly</td>\n",
       "      <td>0.010609</td>\n",
       "    </tr>\n",
       "    <tr>\n",
       "      <td>28</td>\n",
       "      <td>Zone_North</td>\n",
       "      <td>0.007356</td>\n",
       "    </tr>\n",
       "    <tr>\n",
       "      <td>16</td>\n",
       "      <td>EducationField_Engineer</td>\n",
       "      <td>0.007051</td>\n",
       "    </tr>\n",
       "    <tr>\n",
       "      <td>30</td>\n",
       "      <td>Zone_West</td>\n",
       "      <td>0.006784</td>\n",
       "    </tr>\n",
       "    <tr>\n",
       "      <td>4</td>\n",
       "      <td>NumberOfPolicy</td>\n",
       "      <td>0.004303</td>\n",
       "    </tr>\n",
       "    <tr>\n",
       "      <td>6</td>\n",
       "      <td>Complaint</td>\n",
       "      <td>0.004298</td>\n",
       "    </tr>\n",
       "    <tr>\n",
       "      <td>11</td>\n",
       "      <td>Channel_Online</td>\n",
       "      <td>0.003291</td>\n",
       "    </tr>\n",
       "    <tr>\n",
       "      <td>10</td>\n",
       "      <td>CustCareScore</td>\n",
       "      <td>0.003074</td>\n",
       "    </tr>\n",
       "    <tr>\n",
       "      <td>2</td>\n",
       "      <td>Gender</td>\n",
       "      <td>0.001893</td>\n",
       "    </tr>\n",
       "    <tr>\n",
       "      <td>20</td>\n",
       "      <td>EducationField_Under Graduate</td>\n",
       "      <td>0.001290</td>\n",
       "    </tr>\n",
       "    <tr>\n",
       "      <td>27</td>\n",
       "      <td>MaritalStatus_Single</td>\n",
       "      <td>0.001220</td>\n",
       "    </tr>\n",
       "    <tr>\n",
       "      <td>12</td>\n",
       "      <td>Channel_Third Party Partner</td>\n",
       "      <td>0.000953</td>\n",
       "    </tr>\n",
       "    <tr>\n",
       "      <td>25</td>\n",
       "      <td>Designation_VP</td>\n",
       "      <td>0.000219</td>\n",
       "    </tr>\n",
       "    <tr>\n",
       "      <td>26</td>\n",
       "      <td>MaritalStatus_Married</td>\n",
       "      <td>-0.004252</td>\n",
       "    </tr>\n",
       "    <tr>\n",
       "      <td>19</td>\n",
       "      <td>EducationField_Post Graduate</td>\n",
       "      <td>-0.006487</td>\n",
       "    </tr>\n",
       "    <tr>\n",
       "      <td>17</td>\n",
       "      <td>EducationField_Graduate</td>\n",
       "      <td>-0.008095</td>\n",
       "    </tr>\n",
       "    <tr>\n",
       "      <td>9</td>\n",
       "      <td>LastMonthCalls</td>\n",
       "      <td>-0.008561</td>\n",
       "    </tr>\n",
       "    <tr>\n",
       "      <td>33</td>\n",
       "      <td>PaymentMethod_Yearly</td>\n",
       "      <td>-0.009965</td>\n",
       "    </tr>\n",
       "    <tr>\n",
       "      <td>18</td>\n",
       "      <td>EducationField_MBA</td>\n",
       "      <td>-0.022331</td>\n",
       "    </tr>\n",
       "    <tr>\n",
       "      <td>24</td>\n",
       "      <td>Designation_Senior Manager</td>\n",
       "      <td>-0.027626</td>\n",
       "    </tr>\n",
       "    <tr>\n",
       "      <td>23</td>\n",
       "      <td>Designation_Manager</td>\n",
       "      <td>-0.052021</td>\n",
       "    </tr>\n",
       "    <tr>\n",
       "      <td>22</td>\n",
       "      <td>Designation_Executive</td>\n",
       "      <td>-0.054320</td>\n",
       "    </tr>\n",
       "    <tr>\n",
       "      <td>14</td>\n",
       "      <td>Occupation_Salaried</td>\n",
       "      <td>-0.076147</td>\n",
       "    </tr>\n",
       "    <tr>\n",
       "      <td>15</td>\n",
       "      <td>Occupation_Small Business</td>\n",
       "      <td>-0.087359</td>\n",
       "    </tr>\n",
       "    <tr>\n",
       "      <td>13</td>\n",
       "      <td>Occupation_Large Business</td>\n",
       "      <td>-0.093813</td>\n",
       "    </tr>\n",
       "    <tr>\n",
       "      <td>21</td>\n",
       "      <td>Designation_Exe</td>\n",
       "      <td>-0.114195</td>\n",
       "    </tr>\n",
       "  </tbody>\n",
       "</table>\n",
       "</div>"
      ],
      "text/plain": [
       "                          Feature  Coefficients\n",
       "8                      SumAssured      0.719497\n",
       "1                      CustTenure      0.158979\n",
       "0                             Age      0.154558\n",
       "7            ExistingPolicyTenure      0.110723\n",
       "5                   MonthlyIncome      0.077434\n",
       "3                ExistingProdType      0.028809\n",
       "29                     Zone_South      0.026392\n",
       "31          PaymentMethod_Monthly      0.021867\n",
       "32        PaymentMethod_Quarterly      0.010609\n",
       "28                     Zone_North      0.007356\n",
       "16        EducationField_Engineer      0.007051\n",
       "30                      Zone_West      0.006784\n",
       "4                  NumberOfPolicy      0.004303\n",
       "6                       Complaint      0.004298\n",
       "11                 Channel_Online      0.003291\n",
       "10                  CustCareScore      0.003074\n",
       "2                          Gender      0.001893\n",
       "20  EducationField_Under Graduate      0.001290\n",
       "27           MaritalStatus_Single      0.001220\n",
       "12    Channel_Third Party Partner      0.000953\n",
       "25                 Designation_VP      0.000219\n",
       "26          MaritalStatus_Married     -0.004252\n",
       "19   EducationField_Post Graduate     -0.006487\n",
       "17        EducationField_Graduate     -0.008095\n",
       "9                  LastMonthCalls     -0.008561\n",
       "33           PaymentMethod_Yearly     -0.009965\n",
       "18             EducationField_MBA     -0.022331\n",
       "24     Designation_Senior Manager     -0.027626\n",
       "23            Designation_Manager     -0.052021\n",
       "22          Designation_Executive     -0.054320\n",
       "14            Occupation_Salaried     -0.076147\n",
       "15      Occupation_Small Business     -0.087359\n",
       "13      Occupation_Large Business     -0.093813\n",
       "21                Designation_Exe     -0.114195"
      ]
     },
     "execution_count": 158,
     "metadata": {},
     "output_type": "execute_result"
    }
   ],
   "source": [
    "coefficients_tuned.sort_values(\"Coefficients\", axis=0, ascending=False)"
   ]
  },
  {
   "cell_type": "code",
   "execution_count": 159,
   "metadata": {},
   "outputs": [],
   "source": [
    "# Hyper parameter\n",
    "from sklearn.model_selection import RandomizedSearchCV\n",
    "from sklearn.model_selection import GridSearchCV\n",
    "from sklearn.model_selection import RepeatedKFold"
   ]
  },
  {
   "cell_type": "code",
   "execution_count": 160,
   "metadata": {},
   "outputs": [],
   "source": [
    "cv = RepeatedKFold(n_splits=10, n_repeats=3, random_state=1)"
   ]
  },
  {
   "cell_type": "code",
   "execution_count": 161,
   "metadata": {},
   "outputs": [],
   "source": [
    "model = LinearRegression()"
   ]
  },
  {
   "cell_type": "code",
   "execution_count": 162,
   "metadata": {},
   "outputs": [],
   "source": [
    "space = dict()\n",
    "space['solver'] = ['svd', 'cholesky', 'lsqr', 'sag']\n",
    "space['fit_intercept'] = [True, False]\n",
    "space['normalize'] = [True, False]\n",
    "# define search\n",
    "parameters = {'fit_intercept':[True,False], 'normalize':[True,False], 'copy_X':[True, False]}\n",
    "grid = GridSearchCV(model,parameters,scoring='neg_mean_absolute_error', cv=cv)\n",
    "# search =GridSearchCV(model, space, scoring='neg_mean_absolute_error', n_jobs=-1, cv=3)\n",
    "# execute search\n",
    "result = grid.fit(X_train, y_train)\n"
   ]
  },
  {
   "cell_type": "code",
   "execution_count": 163,
   "metadata": {},
   "outputs": [
    {
     "data": {
      "text/plain": [
       "{'copy_X': True, 'fit_intercept': False, 'normalize': True}"
      ]
     },
     "execution_count": 163,
     "metadata": {},
     "output_type": "execute_result"
    }
   ],
   "source": [
    "result.best_params_"
   ]
  },
  {
   "cell_type": "code",
   "execution_count": 164,
   "metadata": {},
   "outputs": [],
   "source": [
    "model_tuning = LinearRegression(copy_X= True, fit_intercept= True, normalize= False)"
   ]
  },
  {
   "cell_type": "code",
   "execution_count": 165,
   "metadata": {},
   "outputs": [
    {
     "data": {
      "text/plain": [
       "LinearRegression()"
      ]
     },
     "execution_count": 165,
     "metadata": {},
     "output_type": "execute_result"
    }
   ],
   "source": [
    "model_tuning.fit(X_train, y_train)"
   ]
  },
  {
   "cell_type": "code",
   "execution_count": 166,
   "metadata": {},
   "outputs": [
    {
     "data": {
      "text/plain": [
       "0.8131554162413469"
      ]
     },
     "execution_count": 166,
     "metadata": {},
     "output_type": "execute_result"
    }
   ],
   "source": [
    "model_tuning.score(X_train, y_train)"
   ]
  },
  {
   "cell_type": "code",
   "execution_count": 167,
   "metadata": {},
   "outputs": [
    {
     "data": {
      "text/plain": [
       "0.7952913471746754"
      ]
     },
     "execution_count": 167,
     "metadata": {},
     "output_type": "execute_result"
    }
   ],
   "source": [
    "model_tuning.score(X_test, y_test)"
   ]
  },
  {
   "cell_type": "code",
   "execution_count": 168,
   "metadata": {},
   "outputs": [],
   "source": [
    "mse_train = np.mean((model_tuning.predict(X_train)-y_train)**2)"
   ]
  },
  {
   "cell_type": "code",
   "execution_count": 169,
   "metadata": {},
   "outputs": [
    {
     "data": {
      "text/plain": [
       "0.07587651564873102"
      ]
     },
     "execution_count": 169,
     "metadata": {},
     "output_type": "execute_result"
    }
   ],
   "source": [
    "math.sqrt(mse_train)"
   ]
  },
  {
   "cell_type": "code",
   "execution_count": 170,
   "metadata": {},
   "outputs": [
    {
     "data": {
      "text/plain": [
       "0.11252127572697546"
      ]
     },
     "execution_count": 170,
     "metadata": {},
     "output_type": "execute_result"
    }
   ],
   "source": [
    "model_tuning.intercept_[0]"
   ]
  },
  {
   "cell_type": "code",
   "execution_count": 171,
   "metadata": {},
   "outputs": [],
   "source": [
    "coefficients_tuned = pd.DataFrame({\"Feature\":X_train.columns,\"Coefficients\": np.transpose(model_tuning.coef_[0])})"
   ]
  },
  {
   "cell_type": "code",
   "execution_count": 172,
   "metadata": {
    "scrolled": true
   },
   "outputs": [
    {
     "data": {
      "text/html": [
       "<div>\n",
       "<style scoped>\n",
       "    .dataframe tbody tr th:only-of-type {\n",
       "        vertical-align: middle;\n",
       "    }\n",
       "\n",
       "    .dataframe tbody tr th {\n",
       "        vertical-align: top;\n",
       "    }\n",
       "\n",
       "    .dataframe thead th {\n",
       "        text-align: right;\n",
       "    }\n",
       "</style>\n",
       "<table border=\"1\" class=\"dataframe\">\n",
       "  <thead>\n",
       "    <tr style=\"text-align: right;\">\n",
       "      <th></th>\n",
       "      <th>Feature</th>\n",
       "      <th>Coefficients</th>\n",
       "    </tr>\n",
       "  </thead>\n",
       "  <tbody>\n",
       "    <tr>\n",
       "      <td>8</td>\n",
       "      <td>SumAssured</td>\n",
       "      <td>0.719497</td>\n",
       "    </tr>\n",
       "    <tr>\n",
       "      <td>1</td>\n",
       "      <td>CustTenure</td>\n",
       "      <td>0.158979</td>\n",
       "    </tr>\n",
       "    <tr>\n",
       "      <td>0</td>\n",
       "      <td>Age</td>\n",
       "      <td>0.154558</td>\n",
       "    </tr>\n",
       "    <tr>\n",
       "      <td>7</td>\n",
       "      <td>ExistingPolicyTenure</td>\n",
       "      <td>0.110723</td>\n",
       "    </tr>\n",
       "    <tr>\n",
       "      <td>5</td>\n",
       "      <td>MonthlyIncome</td>\n",
       "      <td>0.077434</td>\n",
       "    </tr>\n",
       "    <tr>\n",
       "      <td>3</td>\n",
       "      <td>ExistingProdType</td>\n",
       "      <td>0.028809</td>\n",
       "    </tr>\n",
       "    <tr>\n",
       "      <td>29</td>\n",
       "      <td>Zone_South</td>\n",
       "      <td>0.026392</td>\n",
       "    </tr>\n",
       "    <tr>\n",
       "      <td>31</td>\n",
       "      <td>PaymentMethod_Monthly</td>\n",
       "      <td>0.021867</td>\n",
       "    </tr>\n",
       "    <tr>\n",
       "      <td>32</td>\n",
       "      <td>PaymentMethod_Quarterly</td>\n",
       "      <td>0.010609</td>\n",
       "    </tr>\n",
       "    <tr>\n",
       "      <td>28</td>\n",
       "      <td>Zone_North</td>\n",
       "      <td>0.007356</td>\n",
       "    </tr>\n",
       "    <tr>\n",
       "      <td>16</td>\n",
       "      <td>EducationField_Engineer</td>\n",
       "      <td>0.007051</td>\n",
       "    </tr>\n",
       "    <tr>\n",
       "      <td>30</td>\n",
       "      <td>Zone_West</td>\n",
       "      <td>0.006784</td>\n",
       "    </tr>\n",
       "    <tr>\n",
       "      <td>4</td>\n",
       "      <td>NumberOfPolicy</td>\n",
       "      <td>0.004303</td>\n",
       "    </tr>\n",
       "    <tr>\n",
       "      <td>6</td>\n",
       "      <td>Complaint</td>\n",
       "      <td>0.004298</td>\n",
       "    </tr>\n",
       "    <tr>\n",
       "      <td>11</td>\n",
       "      <td>Channel_Online</td>\n",
       "      <td>0.003291</td>\n",
       "    </tr>\n",
       "    <tr>\n",
       "      <td>10</td>\n",
       "      <td>CustCareScore</td>\n",
       "      <td>0.003074</td>\n",
       "    </tr>\n",
       "    <tr>\n",
       "      <td>2</td>\n",
       "      <td>Gender</td>\n",
       "      <td>0.001893</td>\n",
       "    </tr>\n",
       "    <tr>\n",
       "      <td>20</td>\n",
       "      <td>EducationField_Under Graduate</td>\n",
       "      <td>0.001290</td>\n",
       "    </tr>\n",
       "    <tr>\n",
       "      <td>27</td>\n",
       "      <td>MaritalStatus_Single</td>\n",
       "      <td>0.001220</td>\n",
       "    </tr>\n",
       "    <tr>\n",
       "      <td>12</td>\n",
       "      <td>Channel_Third Party Partner</td>\n",
       "      <td>0.000953</td>\n",
       "    </tr>\n",
       "    <tr>\n",
       "      <td>25</td>\n",
       "      <td>Designation_VP</td>\n",
       "      <td>0.000219</td>\n",
       "    </tr>\n",
       "    <tr>\n",
       "      <td>26</td>\n",
       "      <td>MaritalStatus_Married</td>\n",
       "      <td>-0.004252</td>\n",
       "    </tr>\n",
       "    <tr>\n",
       "      <td>19</td>\n",
       "      <td>EducationField_Post Graduate</td>\n",
       "      <td>-0.006487</td>\n",
       "    </tr>\n",
       "    <tr>\n",
       "      <td>17</td>\n",
       "      <td>EducationField_Graduate</td>\n",
       "      <td>-0.008095</td>\n",
       "    </tr>\n",
       "    <tr>\n",
       "      <td>9</td>\n",
       "      <td>LastMonthCalls</td>\n",
       "      <td>-0.008561</td>\n",
       "    </tr>\n",
       "    <tr>\n",
       "      <td>33</td>\n",
       "      <td>PaymentMethod_Yearly</td>\n",
       "      <td>-0.009965</td>\n",
       "    </tr>\n",
       "    <tr>\n",
       "      <td>18</td>\n",
       "      <td>EducationField_MBA</td>\n",
       "      <td>-0.022331</td>\n",
       "    </tr>\n",
       "    <tr>\n",
       "      <td>24</td>\n",
       "      <td>Designation_Senior Manager</td>\n",
       "      <td>-0.027626</td>\n",
       "    </tr>\n",
       "    <tr>\n",
       "      <td>23</td>\n",
       "      <td>Designation_Manager</td>\n",
       "      <td>-0.052021</td>\n",
       "    </tr>\n",
       "    <tr>\n",
       "      <td>22</td>\n",
       "      <td>Designation_Executive</td>\n",
       "      <td>-0.054320</td>\n",
       "    </tr>\n",
       "    <tr>\n",
       "      <td>14</td>\n",
       "      <td>Occupation_Salaried</td>\n",
       "      <td>-0.076147</td>\n",
       "    </tr>\n",
       "    <tr>\n",
       "      <td>15</td>\n",
       "      <td>Occupation_Small Business</td>\n",
       "      <td>-0.087359</td>\n",
       "    </tr>\n",
       "    <tr>\n",
       "      <td>13</td>\n",
       "      <td>Occupation_Large Business</td>\n",
       "      <td>-0.093813</td>\n",
       "    </tr>\n",
       "    <tr>\n",
       "      <td>21</td>\n",
       "      <td>Designation_Exe</td>\n",
       "      <td>-0.114195</td>\n",
       "    </tr>\n",
       "  </tbody>\n",
       "</table>\n",
       "</div>"
      ],
      "text/plain": [
       "                          Feature  Coefficients\n",
       "8                      SumAssured      0.719497\n",
       "1                      CustTenure      0.158979\n",
       "0                             Age      0.154558\n",
       "7            ExistingPolicyTenure      0.110723\n",
       "5                   MonthlyIncome      0.077434\n",
       "3                ExistingProdType      0.028809\n",
       "29                     Zone_South      0.026392\n",
       "31          PaymentMethod_Monthly      0.021867\n",
       "32        PaymentMethod_Quarterly      0.010609\n",
       "28                     Zone_North      0.007356\n",
       "16        EducationField_Engineer      0.007051\n",
       "30                      Zone_West      0.006784\n",
       "4                  NumberOfPolicy      0.004303\n",
       "6                       Complaint      0.004298\n",
       "11                 Channel_Online      0.003291\n",
       "10                  CustCareScore      0.003074\n",
       "2                          Gender      0.001893\n",
       "20  EducationField_Under Graduate      0.001290\n",
       "27           MaritalStatus_Single      0.001220\n",
       "12    Channel_Third Party Partner      0.000953\n",
       "25                 Designation_VP      0.000219\n",
       "26          MaritalStatus_Married     -0.004252\n",
       "19   EducationField_Post Graduate     -0.006487\n",
       "17        EducationField_Graduate     -0.008095\n",
       "9                  LastMonthCalls     -0.008561\n",
       "33           PaymentMethod_Yearly     -0.009965\n",
       "18             EducationField_MBA     -0.022331\n",
       "24     Designation_Senior Manager     -0.027626\n",
       "23            Designation_Manager     -0.052021\n",
       "22          Designation_Executive     -0.054320\n",
       "14            Occupation_Salaried     -0.076147\n",
       "15      Occupation_Small Business     -0.087359\n",
       "13      Occupation_Large Business     -0.093813\n",
       "21                Designation_Exe     -0.114195"
      ]
     },
     "execution_count": 172,
     "metadata": {},
     "output_type": "execute_result"
    }
   ],
   "source": [
    "coefficients_tuned.sort_values(\"Coefficients\", axis=0, ascending=False)"
   ]
  },
  {
   "cell_type": "code",
   "execution_count": null,
   "metadata": {},
   "outputs": [],
   "source": []
  },
  {
   "cell_type": "code",
   "execution_count": 173,
   "metadata": {
    "scrolled": true
   },
   "outputs": [
    {
     "data": {
      "text/html": [
       "<div>\n",
       "<style scoped>\n",
       "    .dataframe tbody tr th:only-of-type {\n",
       "        vertical-align: middle;\n",
       "    }\n",
       "\n",
       "    .dataframe tbody tr th {\n",
       "        vertical-align: top;\n",
       "    }\n",
       "\n",
       "    .dataframe thead th {\n",
       "        text-align: right;\n",
       "    }\n",
       "</style>\n",
       "<table border=\"1\" class=\"dataframe\">\n",
       "  <thead>\n",
       "    <tr style=\"text-align: right;\">\n",
       "      <th></th>\n",
       "      <th>Age</th>\n",
       "      <th>CustTenure</th>\n",
       "      <th>Gender</th>\n",
       "      <th>ExistingProdType</th>\n",
       "      <th>NumberOfPolicy</th>\n",
       "      <th>MonthlyIncome</th>\n",
       "      <th>Complaint</th>\n",
       "      <th>ExistingPolicyTenure</th>\n",
       "      <th>SumAssured</th>\n",
       "      <th>LastMonthCalls</th>\n",
       "      <th>...</th>\n",
       "      <th>Designation_VP</th>\n",
       "      <th>MaritalStatus_Married</th>\n",
       "      <th>MaritalStatus_Single</th>\n",
       "      <th>Zone_North</th>\n",
       "      <th>Zone_South</th>\n",
       "      <th>Zone_West</th>\n",
       "      <th>PaymentMethod_Monthly</th>\n",
       "      <th>PaymentMethod_Quarterly</th>\n",
       "      <th>PaymentMethod_Yearly</th>\n",
       "      <th>AgentBonus</th>\n",
       "    </tr>\n",
       "  </thead>\n",
       "  <tbody>\n",
       "    <tr>\n",
       "      <td>2481</td>\n",
       "      <td>0.196429</td>\n",
       "      <td>0.036364</td>\n",
       "      <td>1.0</td>\n",
       "      <td>0.6</td>\n",
       "      <td>1.0</td>\n",
       "      <td>0.288635</td>\n",
       "      <td>0.0</td>\n",
       "      <td>0.000000</td>\n",
       "      <td>0.098377</td>\n",
       "      <td>0.166667</td>\n",
       "      <td>...</td>\n",
       "      <td>0.0</td>\n",
       "      <td>0.0</td>\n",
       "      <td>0.0</td>\n",
       "      <td>1.0</td>\n",
       "      <td>0.0</td>\n",
       "      <td>0.0</td>\n",
       "      <td>0.0</td>\n",
       "      <td>0.0</td>\n",
       "      <td>0.0</td>\n",
       "      <td>0.080470</td>\n",
       "    </tr>\n",
       "    <tr>\n",
       "      <td>1230</td>\n",
       "      <td>0.303571</td>\n",
       "      <td>0.109091</td>\n",
       "      <td>1.0</td>\n",
       "      <td>0.4</td>\n",
       "      <td>0.4</td>\n",
       "      <td>0.339644</td>\n",
       "      <td>0.0</td>\n",
       "      <td>0.000000</td>\n",
       "      <td>0.188908</td>\n",
       "      <td>0.611111</td>\n",
       "      <td>...</td>\n",
       "      <td>0.0</td>\n",
       "      <td>0.0</td>\n",
       "      <td>1.0</td>\n",
       "      <td>0.0</td>\n",
       "      <td>0.0</td>\n",
       "      <td>1.0</td>\n",
       "      <td>0.0</td>\n",
       "      <td>0.0</td>\n",
       "      <td>0.0</td>\n",
       "      <td>0.271898</td>\n",
       "    </tr>\n",
       "    <tr>\n",
       "      <td>351</td>\n",
       "      <td>0.267857</td>\n",
       "      <td>0.090909</td>\n",
       "      <td>1.0</td>\n",
       "      <td>0.6</td>\n",
       "      <td>0.2</td>\n",
       "      <td>0.807769</td>\n",
       "      <td>0.0</td>\n",
       "      <td>0.083333</td>\n",
       "      <td>0.269118</td>\n",
       "      <td>0.333333</td>\n",
       "      <td>...</td>\n",
       "      <td>1.0</td>\n",
       "      <td>1.0</td>\n",
       "      <td>0.0</td>\n",
       "      <td>1.0</td>\n",
       "      <td>0.0</td>\n",
       "      <td>0.0</td>\n",
       "      <td>0.0</td>\n",
       "      <td>0.0</td>\n",
       "      <td>1.0</td>\n",
       "      <td>0.226040</td>\n",
       "    </tr>\n",
       "    <tr>\n",
       "      <td>186</td>\n",
       "      <td>0.196429</td>\n",
       "      <td>0.090909</td>\n",
       "      <td>0.0</td>\n",
       "      <td>0.2</td>\n",
       "      <td>0.6</td>\n",
       "      <td>0.076046</td>\n",
       "      <td>0.0</td>\n",
       "      <td>0.208333</td>\n",
       "      <td>0.174902</td>\n",
       "      <td>0.000000</td>\n",
       "      <td>...</td>\n",
       "      <td>0.0</td>\n",
       "      <td>0.0</td>\n",
       "      <td>1.0</td>\n",
       "      <td>0.0</td>\n",
       "      <td>0.0</td>\n",
       "      <td>1.0</td>\n",
       "      <td>0.0</td>\n",
       "      <td>1.0</td>\n",
       "      <td>0.0</td>\n",
       "      <td>0.242159</td>\n",
       "    </tr>\n",
       "    <tr>\n",
       "      <td>3823</td>\n",
       "      <td>0.357143</td>\n",
       "      <td>0.218182</td>\n",
       "      <td>0.0</td>\n",
       "      <td>0.2</td>\n",
       "      <td>1.0</td>\n",
       "      <td>0.358756</td>\n",
       "      <td>1.0</td>\n",
       "      <td>0.125000</td>\n",
       "      <td>0.188693</td>\n",
       "      <td>0.444444</td>\n",
       "      <td>...</td>\n",
       "      <td>0.0</td>\n",
       "      <td>1.0</td>\n",
       "      <td>0.0</td>\n",
       "      <td>0.0</td>\n",
       "      <td>0.0</td>\n",
       "      <td>1.0</td>\n",
       "      <td>1.0</td>\n",
       "      <td>0.0</td>\n",
       "      <td>0.0</td>\n",
       "      <td>0.250406</td>\n",
       "    </tr>\n",
       "  </tbody>\n",
       "</table>\n",
       "<p>5 rows × 35 columns</p>\n",
       "</div>"
      ],
      "text/plain": [
       "           Age  CustTenure  Gender  ExistingProdType  NumberOfPolicy  \\\n",
       "2481  0.196429    0.036364     1.0               0.6             1.0   \n",
       "1230  0.303571    0.109091     1.0               0.4             0.4   \n",
       "351   0.267857    0.090909     1.0               0.6             0.2   \n",
       "186   0.196429    0.090909     0.0               0.2             0.6   \n",
       "3823  0.357143    0.218182     0.0               0.2             1.0   \n",
       "\n",
       "      MonthlyIncome  Complaint  ExistingPolicyTenure  SumAssured  \\\n",
       "2481       0.288635        0.0              0.000000    0.098377   \n",
       "1230       0.339644        0.0              0.000000    0.188908   \n",
       "351        0.807769        0.0              0.083333    0.269118   \n",
       "186        0.076046        0.0              0.208333    0.174902   \n",
       "3823       0.358756        1.0              0.125000    0.188693   \n",
       "\n",
       "      LastMonthCalls  ...  Designation_VP  MaritalStatus_Married  \\\n",
       "2481        0.166667  ...             0.0                    0.0   \n",
       "1230        0.611111  ...             0.0                    0.0   \n",
       "351         0.333333  ...             1.0                    1.0   \n",
       "186         0.000000  ...             0.0                    0.0   \n",
       "3823        0.444444  ...             0.0                    1.0   \n",
       "\n",
       "      MaritalStatus_Single  Zone_North  Zone_South  Zone_West  \\\n",
       "2481                   0.0         1.0         0.0        0.0   \n",
       "1230                   1.0         0.0         0.0        1.0   \n",
       "351                    0.0         1.0         0.0        0.0   \n",
       "186                    1.0         0.0         0.0        1.0   \n",
       "3823                   0.0         0.0         0.0        1.0   \n",
       "\n",
       "      PaymentMethod_Monthly  PaymentMethod_Quarterly  PaymentMethod_Yearly  \\\n",
       "2481                    0.0                      0.0                   0.0   \n",
       "1230                    0.0                      0.0                   0.0   \n",
       "351                     0.0                      0.0                   1.0   \n",
       "186                     0.0                      1.0                   0.0   \n",
       "3823                    1.0                      0.0                   0.0   \n",
       "\n",
       "      AgentBonus  \n",
       "2481    0.080470  \n",
       "1230    0.271898  \n",
       "351     0.226040  \n",
       "186     0.242159  \n",
       "3823    0.250406  \n",
       "\n",
       "[5 rows x 35 columns]"
      ]
     },
     "execution_count": 173,
     "metadata": {},
     "output_type": "execute_result"
    }
   ],
   "source": [
    "data_train = pd.concat([X_train, y_train], axis=1)\n",
    "data_train.head()"
   ]
  },
  {
   "cell_type": "code",
   "execution_count": 176,
   "metadata": {},
   "outputs": [
    {
     "data": {
      "text/plain": [
       "Index(['Age', 'CustTenure', 'Gender', 'ExistingProdType', 'NumberOfPolicy',\n",
       "       'MonthlyIncome', 'Complaint', 'ExistingPolicyTenure', 'SumAssured',\n",
       "       'LastMonthCalls', 'CustCareScore', 'Channel_Online',\n",
       "       'Channel_Third Party Partner', 'Occupation_Large Business',\n",
       "       'Occupation_Salaried', 'Occupation_Small Business',\n",
       "       'EducationField_Engineer', 'EducationField_Graduate',\n",
       "       'EducationField_MBA', 'EducationField_Post Graduate',\n",
       "       'EducationField_Under Graduate', 'Designation_Exe',\n",
       "       'Designation_Executive', 'Designation_Manager',\n",
       "       'Designation_Senior Manager', 'Designation_VP', 'MaritalStatus_Married',\n",
       "       'MaritalStatus_Single', 'Zone_North', 'Zone_South', 'Zone_West',\n",
       "       'PaymentMethod_Monthly', 'PaymentMethod_Quarterly',\n",
       "       'PaymentMethod_Yearly', 'AgentBonus'],\n",
       "      dtype='object')"
      ]
     },
     "execution_count": 176,
     "metadata": {},
     "output_type": "execute_result"
    }
   ],
   "source": [
    "data_train.columns"
   ]
  },
  {
   "cell_type": "code",
   "execution_count": 194,
   "metadata": {},
   "outputs": [],
   "source": [
    "expr= 'AgentBonus ~ Age+CustTenure+ExistingProdType+NumberOfPolicy+MonthlyIncome+Complaint+ExistingPolicyTenure+SumAssured+LastMonthCalls+CustCareScore+Channel_Online+Occupation_Salaried+EducationField_Engineer+EducationField_Graduate+EducationField_MBA+Gender+Designation_Executive+Designation_Manager+Designation_VP+MaritalStatus_Married+MaritalStatus_Single+Zone_North+Zone_South+Zone_West+PaymentMethod_Monthly+PaymentMethod_Quarterly+PaymentMethod_Yearly'"
   ]
  },
  {
   "cell_type": "code",
   "execution_count": 195,
   "metadata": {},
   "outputs": [
    {
     "data": {
      "text/plain": [
       "Intercept                 -0.023969\n",
       "Age                        0.160078\n",
       "CustTenure                 0.165774\n",
       "ExistingProdType           0.000055\n",
       "NumberOfPolicy             0.002643\n",
       "MonthlyIncome              0.151960\n",
       "Complaint                  0.004537\n",
       "ExistingPolicyTenure       0.113628\n",
       "SumAssured                 0.717965\n",
       "LastMonthCalls            -0.001690\n",
       "CustCareScore              0.004050\n",
       "Channel_Online             0.003730\n",
       "Occupation_Salaried        0.004731\n",
       "EducationField_Engineer   -0.001377\n",
       "EducationField_Graduate   -0.002707\n",
       "EducationField_MBA        -0.021260\n",
       "Gender                     0.001281\n",
       "Designation_Executive     -0.003946\n",
       "Designation_Manager       -0.011358\n",
       "Designation_VP            -0.006721\n",
       "MaritalStatus_Married     -0.003887\n",
       "MaritalStatus_Single       0.001174\n",
       "Zone_North                 0.006397\n",
       "Zone_South                 0.028322\n",
       "Zone_West                  0.006452\n",
       "PaymentMethod_Monthly      0.011776\n",
       "PaymentMethod_Quarterly    0.005015\n",
       "PaymentMethod_Yearly      -0.003393\n",
       "dtype: float64"
      ]
     },
     "execution_count": 195,
     "metadata": {},
     "output_type": "execute_result"
    }
   ],
   "source": [
    "import statsmodels.formula.api as smf\n",
    "lm1 = smf.ols(formula=expr, data = data_train).fit()\n",
    "lm1.params"
   ]
  },
  {
   "cell_type": "code",
   "execution_count": 197,
   "metadata": {},
   "outputs": [
    {
     "data": {
      "text/html": [
       "<table class=\"simpletable\">\n",
       "<caption>OLS Regression Results</caption>\n",
       "<tr>\n",
       "  <th>Dep. Variable:</th>       <td>AgentBonus</td>    <th>  R-squared:         </th> <td>   0.807</td>\n",
       "</tr>\n",
       "<tr>\n",
       "  <th>Model:</th>                   <td>OLS</td>       <th>  Adj. R-squared:    </th> <td>   0.806</td>\n",
       "</tr>\n",
       "<tr>\n",
       "  <th>Method:</th>             <td>Least Squares</td>  <th>  F-statistic:       </th> <td>   556.7</td>\n",
       "</tr>\n",
       "<tr>\n",
       "  <th>Date:</th>             <td>Wed, 30 Jun 2021</td> <th>  Prob (F-statistic):</th>  <td>  0.00</td> \n",
       "</tr>\n",
       "<tr>\n",
       "  <th>Time:</th>                 <td>19:34:45</td>     <th>  Log-Likelihood:    </th> <td>  4137.6</td>\n",
       "</tr>\n",
       "<tr>\n",
       "  <th>No. Observations:</th>      <td>  3616</td>      <th>  AIC:               </th> <td>  -8219.</td>\n",
       "</tr>\n",
       "<tr>\n",
       "  <th>Df Residuals:</th>          <td>  3588</td>      <th>  BIC:               </th> <td>  -8046.</td>\n",
       "</tr>\n",
       "<tr>\n",
       "  <th>Df Model:</th>              <td>    27</td>      <th>                     </th>     <td> </td>   \n",
       "</tr>\n",
       "<tr>\n",
       "  <th>Covariance Type:</th>      <td>nonrobust</td>    <th>                     </th>     <td> </td>   \n",
       "</tr>\n",
       "</table>\n",
       "<table class=\"simpletable\">\n",
       "<tr>\n",
       "             <td></td>                <th>coef</th>     <th>std err</th>      <th>t</th>      <th>P>|t|</th>  <th>[0.025</th>    <th>0.975]</th>  \n",
       "</tr>\n",
       "<tr>\n",
       "  <th>Intercept</th>               <td>   -0.0240</td> <td>    0.014</td> <td>   -1.755</td> <td> 0.079</td> <td>   -0.051</td> <td>    0.003</td>\n",
       "</tr>\n",
       "<tr>\n",
       "  <th>Age</th>                     <td>    0.1601</td> <td>    0.010</td> <td>   16.776</td> <td> 0.000</td> <td>    0.141</td> <td>    0.179</td>\n",
       "</tr>\n",
       "<tr>\n",
       "  <th>CustTenure</th>              <td>    0.1658</td> <td>    0.009</td> <td>   17.676</td> <td> 0.000</td> <td>    0.147</td> <td>    0.184</td>\n",
       "</tr>\n",
       "<tr>\n",
       "  <th>ExistingProdType</th>        <td> 5.499e-05</td> <td>    0.013</td> <td>    0.004</td> <td> 0.997</td> <td>   -0.025</td> <td>    0.025</td>\n",
       "</tr>\n",
       "<tr>\n",
       "  <th>NumberOfPolicy</th>          <td>    0.0026</td> <td>    0.005</td> <td>    0.566</td> <td> 0.571</td> <td>   -0.007</td> <td>    0.012</td>\n",
       "</tr>\n",
       "<tr>\n",
       "  <th>MonthlyIncome</th>           <td>    0.1520</td> <td>    0.011</td> <td>   13.364</td> <td> 0.000</td> <td>    0.130</td> <td>    0.174</td>\n",
       "</tr>\n",
       "<tr>\n",
       "  <th>Complaint</th>               <td>    0.0045</td> <td>    0.003</td> <td>    1.586</td> <td> 0.113</td> <td>   -0.001</td> <td>    0.010</td>\n",
       "</tr>\n",
       "<tr>\n",
       "  <th>ExistingPolicyTenure</th>    <td>    0.1136</td> <td>    0.010</td> <td>   11.404</td> <td> 0.000</td> <td>    0.094</td> <td>    0.133</td>\n",
       "</tr>\n",
       "<tr>\n",
       "  <th>SumAssured</th>              <td>    0.7180</td> <td>    0.012</td> <td>   61.583</td> <td> 0.000</td> <td>    0.695</td> <td>    0.741</td>\n",
       "</tr>\n",
       "<tr>\n",
       "  <th>LastMonthCalls</th>          <td>   -0.0017</td> <td>    0.007</td> <td>   -0.245</td> <td> 0.807</td> <td>   -0.015</td> <td>    0.012</td>\n",
       "</tr>\n",
       "<tr>\n",
       "  <th>CustCareScore</th>           <td>    0.0041</td> <td>    0.004</td> <td>    1.070</td> <td> 0.285</td> <td>   -0.003</td> <td>    0.011</td>\n",
       "</tr>\n",
       "<tr>\n",
       "  <th>Channel_Online</th>          <td>    0.0037</td> <td>    0.004</td> <td>    0.886</td> <td> 0.376</td> <td>   -0.005</td> <td>    0.012</td>\n",
       "</tr>\n",
       "<tr>\n",
       "  <th>Occupation_Salaried</th>     <td>    0.0047</td> <td>    0.005</td> <td>    0.912</td> <td> 0.362</td> <td>   -0.005</td> <td>    0.015</td>\n",
       "</tr>\n",
       "<tr>\n",
       "  <th>EducationField_Engineer</th> <td>   -0.0014</td> <td>    0.005</td> <td>   -0.287</td> <td> 0.774</td> <td>   -0.011</td> <td>    0.008</td>\n",
       "</tr>\n",
       "<tr>\n",
       "  <th>EducationField_Graduate</th> <td>   -0.0027</td> <td>    0.005</td> <td>   -0.519</td> <td> 0.604</td> <td>   -0.013</td> <td>    0.008</td>\n",
       "</tr>\n",
       "<tr>\n",
       "  <th>EducationField_MBA</th>      <td>   -0.0213</td> <td>    0.012</td> <td>   -1.846</td> <td> 0.065</td> <td>   -0.044</td> <td>    0.001</td>\n",
       "</tr>\n",
       "<tr>\n",
       "  <th>Gender</th>                  <td>    0.0013</td> <td>    0.003</td> <td>    0.484</td> <td> 0.629</td> <td>   -0.004</td> <td>    0.006</td>\n",
       "</tr>\n",
       "<tr>\n",
       "  <th>Designation_Executive</th>   <td>   -0.0039</td> <td>    0.005</td> <td>   -0.864</td> <td> 0.387</td> <td>   -0.013</td> <td>    0.005</td>\n",
       "</tr>\n",
       "<tr>\n",
       "  <th>Designation_Manager</th>     <td>   -0.0114</td> <td>    0.004</td> <td>   -3.016</td> <td> 0.003</td> <td>   -0.019</td> <td>   -0.004</td>\n",
       "</tr>\n",
       "<tr>\n",
       "  <th>Designation_VP</th>          <td>   -0.0067</td> <td>    0.008</td> <td>   -0.828</td> <td> 0.408</td> <td>   -0.023</td> <td>    0.009</td>\n",
       "</tr>\n",
       "<tr>\n",
       "  <th>MaritalStatus_Married</th>   <td>   -0.0039</td> <td>    0.004</td> <td>   -1.095</td> <td> 0.274</td> <td>   -0.011</td> <td>    0.003</td>\n",
       "</tr>\n",
       "<tr>\n",
       "  <th>MaritalStatus_Single</th>    <td>    0.0012</td> <td>    0.004</td> <td>    0.306</td> <td> 0.759</td> <td>   -0.006</td> <td>    0.009</td>\n",
       "</tr>\n",
       "<tr>\n",
       "  <th>Zone_North</th>              <td>    0.0064</td> <td>    0.012</td> <td>    0.555</td> <td> 0.579</td> <td>   -0.016</td> <td>    0.029</td>\n",
       "</tr>\n",
       "<tr>\n",
       "  <th>Zone_South</th>              <td>    0.0283</td> <td>    0.036</td> <td>    0.776</td> <td> 0.438</td> <td>   -0.043</td> <td>    0.100</td>\n",
       "</tr>\n",
       "<tr>\n",
       "  <th>Zone_West</th>               <td>    0.0065</td> <td>    0.011</td> <td>    0.563</td> <td> 0.574</td> <td>   -0.016</td> <td>    0.029</td>\n",
       "</tr>\n",
       "<tr>\n",
       "  <th>PaymentMethod_Monthly</th>   <td>    0.0118</td> <td>    0.007</td> <td>    1.665</td> <td> 0.096</td> <td>   -0.002</td> <td>    0.026</td>\n",
       "</tr>\n",
       "<tr>\n",
       "  <th>PaymentMethod_Quarterly</th> <td>    0.0050</td> <td>    0.010</td> <td>    0.490</td> <td> 0.624</td> <td>   -0.015</td> <td>    0.025</td>\n",
       "</tr>\n",
       "<tr>\n",
       "  <th>PaymentMethod_Yearly</th>    <td>   -0.0034</td> <td>    0.004</td> <td>   -0.840</td> <td> 0.401</td> <td>   -0.011</td> <td>    0.005</td>\n",
       "</tr>\n",
       "</table>\n",
       "<table class=\"simpletable\">\n",
       "<tr>\n",
       "  <th>Omnibus:</th>       <td>238.171</td> <th>  Durbin-Watson:     </th> <td>   2.035</td>\n",
       "</tr>\n",
       "<tr>\n",
       "  <th>Prob(Omnibus):</th> <td> 0.000</td>  <th>  Jarque-Bera (JB):  </th> <td> 306.160</td>\n",
       "</tr>\n",
       "<tr>\n",
       "  <th>Skew:</th>          <td> 0.607</td>  <th>  Prob(JB):          </th> <td>3.30e-67</td>\n",
       "</tr>\n",
       "<tr>\n",
       "  <th>Kurtosis:</th>      <td> 3.746</td>  <th>  Cond. No.          </th> <td>    60.1</td>\n",
       "</tr>\n",
       "</table><br/><br/>Warnings:<br/>[1] Standard Errors assume that the covariance matrix of the errors is correctly specified."
      ],
      "text/plain": [
       "<class 'statsmodels.iolib.summary.Summary'>\n",
       "\"\"\"\n",
       "                            OLS Regression Results                            \n",
       "==============================================================================\n",
       "Dep. Variable:             AgentBonus   R-squared:                       0.807\n",
       "Model:                            OLS   Adj. R-squared:                  0.806\n",
       "Method:                 Least Squares   F-statistic:                     556.7\n",
       "Date:                Wed, 30 Jun 2021   Prob (F-statistic):               0.00\n",
       "Time:                        19:34:45   Log-Likelihood:                 4137.6\n",
       "No. Observations:                3616   AIC:                            -8219.\n",
       "Df Residuals:                    3588   BIC:                            -8046.\n",
       "Df Model:                          27                                         \n",
       "Covariance Type:            nonrobust                                         \n",
       "===========================================================================================\n",
       "                              coef    std err          t      P>|t|      [0.025      0.975]\n",
       "-------------------------------------------------------------------------------------------\n",
       "Intercept                  -0.0240      0.014     -1.755      0.079      -0.051       0.003\n",
       "Age                         0.1601      0.010     16.776      0.000       0.141       0.179\n",
       "CustTenure                  0.1658      0.009     17.676      0.000       0.147       0.184\n",
       "ExistingProdType         5.499e-05      0.013      0.004      0.997      -0.025       0.025\n",
       "NumberOfPolicy              0.0026      0.005      0.566      0.571      -0.007       0.012\n",
       "MonthlyIncome               0.1520      0.011     13.364      0.000       0.130       0.174\n",
       "Complaint                   0.0045      0.003      1.586      0.113      -0.001       0.010\n",
       "ExistingPolicyTenure        0.1136      0.010     11.404      0.000       0.094       0.133\n",
       "SumAssured                  0.7180      0.012     61.583      0.000       0.695       0.741\n",
       "LastMonthCalls             -0.0017      0.007     -0.245      0.807      -0.015       0.012\n",
       "CustCareScore               0.0041      0.004      1.070      0.285      -0.003       0.011\n",
       "Channel_Online              0.0037      0.004      0.886      0.376      -0.005       0.012\n",
       "Occupation_Salaried         0.0047      0.005      0.912      0.362      -0.005       0.015\n",
       "EducationField_Engineer    -0.0014      0.005     -0.287      0.774      -0.011       0.008\n",
       "EducationField_Graduate    -0.0027      0.005     -0.519      0.604      -0.013       0.008\n",
       "EducationField_MBA         -0.0213      0.012     -1.846      0.065      -0.044       0.001\n",
       "Gender                      0.0013      0.003      0.484      0.629      -0.004       0.006\n",
       "Designation_Executive      -0.0039      0.005     -0.864      0.387      -0.013       0.005\n",
       "Designation_Manager        -0.0114      0.004     -3.016      0.003      -0.019      -0.004\n",
       "Designation_VP             -0.0067      0.008     -0.828      0.408      -0.023       0.009\n",
       "MaritalStatus_Married      -0.0039      0.004     -1.095      0.274      -0.011       0.003\n",
       "MaritalStatus_Single        0.0012      0.004      0.306      0.759      -0.006       0.009\n",
       "Zone_North                  0.0064      0.012      0.555      0.579      -0.016       0.029\n",
       "Zone_South                  0.0283      0.036      0.776      0.438      -0.043       0.100\n",
       "Zone_West                   0.0065      0.011      0.563      0.574      -0.016       0.029\n",
       "PaymentMethod_Monthly       0.0118      0.007      1.665      0.096      -0.002       0.026\n",
       "PaymentMethod_Quarterly     0.0050      0.010      0.490      0.624      -0.015       0.025\n",
       "PaymentMethod_Yearly       -0.0034      0.004     -0.840      0.401      -0.011       0.005\n",
       "==============================================================================\n",
       "Omnibus:                      238.171   Durbin-Watson:                   2.035\n",
       "Prob(Omnibus):                  0.000   Jarque-Bera (JB):              306.160\n",
       "Skew:                           0.607   Prob(JB):                     3.30e-67\n",
       "Kurtosis:                       3.746   Cond. No.                         60.1\n",
       "==============================================================================\n",
       "\n",
       "Warnings:\n",
       "[1] Standard Errors assume that the covariance matrix of the errors is correctly specified.\n",
       "\"\"\""
      ]
     },
     "execution_count": 197,
     "metadata": {},
     "output_type": "execute_result"
    }
   ],
   "source": [
    "lm1.summary()"
   ]
  },
  {
   "cell_type": "code",
   "execution_count": null,
   "metadata": {},
   "outputs": [],
   "source": []
  },
  {
   "cell_type": "code",
   "execution_count": null,
   "metadata": {},
   "outputs": [],
   "source": []
  },
  {
   "cell_type": "code",
   "execution_count": null,
   "metadata": {},
   "outputs": [],
   "source": []
  }
 ],
 "metadata": {
  "kernelspec": {
   "display_name": "Python 3",
   "language": "python",
   "name": "python3"
  },
  "language_info": {
   "codemirror_mode": {
    "name": "ipython",
    "version": 3
   },
   "file_extension": ".py",
   "mimetype": "text/x-python",
   "name": "python",
   "nbconvert_exporter": "python",
   "pygments_lexer": "ipython3",
   "version": "3.7.4"
  }
 },
 "nbformat": 4,
 "nbformat_minor": 2
}
