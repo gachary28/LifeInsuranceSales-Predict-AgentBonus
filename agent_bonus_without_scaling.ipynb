{
 "cells": [
  {
   "cell_type": "code",
   "execution_count": 4,
   "metadata": {},
   "outputs": [
    {
     "name": "stderr",
     "output_type": "stream",
     "text": [
      "C:\\Users\\spdev\\Anaconda3\\lib\\importlib\\_bootstrap.py:219: RuntimeWarning: numpy.ufunc size changed, may indicate binary incompatibility. Expected 192 from C header, got 216 from PyObject\n",
      "  return f(*args, **kwds)\n",
      "C:\\Users\\spdev\\Anaconda3\\lib\\importlib\\_bootstrap.py:219: RuntimeWarning: numpy.ufunc size changed, may indicate binary incompatibility. Expected 192 from C header, got 216 from PyObject\n",
      "  return f(*args, **kwds)\n"
     ]
    }
   ],
   "source": [
    "# import required libraries\n",
    "import pandas as pd\n",
    "import numpy as np\n",
    "import matplotlib.pyplot as plt\n",
    "%matplotlib inline"
   ]
  },
  {
   "cell_type": "code",
   "execution_count": 5,
   "metadata": {},
   "outputs": [],
   "source": [
    "# Read dataset\n",
    "insurance_data =  pd.read_excel(\"Sales.xlsx\", sheet_name=\"Sales\")"
   ]
  },
  {
   "cell_type": "code",
   "execution_count": 6,
   "metadata": {},
   "outputs": [
    {
     "data": {
      "text/html": [
       "<div>\n",
       "<style scoped>\n",
       "    .dataframe tbody tr th:only-of-type {\n",
       "        vertical-align: middle;\n",
       "    }\n",
       "\n",
       "    .dataframe tbody tr th {\n",
       "        vertical-align: top;\n",
       "    }\n",
       "\n",
       "    .dataframe thead th {\n",
       "        text-align: right;\n",
       "    }\n",
       "</style>\n",
       "<table border=\"1\" class=\"dataframe\">\n",
       "  <thead>\n",
       "    <tr style=\"text-align: right;\">\n",
       "      <th></th>\n",
       "      <th>CustID</th>\n",
       "      <th>AgentBonus</th>\n",
       "      <th>Age</th>\n",
       "      <th>CustTenure</th>\n",
       "      <th>Channel</th>\n",
       "      <th>Occupation</th>\n",
       "      <th>EducationField</th>\n",
       "      <th>Gender</th>\n",
       "      <th>ExistingProdType</th>\n",
       "      <th>Designation</th>\n",
       "      <th>NumberOfPolicy</th>\n",
       "      <th>MaritalStatus</th>\n",
       "      <th>MonthlyIncome</th>\n",
       "      <th>Complaint</th>\n",
       "      <th>ExistingPolicyTenure</th>\n",
       "      <th>SumAssured</th>\n",
       "      <th>Zone</th>\n",
       "      <th>PaymentMethod</th>\n",
       "      <th>LastMonthCalls</th>\n",
       "      <th>CustCareScore</th>\n",
       "    </tr>\n",
       "  </thead>\n",
       "  <tbody>\n",
       "    <tr>\n",
       "      <td>0</td>\n",
       "      <td>7000000</td>\n",
       "      <td>4409</td>\n",
       "      <td>22.0</td>\n",
       "      <td>4.0</td>\n",
       "      <td>Agent</td>\n",
       "      <td>Salaried</td>\n",
       "      <td>Graduate</td>\n",
       "      <td>Female</td>\n",
       "      <td>3</td>\n",
       "      <td>Manager</td>\n",
       "      <td>2.0</td>\n",
       "      <td>Single</td>\n",
       "      <td>20993.0</td>\n",
       "      <td>1</td>\n",
       "      <td>2.0</td>\n",
       "      <td>806761.0</td>\n",
       "      <td>North</td>\n",
       "      <td>Half Yearly</td>\n",
       "      <td>5</td>\n",
       "      <td>2.0</td>\n",
       "    </tr>\n",
       "    <tr>\n",
       "      <td>1</td>\n",
       "      <td>7000001</td>\n",
       "      <td>2214</td>\n",
       "      <td>11.0</td>\n",
       "      <td>2.0</td>\n",
       "      <td>Third Party Partner</td>\n",
       "      <td>Salaried</td>\n",
       "      <td>Graduate</td>\n",
       "      <td>Male</td>\n",
       "      <td>4</td>\n",
       "      <td>Manager</td>\n",
       "      <td>4.0</td>\n",
       "      <td>Divorced</td>\n",
       "      <td>20130.0</td>\n",
       "      <td>0</td>\n",
       "      <td>3.0</td>\n",
       "      <td>294502.0</td>\n",
       "      <td>North</td>\n",
       "      <td>Yearly</td>\n",
       "      <td>7</td>\n",
       "      <td>3.0</td>\n",
       "    </tr>\n",
       "    <tr>\n",
       "      <td>2</td>\n",
       "      <td>7000002</td>\n",
       "      <td>4273</td>\n",
       "      <td>26.0</td>\n",
       "      <td>4.0</td>\n",
       "      <td>Agent</td>\n",
       "      <td>Free Lancer</td>\n",
       "      <td>Post Graduate</td>\n",
       "      <td>Male</td>\n",
       "      <td>4</td>\n",
       "      <td>Exe</td>\n",
       "      <td>3.0</td>\n",
       "      <td>Unmarried</td>\n",
       "      <td>17090.0</td>\n",
       "      <td>1</td>\n",
       "      <td>2.0</td>\n",
       "      <td>NaN</td>\n",
       "      <td>North</td>\n",
       "      <td>Yearly</td>\n",
       "      <td>0</td>\n",
       "      <td>3.0</td>\n",
       "    </tr>\n",
       "    <tr>\n",
       "      <td>3</td>\n",
       "      <td>7000003</td>\n",
       "      <td>1791</td>\n",
       "      <td>11.0</td>\n",
       "      <td>NaN</td>\n",
       "      <td>Third Party Partner</td>\n",
       "      <td>Salaried</td>\n",
       "      <td>Graduate</td>\n",
       "      <td>Fe male</td>\n",
       "      <td>3</td>\n",
       "      <td>Executive</td>\n",
       "      <td>3.0</td>\n",
       "      <td>Divorced</td>\n",
       "      <td>17909.0</td>\n",
       "      <td>1</td>\n",
       "      <td>2.0</td>\n",
       "      <td>268635.0</td>\n",
       "      <td>West</td>\n",
       "      <td>Half Yearly</td>\n",
       "      <td>0</td>\n",
       "      <td>5.0</td>\n",
       "    </tr>\n",
       "    <tr>\n",
       "      <td>4</td>\n",
       "      <td>7000004</td>\n",
       "      <td>2955</td>\n",
       "      <td>6.0</td>\n",
       "      <td>NaN</td>\n",
       "      <td>Agent</td>\n",
       "      <td>Small Business</td>\n",
       "      <td>UG</td>\n",
       "      <td>Male</td>\n",
       "      <td>3</td>\n",
       "      <td>Executive</td>\n",
       "      <td>4.0</td>\n",
       "      <td>Divorced</td>\n",
       "      <td>18468.0</td>\n",
       "      <td>0</td>\n",
       "      <td>4.0</td>\n",
       "      <td>366405.0</td>\n",
       "      <td>West</td>\n",
       "      <td>Half Yearly</td>\n",
       "      <td>2</td>\n",
       "      <td>5.0</td>\n",
       "    </tr>\n",
       "    <tr>\n",
       "      <td>5</td>\n",
       "      <td>7000005</td>\n",
       "      <td>3252</td>\n",
       "      <td>7.0</td>\n",
       "      <td>NaN</td>\n",
       "      <td>Third Party Partner</td>\n",
       "      <td>Salaried</td>\n",
       "      <td>Graduate</td>\n",
       "      <td>Male</td>\n",
       "      <td>3</td>\n",
       "      <td>Executive</td>\n",
       "      <td>2.0</td>\n",
       "      <td>Single</td>\n",
       "      <td>18068.0</td>\n",
       "      <td>0</td>\n",
       "      <td>2.0</td>\n",
       "      <td>487836.0</td>\n",
       "      <td>North</td>\n",
       "      <td>Half Yearly</td>\n",
       "      <td>6</td>\n",
       "      <td>5.0</td>\n",
       "    </tr>\n",
       "    <tr>\n",
       "      <td>6</td>\n",
       "      <td>7000006</td>\n",
       "      <td>3850</td>\n",
       "      <td>12.0</td>\n",
       "      <td>23.0</td>\n",
       "      <td>Agent</td>\n",
       "      <td>Salaried</td>\n",
       "      <td>Graduate</td>\n",
       "      <td>Male</td>\n",
       "      <td>4</td>\n",
       "      <td>VP</td>\n",
       "      <td>3.0</td>\n",
       "      <td>Divorced</td>\n",
       "      <td>34999.0</td>\n",
       "      <td>0</td>\n",
       "      <td>2.0</td>\n",
       "      <td>392689.0</td>\n",
       "      <td>North</td>\n",
       "      <td>Yearly</td>\n",
       "      <td>9</td>\n",
       "      <td>2.0</td>\n",
       "    </tr>\n",
       "    <tr>\n",
       "      <td>7</td>\n",
       "      <td>7000007</td>\n",
       "      <td>2073</td>\n",
       "      <td>6.0</td>\n",
       "      <td>4.0</td>\n",
       "      <td>Agent</td>\n",
       "      <td>Small Business</td>\n",
       "      <td>Under Graduate</td>\n",
       "      <td>Female</td>\n",
       "      <td>3</td>\n",
       "      <td>Executive</td>\n",
       "      <td>4.0</td>\n",
       "      <td>Unmarried</td>\n",
       "      <td>17279.0</td>\n",
       "      <td>0</td>\n",
       "      <td>2.0</td>\n",
       "      <td>369079.0</td>\n",
       "      <td>West</td>\n",
       "      <td>Half Yearly</td>\n",
       "      <td>3</td>\n",
       "      <td>3.0</td>\n",
       "    </tr>\n",
       "    <tr>\n",
       "      <td>8</td>\n",
       "      <td>7000008</td>\n",
       "      <td>2719</td>\n",
       "      <td>8.0</td>\n",
       "      <td>11.0</td>\n",
       "      <td>Agent</td>\n",
       "      <td>Salaried</td>\n",
       "      <td>Graduate</td>\n",
       "      <td>Male</td>\n",
       "      <td>4</td>\n",
       "      <td>Manager</td>\n",
       "      <td>3.0</td>\n",
       "      <td>Divorced</td>\n",
       "      <td>20916.0</td>\n",
       "      <td>1</td>\n",
       "      <td>1.0</td>\n",
       "      <td>405143.0</td>\n",
       "      <td>West</td>\n",
       "      <td>Yearly</td>\n",
       "      <td>1</td>\n",
       "      <td>4.0</td>\n",
       "    </tr>\n",
       "    <tr>\n",
       "      <td>9</td>\n",
       "      <td>7000009</td>\n",
       "      <td>3247</td>\n",
       "      <td>6.0</td>\n",
       "      <td>3.0</td>\n",
       "      <td>Online</td>\n",
       "      <td>Small Business</td>\n",
       "      <td>Under Graduate</td>\n",
       "      <td>Male</td>\n",
       "      <td>2</td>\n",
       "      <td>Exe</td>\n",
       "      <td>2.0</td>\n",
       "      <td>Married</td>\n",
       "      <td>17089.0</td>\n",
       "      <td>0</td>\n",
       "      <td>1.0</td>\n",
       "      <td>NaN</td>\n",
       "      <td>West</td>\n",
       "      <td>Quarterly</td>\n",
       "      <td>2</td>\n",
       "      <td>4.0</td>\n",
       "    </tr>\n",
       "  </tbody>\n",
       "</table>\n",
       "</div>"
      ],
      "text/plain": [
       "    CustID  AgentBonus   Age  CustTenure              Channel      Occupation  \\\n",
       "0  7000000        4409  22.0         4.0                Agent        Salaried   \n",
       "1  7000001        2214  11.0         2.0  Third Party Partner        Salaried   \n",
       "2  7000002        4273  26.0         4.0                Agent     Free Lancer   \n",
       "3  7000003        1791  11.0         NaN  Third Party Partner        Salaried   \n",
       "4  7000004        2955   6.0         NaN                Agent  Small Business   \n",
       "5  7000005        3252   7.0         NaN  Third Party Partner        Salaried   \n",
       "6  7000006        3850  12.0        23.0                Agent        Salaried   \n",
       "7  7000007        2073   6.0         4.0                Agent  Small Business   \n",
       "8  7000008        2719   8.0        11.0                Agent        Salaried   \n",
       "9  7000009        3247   6.0         3.0               Online  Small Business   \n",
       "\n",
       "   EducationField   Gender  ExistingProdType Designation  NumberOfPolicy  \\\n",
       "0        Graduate   Female                 3     Manager             2.0   \n",
       "1        Graduate     Male                 4     Manager             4.0   \n",
       "2   Post Graduate     Male                 4         Exe             3.0   \n",
       "3        Graduate  Fe male                 3   Executive             3.0   \n",
       "4              UG     Male                 3   Executive             4.0   \n",
       "5        Graduate     Male                 3   Executive             2.0   \n",
       "6        Graduate     Male                 4          VP             3.0   \n",
       "7  Under Graduate   Female                 3   Executive             4.0   \n",
       "8        Graduate     Male                 4     Manager             3.0   \n",
       "9  Under Graduate     Male                 2         Exe             2.0   \n",
       "\n",
       "  MaritalStatus  MonthlyIncome  Complaint  ExistingPolicyTenure  SumAssured  \\\n",
       "0        Single        20993.0          1                   2.0    806761.0   \n",
       "1      Divorced        20130.0          0                   3.0    294502.0   \n",
       "2     Unmarried        17090.0          1                   2.0         NaN   \n",
       "3      Divorced        17909.0          1                   2.0    268635.0   \n",
       "4      Divorced        18468.0          0                   4.0    366405.0   \n",
       "5        Single        18068.0          0                   2.0    487836.0   \n",
       "6      Divorced        34999.0          0                   2.0    392689.0   \n",
       "7     Unmarried        17279.0          0                   2.0    369079.0   \n",
       "8      Divorced        20916.0          1                   1.0    405143.0   \n",
       "9       Married        17089.0          0                   1.0         NaN   \n",
       "\n",
       "    Zone PaymentMethod  LastMonthCalls  CustCareScore  \n",
       "0  North   Half Yearly               5            2.0  \n",
       "1  North        Yearly               7            3.0  \n",
       "2  North        Yearly               0            3.0  \n",
       "3   West   Half Yearly               0            5.0  \n",
       "4   West   Half Yearly               2            5.0  \n",
       "5  North   Half Yearly               6            5.0  \n",
       "6  North        Yearly               9            2.0  \n",
       "7   West   Half Yearly               3            3.0  \n",
       "8   West        Yearly               1            4.0  \n",
       "9   West     Quarterly               2            4.0  "
      ]
     },
     "execution_count": 6,
     "metadata": {},
     "output_type": "execute_result"
    }
   ],
   "source": [
    "# display few observation from dataset\n",
    "insurance_data.head(10)"
   ]
  },
  {
   "cell_type": "code",
   "execution_count": 7,
   "metadata": {},
   "outputs": [
    {
     "data": {
      "text/html": [
       "<div>\n",
       "<style scoped>\n",
       "    .dataframe tbody tr th:only-of-type {\n",
       "        vertical-align: middle;\n",
       "    }\n",
       "\n",
       "    .dataframe tbody tr th {\n",
       "        vertical-align: top;\n",
       "    }\n",
       "\n",
       "    .dataframe thead th {\n",
       "        text-align: right;\n",
       "    }\n",
       "</style>\n",
       "<table border=\"1\" class=\"dataframe\">\n",
       "  <thead>\n",
       "    <tr style=\"text-align: right;\">\n",
       "      <th></th>\n",
       "      <th>count</th>\n",
       "      <th>unique</th>\n",
       "      <th>top</th>\n",
       "      <th>freq</th>\n",
       "      <th>mean</th>\n",
       "      <th>std</th>\n",
       "      <th>min</th>\n",
       "      <th>25%</th>\n",
       "      <th>50%</th>\n",
       "      <th>75%</th>\n",
       "      <th>max</th>\n",
       "    </tr>\n",
       "  </thead>\n",
       "  <tbody>\n",
       "    <tr>\n",
       "      <td>CustID</td>\n",
       "      <td>4520</td>\n",
       "      <td>NaN</td>\n",
       "      <td>NaN</td>\n",
       "      <td>NaN</td>\n",
       "      <td>7.00226e+06</td>\n",
       "      <td>1304.96</td>\n",
       "      <td>7e+06</td>\n",
       "      <td>7.00113e+06</td>\n",
       "      <td>7.00226e+06</td>\n",
       "      <td>7.00339e+06</td>\n",
       "      <td>7.00452e+06</td>\n",
       "    </tr>\n",
       "    <tr>\n",
       "      <td>AgentBonus</td>\n",
       "      <td>4520</td>\n",
       "      <td>NaN</td>\n",
       "      <td>NaN</td>\n",
       "      <td>NaN</td>\n",
       "      <td>4077.84</td>\n",
       "      <td>1403.32</td>\n",
       "      <td>1605</td>\n",
       "      <td>3027.75</td>\n",
       "      <td>3911.5</td>\n",
       "      <td>4867.25</td>\n",
       "      <td>9608</td>\n",
       "    </tr>\n",
       "    <tr>\n",
       "      <td>Age</td>\n",
       "      <td>4251</td>\n",
       "      <td>NaN</td>\n",
       "      <td>NaN</td>\n",
       "      <td>NaN</td>\n",
       "      <td>14.4947</td>\n",
       "      <td>9.03763</td>\n",
       "      <td>2</td>\n",
       "      <td>7</td>\n",
       "      <td>13</td>\n",
       "      <td>20</td>\n",
       "      <td>58</td>\n",
       "    </tr>\n",
       "    <tr>\n",
       "      <td>CustTenure</td>\n",
       "      <td>4294</td>\n",
       "      <td>NaN</td>\n",
       "      <td>NaN</td>\n",
       "      <td>NaN</td>\n",
       "      <td>14.469</td>\n",
       "      <td>8.96367</td>\n",
       "      <td>2</td>\n",
       "      <td>7</td>\n",
       "      <td>13</td>\n",
       "      <td>20</td>\n",
       "      <td>57</td>\n",
       "    </tr>\n",
       "    <tr>\n",
       "      <td>Channel</td>\n",
       "      <td>4520</td>\n",
       "      <td>3</td>\n",
       "      <td>Agent</td>\n",
       "      <td>3194</td>\n",
       "      <td>NaN</td>\n",
       "      <td>NaN</td>\n",
       "      <td>NaN</td>\n",
       "      <td>NaN</td>\n",
       "      <td>NaN</td>\n",
       "      <td>NaN</td>\n",
       "      <td>NaN</td>\n",
       "    </tr>\n",
       "    <tr>\n",
       "      <td>Occupation</td>\n",
       "      <td>4520</td>\n",
       "      <td>5</td>\n",
       "      <td>Salaried</td>\n",
       "      <td>2192</td>\n",
       "      <td>NaN</td>\n",
       "      <td>NaN</td>\n",
       "      <td>NaN</td>\n",
       "      <td>NaN</td>\n",
       "      <td>NaN</td>\n",
       "      <td>NaN</td>\n",
       "      <td>NaN</td>\n",
       "    </tr>\n",
       "    <tr>\n",
       "      <td>EducationField</td>\n",
       "      <td>4520</td>\n",
       "      <td>7</td>\n",
       "      <td>Graduate</td>\n",
       "      <td>1870</td>\n",
       "      <td>NaN</td>\n",
       "      <td>NaN</td>\n",
       "      <td>NaN</td>\n",
       "      <td>NaN</td>\n",
       "      <td>NaN</td>\n",
       "      <td>NaN</td>\n",
       "      <td>NaN</td>\n",
       "    </tr>\n",
       "    <tr>\n",
       "      <td>Gender</td>\n",
       "      <td>4520</td>\n",
       "      <td>3</td>\n",
       "      <td>Male</td>\n",
       "      <td>2688</td>\n",
       "      <td>NaN</td>\n",
       "      <td>NaN</td>\n",
       "      <td>NaN</td>\n",
       "      <td>NaN</td>\n",
       "      <td>NaN</td>\n",
       "      <td>NaN</td>\n",
       "      <td>NaN</td>\n",
       "    </tr>\n",
       "    <tr>\n",
       "      <td>ExistingProdType</td>\n",
       "      <td>4520</td>\n",
       "      <td>NaN</td>\n",
       "      <td>NaN</td>\n",
       "      <td>NaN</td>\n",
       "      <td>3.68894</td>\n",
       "      <td>1.01577</td>\n",
       "      <td>1</td>\n",
       "      <td>3</td>\n",
       "      <td>4</td>\n",
       "      <td>4</td>\n",
       "      <td>6</td>\n",
       "    </tr>\n",
       "    <tr>\n",
       "      <td>Designation</td>\n",
       "      <td>4520</td>\n",
       "      <td>6</td>\n",
       "      <td>Manager</td>\n",
       "      <td>1620</td>\n",
       "      <td>NaN</td>\n",
       "      <td>NaN</td>\n",
       "      <td>NaN</td>\n",
       "      <td>NaN</td>\n",
       "      <td>NaN</td>\n",
       "      <td>NaN</td>\n",
       "      <td>NaN</td>\n",
       "    </tr>\n",
       "    <tr>\n",
       "      <td>NumberOfPolicy</td>\n",
       "      <td>4475</td>\n",
       "      <td>NaN</td>\n",
       "      <td>NaN</td>\n",
       "      <td>NaN</td>\n",
       "      <td>3.56536</td>\n",
       "      <td>1.45593</td>\n",
       "      <td>1</td>\n",
       "      <td>2</td>\n",
       "      <td>4</td>\n",
       "      <td>5</td>\n",
       "      <td>6</td>\n",
       "    </tr>\n",
       "    <tr>\n",
       "      <td>MaritalStatus</td>\n",
       "      <td>4520</td>\n",
       "      <td>4</td>\n",
       "      <td>Married</td>\n",
       "      <td>2268</td>\n",
       "      <td>NaN</td>\n",
       "      <td>NaN</td>\n",
       "      <td>NaN</td>\n",
       "      <td>NaN</td>\n",
       "      <td>NaN</td>\n",
       "      <td>NaN</td>\n",
       "      <td>NaN</td>\n",
       "    </tr>\n",
       "    <tr>\n",
       "      <td>MonthlyIncome</td>\n",
       "      <td>4284</td>\n",
       "      <td>NaN</td>\n",
       "      <td>NaN</td>\n",
       "      <td>NaN</td>\n",
       "      <td>22890.3</td>\n",
       "      <td>4885.6</td>\n",
       "      <td>16009</td>\n",
       "      <td>19683.5</td>\n",
       "      <td>21606</td>\n",
       "      <td>24725</td>\n",
       "      <td>38456</td>\n",
       "    </tr>\n",
       "    <tr>\n",
       "      <td>Complaint</td>\n",
       "      <td>4520</td>\n",
       "      <td>NaN</td>\n",
       "      <td>NaN</td>\n",
       "      <td>NaN</td>\n",
       "      <td>0.287168</td>\n",
       "      <td>0.452491</td>\n",
       "      <td>0</td>\n",
       "      <td>0</td>\n",
       "      <td>0</td>\n",
       "      <td>1</td>\n",
       "      <td>1</td>\n",
       "    </tr>\n",
       "    <tr>\n",
       "      <td>ExistingPolicyTenure</td>\n",
       "      <td>4336</td>\n",
       "      <td>NaN</td>\n",
       "      <td>NaN</td>\n",
       "      <td>NaN</td>\n",
       "      <td>4.13007</td>\n",
       "      <td>3.34639</td>\n",
       "      <td>1</td>\n",
       "      <td>2</td>\n",
       "      <td>3</td>\n",
       "      <td>6</td>\n",
       "      <td>25</td>\n",
       "    </tr>\n",
       "    <tr>\n",
       "      <td>SumAssured</td>\n",
       "      <td>4366</td>\n",
       "      <td>NaN</td>\n",
       "      <td>NaN</td>\n",
       "      <td>NaN</td>\n",
       "      <td>620000</td>\n",
       "      <td>246235</td>\n",
       "      <td>168536</td>\n",
       "      <td>439443</td>\n",
       "      <td>578976</td>\n",
       "      <td>758236</td>\n",
       "      <td>1.8385e+06</td>\n",
       "    </tr>\n",
       "    <tr>\n",
       "      <td>Zone</td>\n",
       "      <td>4520</td>\n",
       "      <td>4</td>\n",
       "      <td>West</td>\n",
       "      <td>2566</td>\n",
       "      <td>NaN</td>\n",
       "      <td>NaN</td>\n",
       "      <td>NaN</td>\n",
       "      <td>NaN</td>\n",
       "      <td>NaN</td>\n",
       "      <td>NaN</td>\n",
       "      <td>NaN</td>\n",
       "    </tr>\n",
       "    <tr>\n",
       "      <td>PaymentMethod</td>\n",
       "      <td>4520</td>\n",
       "      <td>4</td>\n",
       "      <td>Half Yearly</td>\n",
       "      <td>2656</td>\n",
       "      <td>NaN</td>\n",
       "      <td>NaN</td>\n",
       "      <td>NaN</td>\n",
       "      <td>NaN</td>\n",
       "      <td>NaN</td>\n",
       "      <td>NaN</td>\n",
       "      <td>NaN</td>\n",
       "    </tr>\n",
       "    <tr>\n",
       "      <td>LastMonthCalls</td>\n",
       "      <td>4520</td>\n",
       "      <td>NaN</td>\n",
       "      <td>NaN</td>\n",
       "      <td>NaN</td>\n",
       "      <td>4.62699</td>\n",
       "      <td>3.62013</td>\n",
       "      <td>0</td>\n",
       "      <td>2</td>\n",
       "      <td>3</td>\n",
       "      <td>8</td>\n",
       "      <td>18</td>\n",
       "    </tr>\n",
       "    <tr>\n",
       "      <td>CustCareScore</td>\n",
       "      <td>4468</td>\n",
       "      <td>NaN</td>\n",
       "      <td>NaN</td>\n",
       "      <td>NaN</td>\n",
       "      <td>3.06759</td>\n",
       "      <td>1.38297</td>\n",
       "      <td>1</td>\n",
       "      <td>2</td>\n",
       "      <td>3</td>\n",
       "      <td>4</td>\n",
       "      <td>5</td>\n",
       "    </tr>\n",
       "  </tbody>\n",
       "</table>\n",
       "</div>"
      ],
      "text/plain": [
       "                     count unique          top  freq         mean       std  \\\n",
       "CustID                4520    NaN          NaN   NaN  7.00226e+06   1304.96   \n",
       "AgentBonus            4520    NaN          NaN   NaN      4077.84   1403.32   \n",
       "Age                   4251    NaN          NaN   NaN      14.4947   9.03763   \n",
       "CustTenure            4294    NaN          NaN   NaN       14.469   8.96367   \n",
       "Channel               4520      3        Agent  3194          NaN       NaN   \n",
       "Occupation            4520      5     Salaried  2192          NaN       NaN   \n",
       "EducationField        4520      7     Graduate  1870          NaN       NaN   \n",
       "Gender                4520      3         Male  2688          NaN       NaN   \n",
       "ExistingProdType      4520    NaN          NaN   NaN      3.68894   1.01577   \n",
       "Designation           4520      6      Manager  1620          NaN       NaN   \n",
       "NumberOfPolicy        4475    NaN          NaN   NaN      3.56536   1.45593   \n",
       "MaritalStatus         4520      4      Married  2268          NaN       NaN   \n",
       "MonthlyIncome         4284    NaN          NaN   NaN      22890.3    4885.6   \n",
       "Complaint             4520    NaN          NaN   NaN     0.287168  0.452491   \n",
       "ExistingPolicyTenure  4336    NaN          NaN   NaN      4.13007   3.34639   \n",
       "SumAssured            4366    NaN          NaN   NaN       620000    246235   \n",
       "Zone                  4520      4         West  2566          NaN       NaN   \n",
       "PaymentMethod         4520      4  Half Yearly  2656          NaN       NaN   \n",
       "LastMonthCalls        4520    NaN          NaN   NaN      4.62699   3.62013   \n",
       "CustCareScore         4468    NaN          NaN   NaN      3.06759   1.38297   \n",
       "\n",
       "                         min          25%          50%          75%  \\\n",
       "CustID                 7e+06  7.00113e+06  7.00226e+06  7.00339e+06   \n",
       "AgentBonus              1605      3027.75       3911.5      4867.25   \n",
       "Age                        2            7           13           20   \n",
       "CustTenure                 2            7           13           20   \n",
       "Channel                  NaN          NaN          NaN          NaN   \n",
       "Occupation               NaN          NaN          NaN          NaN   \n",
       "EducationField           NaN          NaN          NaN          NaN   \n",
       "Gender                   NaN          NaN          NaN          NaN   \n",
       "ExistingProdType           1            3            4            4   \n",
       "Designation              NaN          NaN          NaN          NaN   \n",
       "NumberOfPolicy             1            2            4            5   \n",
       "MaritalStatus            NaN          NaN          NaN          NaN   \n",
       "MonthlyIncome          16009      19683.5        21606        24725   \n",
       "Complaint                  0            0            0            1   \n",
       "ExistingPolicyTenure       1            2            3            6   \n",
       "SumAssured            168536       439443       578976       758236   \n",
       "Zone                     NaN          NaN          NaN          NaN   \n",
       "PaymentMethod            NaN          NaN          NaN          NaN   \n",
       "LastMonthCalls             0            2            3            8   \n",
       "CustCareScore              1            2            3            4   \n",
       "\n",
       "                              max  \n",
       "CustID                7.00452e+06  \n",
       "AgentBonus                   9608  \n",
       "Age                            58  \n",
       "CustTenure                     57  \n",
       "Channel                       NaN  \n",
       "Occupation                    NaN  \n",
       "EducationField                NaN  \n",
       "Gender                        NaN  \n",
       "ExistingProdType                6  \n",
       "Designation                   NaN  \n",
       "NumberOfPolicy                  6  \n",
       "MaritalStatus                 NaN  \n",
       "MonthlyIncome               38456  \n",
       "Complaint                       1  \n",
       "ExistingPolicyTenure           25  \n",
       "SumAssured             1.8385e+06  \n",
       "Zone                          NaN  \n",
       "PaymentMethod                 NaN  \n",
       "LastMonthCalls                 18  \n",
       "CustCareScore                   5  "
      ]
     },
     "execution_count": 7,
     "metadata": {},
     "output_type": "execute_result"
    }
   ],
   "source": [
    "# summary of features\n",
    "insurance_data.describe(include=\"all\").transpose()"
   ]
  },
  {
   "cell_type": "code",
   "execution_count": 8,
   "metadata": {},
   "outputs": [
    {
     "name": "stdout",
     "output_type": "stream",
     "text": [
      "<class 'pandas.core.frame.DataFrame'>\n",
      "RangeIndex: 4520 entries, 0 to 4519\n",
      "Data columns (total 20 columns):\n",
      "CustID                  4520 non-null int64\n",
      "AgentBonus              4520 non-null int64\n",
      "Age                     4251 non-null float64\n",
      "CustTenure              4294 non-null float64\n",
      "Channel                 4520 non-null object\n",
      "Occupation              4520 non-null object\n",
      "EducationField          4520 non-null object\n",
      "Gender                  4520 non-null object\n",
      "ExistingProdType        4520 non-null int64\n",
      "Designation             4520 non-null object\n",
      "NumberOfPolicy          4475 non-null float64\n",
      "MaritalStatus           4520 non-null object\n",
      "MonthlyIncome           4284 non-null float64\n",
      "Complaint               4520 non-null int64\n",
      "ExistingPolicyTenure    4336 non-null float64\n",
      "SumAssured              4366 non-null float64\n",
      "Zone                    4520 non-null object\n",
      "PaymentMethod           4520 non-null object\n",
      "LastMonthCalls          4520 non-null int64\n",
      "CustCareScore           4468 non-null float64\n",
      "dtypes: float64(7), int64(5), object(8)\n",
      "memory usage: 706.4+ KB\n"
     ]
    }
   ],
   "source": [
    "# display feature types \n",
    "insurance_data.info()"
   ]
  },
  {
   "cell_type": "code",
   "execution_count": 9,
   "metadata": {},
   "outputs": [
    {
     "data": {
      "text/plain": [
       "CustID                    0\n",
       "AgentBonus                0\n",
       "Age                     269\n",
       "CustTenure              226\n",
       "Channel                   0\n",
       "Occupation                0\n",
       "EducationField            0\n",
       "Gender                    0\n",
       "ExistingProdType          0\n",
       "Designation               0\n",
       "NumberOfPolicy           45\n",
       "MaritalStatus             0\n",
       "MonthlyIncome           236\n",
       "Complaint                 0\n",
       "ExistingPolicyTenure    184\n",
       "SumAssured              154\n",
       "Zone                      0\n",
       "PaymentMethod             0\n",
       "LastMonthCalls            0\n",
       "CustCareScore            52\n",
       "dtype: int64"
      ]
     },
     "execution_count": 9,
     "metadata": {},
     "output_type": "execute_result"
    }
   ],
   "source": [
    "insurance_data.isna().sum()"
   ]
  },
  {
   "cell_type": "code",
   "execution_count": 10,
   "metadata": {},
   "outputs": [],
   "source": [
    "insurance_data_original = insurance_data.copy()"
   ]
  },
  {
   "cell_type": "code",
   "execution_count": 11,
   "metadata": {
    "scrolled": true
   },
   "outputs": [
    {
     "name": "stdout",
     "output_type": "stream",
     "text": [
      "Channel  -----  ['Agent' 'Third Party Partner' 'Online']\n",
      "Occupation  -----  ['Salaried' 'Free Lancer' 'Small Business' 'Laarge Business'\n",
      " 'Large Business']\n",
      "EducationField  -----  ['Graduate' 'Post Graduate' 'UG' 'Under Graduate' 'Engineer' 'Diploma'\n",
      " 'MBA']\n",
      "Gender  -----  ['Female' 'Male' 'Fe male']\n",
      "Designation  -----  ['Manager' 'Exe' 'Executive' 'VP' 'AVP' 'Senior Manager']\n",
      "MaritalStatus  -----  ['Single' 'Divorced' 'Unmarried' 'Married']\n",
      "Zone  -----  ['North' 'West' 'East' 'South']\n",
      "PaymentMethod  -----  ['Half Yearly' 'Yearly' 'Quarterly' 'Monthly']\n"
     ]
    }
   ],
   "source": [
    "# get the unique values of categorical data set\n",
    "for columns in insurance_data.columns:\n",
    "    if insurance_data[columns].dtypes ==\"object\":\n",
    "        print(columns, \" ----- \" , insurance_data[columns].unique())"
   ]
  },
  {
   "cell_type": "code",
   "execution_count": 12,
   "metadata": {},
   "outputs": [],
   "source": [
    "# Rename the similar values\n",
    "insurance_data[\"Occupation\"].replace({\"Laarge Business\":\"Large Business\"},inplace=True)\n",
    "insurance_data[\"EducationField\"].replace({\"UG\":\"Under Graduate\"},inplace=True)\n",
    "insurance_data[\"Gender\"].replace({\"Fe male\":\"Female\"},inplace=True)\n",
    "insurance_data[\"MaritalStatus\"].replace({\"Unmarried\":\"Single\"},inplace=True)"
   ]
  },
  {
   "cell_type": "code",
   "execution_count": 13,
   "metadata": {},
   "outputs": [
    {
     "name": "stdout",
     "output_type": "stream",
     "text": [
      "Channel  -----  ['Agent' 'Third Party Partner' 'Online']\n",
      "Occupation  -----  ['Salaried' 'Free Lancer' 'Small Business' 'Large Business']\n",
      "EducationField  -----  ['Graduate' 'Post Graduate' 'Under Graduate' 'Engineer' 'Diploma' 'MBA']\n",
      "Gender  -----  ['Female' 'Male']\n",
      "Designation  -----  ['Manager' 'Exe' 'Executive' 'VP' 'AVP' 'Senior Manager']\n",
      "MaritalStatus  -----  ['Single' 'Divorced' 'Married']\n",
      "Zone  -----  ['North' 'West' 'East' 'South']\n",
      "PaymentMethod  -----  ['Half Yearly' 'Yearly' 'Quarterly' 'Monthly']\n"
     ]
    }
   ],
   "source": [
    "# get the unique values of categorical data set\n",
    "for columns in insurance_data.columns:\n",
    "    if insurance_data[columns].dtypes ==\"object\":\n",
    "        print(columns, \" ----- \" , insurance_data[columns].unique())"
   ]
  },
  {
   "cell_type": "code",
   "execution_count": 14,
   "metadata": {},
   "outputs": [
    {
     "data": {
      "text/plain": [
       "Index(['CustID', 'AgentBonus', 'Age', 'CustTenure', 'Channel', 'Occupation',\n",
       "       'EducationField', 'Gender', 'ExistingProdType', 'Designation',\n",
       "       'NumberOfPolicy', 'MaritalStatus', 'MonthlyIncome', 'Complaint',\n",
       "       'ExistingPolicyTenure', 'SumAssured', 'Zone', 'PaymentMethod',\n",
       "       'LastMonthCalls', 'CustCareScore'],\n",
       "      dtype='object')"
      ]
     },
     "execution_count": 14,
     "metadata": {},
     "output_type": "execute_result"
    }
   ],
   "source": [
    "insurance_data.columns"
   ]
  },
  {
   "cell_type": "code",
   "execution_count": 15,
   "metadata": {},
   "outputs": [],
   "source": [
    "# drop the necessary columns\n",
    "insurance_data.drop([\"CustID\"], inplace=True, axis=1)"
   ]
  },
  {
   "cell_type": "code",
   "execution_count": 16,
   "metadata": {},
   "outputs": [
    {
     "data": {
      "text/plain": [
       "Index(['AgentBonus', 'Age', 'CustTenure', 'Channel', 'Occupation',\n",
       "       'EducationField', 'Gender', 'ExistingProdType', 'Designation',\n",
       "       'NumberOfPolicy', 'MaritalStatus', 'MonthlyIncome', 'Complaint',\n",
       "       'ExistingPolicyTenure', 'SumAssured', 'Zone', 'PaymentMethod',\n",
       "       'LastMonthCalls', 'CustCareScore'],\n",
       "      dtype='object')"
      ]
     },
     "execution_count": 16,
     "metadata": {},
     "output_type": "execute_result"
    }
   ],
   "source": [
    "insurance_data.columns"
   ]
  },
  {
   "cell_type": "code",
   "execution_count": 17,
   "metadata": {},
   "outputs": [
    {
     "name": "stderr",
     "output_type": "stream",
     "text": [
      "C:\\Users\\spdev\\Anaconda3\\lib\\importlib\\_bootstrap.py:219: RuntimeWarning: numpy.ufunc size changed, may indicate binary incompatibility. Expected 192 from C header, got 216 from PyObject\n",
      "  return f(*args, **kwds)\n"
     ]
    }
   ],
   "source": [
    "import seaborn as sns"
   ]
  },
  {
   "cell_type": "code",
   "execution_count": 18,
   "metadata": {},
   "outputs": [],
   "source": [
    "# get the number value features\n",
    "numerical_columns =[]\n",
    "for columns in insurance_data.columns:\n",
    "    if insurance_data[columns].dtypes !=\"object\":\n",
    "        numerical_columns.append(columns)       "
   ]
  },
  {
   "cell_type": "code",
   "execution_count": 19,
   "metadata": {},
   "outputs": [
    {
     "data": {
      "text/plain": [
       "6"
      ]
     },
     "execution_count": 19,
     "metadata": {},
     "output_type": "execute_result"
    }
   ],
   "source": [
    "import math\n",
    "math.ceil(len(numerical_columns)/2)"
   ]
  },
  {
   "cell_type": "code",
   "execution_count": 20,
   "metadata": {
    "scrolled": true
   },
   "outputs": [
    {
     "name": "stdout",
     "output_type": "stream",
     "text": [
      "0 AgentBonus\n",
      "1 Age\n",
      "2 CustTenure\n",
      "3 ExistingProdType\n",
      "4 NumberOfPolicy\n",
      "5 MonthlyIncome\n",
      "6 Complaint\n",
      "7 ExistingPolicyTenure\n",
      "8 SumAssured\n",
      "9 LastMonthCalls\n",
      "10 CustCareScore\n"
     ]
    }
   ],
   "source": [
    "for j , column in enumerate(numerical_columns):\n",
    "    print(j , column)"
   ]
  },
  {
   "cell_type": "code",
   "execution_count": 21,
   "metadata": {},
   "outputs": [],
   "source": [
    "for column in numerical_columns:\n",
    "    if insurance_data[column].isna().sum() > 0:\n",
    "        insurance_data[column].fillna( insurance_data[column].median(), axis=0, inplace=True)"
   ]
  },
  {
   "cell_type": "code",
   "execution_count": 22,
   "metadata": {
    "scrolled": true
   },
   "outputs": [
    {
     "data": {
      "text/plain": [
       "AgentBonus              0\n",
       "Age                     0\n",
       "CustTenure              0\n",
       "Channel                 0\n",
       "Occupation              0\n",
       "EducationField          0\n",
       "Gender                  0\n",
       "ExistingProdType        0\n",
       "Designation             0\n",
       "NumberOfPolicy          0\n",
       "MaritalStatus           0\n",
       "MonthlyIncome           0\n",
       "Complaint               0\n",
       "ExistingPolicyTenure    0\n",
       "SumAssured              0\n",
       "Zone                    0\n",
       "PaymentMethod           0\n",
       "LastMonthCalls          0\n",
       "CustCareScore           0\n",
       "dtype: int64"
      ]
     },
     "execution_count": 22,
     "metadata": {},
     "output_type": "execute_result"
    }
   ],
   "source": [
    "insurance_data.isna().sum()"
   ]
  },
  {
   "cell_type": "code",
   "execution_count": 23,
   "metadata": {},
   "outputs": [],
   "source": [
    "def remove_outlier(col):\n",
    "    sorted(col)\n",
    "    Q1,Q3=np.percentile(col,[25,75])\n",
    "    IQR=Q3-Q1\n",
    "    lower_range= Q1-(1.5 * IQR)\n",
    "    upper_range= Q3+(1.5 * IQR)\n",
    "    return lower_range, upper_range"
   ]
  },
  {
   "cell_type": "code",
   "execution_count": 24,
   "metadata": {},
   "outputs": [],
   "source": [
    "for column in insurance_data.columns:\n",
    "    if insurance_data[column].dtype != 'object': \n",
    "        lr,ur=remove_outlier(insurance_data[column])\n",
    "        insurance_data[column]=np.where(insurance_data[column]>ur,ur,insurance_data[column])\n",
    "        insurance_data[column]=np.where(insurance_data[column]<lr,lr,insurance_data[column])"
   ]
  },
  {
   "cell_type": "code",
   "execution_count": 25,
   "metadata": {},
   "outputs": [],
   "source": [
    "two_value_columns =[]\n",
    "multi_value_columns =[]\n",
    "for columns in insurance_data.columns:\n",
    "    if insurance_data[columns].dtypes ==\"object\":\n",
    "        if insurance_data[columns].nunique() <= 2:\n",
    "             two_value_columns.append(columns)\n",
    "             insurance_data[columns] = pd.Categorical(insurance_data[columns]).codes \n",
    "        else:\n",
    "             multi_value_columns.append(columns)"
   ]
  },
  {
   "cell_type": "code",
   "execution_count": 26,
   "metadata": {},
   "outputs": [],
   "source": [
    "insurance_data =pd.get_dummies(insurance_data, columns=multi_value_columns,drop_first=True)"
   ]
  },
  {
   "cell_type": "code",
   "execution_count": 27,
   "metadata": {},
   "outputs": [],
   "source": [
    "# impute null values using KNNImputer\n",
    "# from sklearn.impute import KNNImputer\n",
    "# imputer = KNNImputer(n_neighbors=5)\n",
    "# imputed_data = imputer.fit_transform(insurance_data[numerical_columns])"
   ]
  },
  {
   "cell_type": "code",
   "execution_count": 28,
   "metadata": {},
   "outputs": [
    {
     "data": {
      "text/html": [
       "<div>\n",
       "<style scoped>\n",
       "    .dataframe tbody tr th:only-of-type {\n",
       "        vertical-align: middle;\n",
       "    }\n",
       "\n",
       "    .dataframe tbody tr th {\n",
       "        vertical-align: top;\n",
       "    }\n",
       "\n",
       "    .dataframe thead th {\n",
       "        text-align: right;\n",
       "    }\n",
       "</style>\n",
       "<table border=\"1\" class=\"dataframe\">\n",
       "  <thead>\n",
       "    <tr style=\"text-align: right;\">\n",
       "      <th></th>\n",
       "      <th>AgentBonus</th>\n",
       "      <th>Age</th>\n",
       "      <th>CustTenure</th>\n",
       "      <th>Gender</th>\n",
       "      <th>ExistingProdType</th>\n",
       "      <th>NumberOfPolicy</th>\n",
       "      <th>MonthlyIncome</th>\n",
       "      <th>Complaint</th>\n",
       "      <th>ExistingPolicyTenure</th>\n",
       "      <th>SumAssured</th>\n",
       "      <th>...</th>\n",
       "      <th>Designation_Senior Manager</th>\n",
       "      <th>Designation_VP</th>\n",
       "      <th>MaritalStatus_Married</th>\n",
       "      <th>MaritalStatus_Single</th>\n",
       "      <th>Zone_North</th>\n",
       "      <th>Zone_South</th>\n",
       "      <th>Zone_West</th>\n",
       "      <th>PaymentMethod_Monthly</th>\n",
       "      <th>PaymentMethod_Quarterly</th>\n",
       "      <th>PaymentMethod_Yearly</th>\n",
       "    </tr>\n",
       "  </thead>\n",
       "  <tbody>\n",
       "    <tr>\n",
       "      <td>0</td>\n",
       "      <td>4409.0</td>\n",
       "      <td>22.0</td>\n",
       "      <td>4.0</td>\n",
       "      <td>0</td>\n",
       "      <td>3.0</td>\n",
       "      <td>2.0</td>\n",
       "      <td>20993.0</td>\n",
       "      <td>1.0</td>\n",
       "      <td>2.0</td>\n",
       "      <td>806761.0</td>\n",
       "      <td>...</td>\n",
       "      <td>0</td>\n",
       "      <td>0</td>\n",
       "      <td>0</td>\n",
       "      <td>1</td>\n",
       "      <td>1</td>\n",
       "      <td>0</td>\n",
       "      <td>0</td>\n",
       "      <td>0</td>\n",
       "      <td>0</td>\n",
       "      <td>0</td>\n",
       "    </tr>\n",
       "    <tr>\n",
       "      <td>1</td>\n",
       "      <td>2214.0</td>\n",
       "      <td>11.0</td>\n",
       "      <td>2.0</td>\n",
       "      <td>1</td>\n",
       "      <td>4.0</td>\n",
       "      <td>4.0</td>\n",
       "      <td>20130.0</td>\n",
       "      <td>0.0</td>\n",
       "      <td>3.0</td>\n",
       "      <td>294502.0</td>\n",
       "      <td>...</td>\n",
       "      <td>0</td>\n",
       "      <td>0</td>\n",
       "      <td>0</td>\n",
       "      <td>0</td>\n",
       "      <td>1</td>\n",
       "      <td>0</td>\n",
       "      <td>0</td>\n",
       "      <td>0</td>\n",
       "      <td>0</td>\n",
       "      <td>1</td>\n",
       "    </tr>\n",
       "    <tr>\n",
       "      <td>2</td>\n",
       "      <td>4273.0</td>\n",
       "      <td>26.0</td>\n",
       "      <td>4.0</td>\n",
       "      <td>1</td>\n",
       "      <td>4.0</td>\n",
       "      <td>3.0</td>\n",
       "      <td>17090.0</td>\n",
       "      <td>1.0</td>\n",
       "      <td>2.0</td>\n",
       "      <td>578976.5</td>\n",
       "      <td>...</td>\n",
       "      <td>0</td>\n",
       "      <td>0</td>\n",
       "      <td>0</td>\n",
       "      <td>1</td>\n",
       "      <td>1</td>\n",
       "      <td>0</td>\n",
       "      <td>0</td>\n",
       "      <td>0</td>\n",
       "      <td>0</td>\n",
       "      <td>1</td>\n",
       "    </tr>\n",
       "    <tr>\n",
       "      <td>3</td>\n",
       "      <td>1791.0</td>\n",
       "      <td>11.0</td>\n",
       "      <td>13.0</td>\n",
       "      <td>0</td>\n",
       "      <td>3.0</td>\n",
       "      <td>3.0</td>\n",
       "      <td>17909.0</td>\n",
       "      <td>1.0</td>\n",
       "      <td>2.0</td>\n",
       "      <td>268635.0</td>\n",
       "      <td>...</td>\n",
       "      <td>0</td>\n",
       "      <td>0</td>\n",
       "      <td>0</td>\n",
       "      <td>0</td>\n",
       "      <td>0</td>\n",
       "      <td>0</td>\n",
       "      <td>1</td>\n",
       "      <td>0</td>\n",
       "      <td>0</td>\n",
       "      <td>0</td>\n",
       "    </tr>\n",
       "    <tr>\n",
       "      <td>4</td>\n",
       "      <td>2955.0</td>\n",
       "      <td>6.0</td>\n",
       "      <td>13.0</td>\n",
       "      <td>1</td>\n",
       "      <td>3.0</td>\n",
       "      <td>4.0</td>\n",
       "      <td>18468.0</td>\n",
       "      <td>0.0</td>\n",
       "      <td>4.0</td>\n",
       "      <td>366405.0</td>\n",
       "      <td>...</td>\n",
       "      <td>0</td>\n",
       "      <td>0</td>\n",
       "      <td>0</td>\n",
       "      <td>0</td>\n",
       "      <td>0</td>\n",
       "      <td>0</td>\n",
       "      <td>1</td>\n",
       "      <td>0</td>\n",
       "      <td>0</td>\n",
       "      <td>0</td>\n",
       "    </tr>\n",
       "  </tbody>\n",
       "</table>\n",
       "<p>5 rows × 35 columns</p>\n",
       "</div>"
      ],
      "text/plain": [
       "   AgentBonus   Age  CustTenure  Gender  ExistingProdType  NumberOfPolicy  \\\n",
       "0      4409.0  22.0         4.0       0               3.0             2.0   \n",
       "1      2214.0  11.0         2.0       1               4.0             4.0   \n",
       "2      4273.0  26.0         4.0       1               4.0             3.0   \n",
       "3      1791.0  11.0        13.0       0               3.0             3.0   \n",
       "4      2955.0   6.0        13.0       1               3.0             4.0   \n",
       "\n",
       "   MonthlyIncome  Complaint  ExistingPolicyTenure  SumAssured  ...  \\\n",
       "0        20993.0        1.0                   2.0    806761.0  ...   \n",
       "1        20130.0        0.0                   3.0    294502.0  ...   \n",
       "2        17090.0        1.0                   2.0    578976.5  ...   \n",
       "3        17909.0        1.0                   2.0    268635.0  ...   \n",
       "4        18468.0        0.0                   4.0    366405.0  ...   \n",
       "\n",
       "   Designation_Senior Manager  Designation_VP  MaritalStatus_Married  \\\n",
       "0                           0               0                      0   \n",
       "1                           0               0                      0   \n",
       "2                           0               0                      0   \n",
       "3                           0               0                      0   \n",
       "4                           0               0                      0   \n",
       "\n",
       "   MaritalStatus_Single  Zone_North  Zone_South  Zone_West  \\\n",
       "0                     1           1           0          0   \n",
       "1                     0           1           0          0   \n",
       "2                     1           1           0          0   \n",
       "3                     0           0           0          1   \n",
       "4                     0           0           0          1   \n",
       "\n",
       "   PaymentMethod_Monthly  PaymentMethod_Quarterly  PaymentMethod_Yearly  \n",
       "0                      0                        0                     0  \n",
       "1                      0                        0                     1  \n",
       "2                      0                        0                     1  \n",
       "3                      0                        0                     0  \n",
       "4                      0                        0                     0  \n",
       "\n",
       "[5 rows x 35 columns]"
      ]
     },
     "execution_count": 28,
     "metadata": {},
     "output_type": "execute_result"
    }
   ],
   "source": [
    "insurance_data.head()"
   ]
  },
  {
   "cell_type": "code",
   "execution_count": 29,
   "metadata": {},
   "outputs": [],
   "source": [
    "for columns in insurance_data.columns:\n",
    "    if insurance_data[columns].dtypes !=\"object\":\n",
    "        if insurance_data[columns].isna().sum() > 0:            \n",
    "             insurance_data[columns].fillna(insurance_data[columns].median())"
   ]
  },
  {
   "cell_type": "code",
   "execution_count": 30,
   "metadata": {},
   "outputs": [
    {
     "data": {
      "text/plain": [
       "['AgentBonus',\n",
       " 'Age',\n",
       " 'CustTenure',\n",
       " 'ExistingProdType',\n",
       " 'NumberOfPolicy',\n",
       " 'MonthlyIncome',\n",
       " 'Complaint',\n",
       " 'ExistingPolicyTenure',\n",
       " 'SumAssured',\n",
       " 'LastMonthCalls',\n",
       " 'CustCareScore']"
      ]
     },
     "execution_count": 30,
     "metadata": {},
     "output_type": "execute_result"
    }
   ],
   "source": [
    "numerical_columns"
   ]
  },
  {
   "cell_type": "code",
   "execution_count": 31,
   "metadata": {},
   "outputs": [
    {
     "data": {
      "text/plain": [
       "6"
      ]
     },
     "execution_count": 31,
     "metadata": {},
     "output_type": "execute_result"
    }
   ],
   "source": [
    "math.ceil(len(numerical_columns)/2)"
   ]
  },
  {
   "cell_type": "markdown",
   "metadata": {},
   "source": [
    "figure, axis = plt.subplots(math.ceil(len(numerical_columns)/2), 2)\n",
    "for j , column in enumerate(numerical_columns):\n",
    "    if (j+1)%2 ==0:\n",
    "        axis[j, 0].boxplot(insurance_data[column])\n",
    "        axis[j, 0].set_title(column, \" outlier boxplot\")\n",
    "    else:\n",
    "        axis[j,1].boxplot(insurance_data[column])\n",
    "        axis[j,1].set_title(column, \" outlier boxplot\")\n",
    "\n",
    "figure.set_figheight(10)\n",
    "figure.set_figwidth(15)\n"
   ]
  },
  {
   "cell_type": "code",
   "execution_count": 32,
   "metadata": {},
   "outputs": [
    {
     "data": {
      "text/plain": [
       "['AgentBonus',\n",
       " 'Age',\n",
       " 'CustTenure',\n",
       " 'ExistingProdType',\n",
       " 'NumberOfPolicy',\n",
       " 'MonthlyIncome',\n",
       " 'Complaint',\n",
       " 'ExistingPolicyTenure',\n",
       " 'SumAssured',\n",
       " 'LastMonthCalls',\n",
       " 'CustCareScore']"
      ]
     },
     "execution_count": 32,
     "metadata": {},
     "output_type": "execute_result"
    }
   ],
   "source": [
    "numerical_columns"
   ]
  },
  {
   "cell_type": "code",
   "execution_count": 33,
   "metadata": {},
   "outputs": [
    {
     "data": {
      "image/png": "[encoded data removed]",
      "text/plain": [
       "<Figure size 1080x1440 with 12 Axes>"
      ]
     },
     "metadata": {
      "needs_background": "light"
     },
     "output_type": "display_data"
    }
   ],
   "source": [
    "figure, axis = plt.subplots(6, 2)\n",
    "axis[0, 0].boxplot(insurance_data['AgentBonus'])\n",
    "axis[0, 0].set_title(\"AgentBonus outlier boxplot\")\n",
    "\n",
    "axis[0, 1].boxplot(insurance_data['Age'])\n",
    "axis[0, 1].set_title(\"Age outlier boxplot\")\n",
    "\n",
    "axis[1, 0].boxplot(insurance_data['CustTenure'])\n",
    "axis[1, 0].set_title(\"CustTenure outlier boxplot\")\n",
    "\n",
    "axis[1, 1].boxplot(insurance_data['ExistingProdType'])\n",
    "axis[1, 1].set_title(\"ExistingProdType outlier boxplot\")\n",
    "\n",
    "axis[2, 0].boxplot(insurance_data['NumberOfPolicy'])\n",
    "axis[2, 0].set_title(\"NumberOfPolicy outlier boxplot\")\n",
    "\n",
    "axis[2, 1].boxplot(insurance_data['MonthlyIncome'])\n",
    "axis[2, 1].set_title(\"MonthlyIncome outlier boxplot\")\n",
    "\n",
    "axis[3, 0].boxplot(insurance_data['CustTenure'])\n",
    "axis[3, 0].set_title(\"CustTenure outlier boxplot\")\n",
    "\n",
    "axis[3, 1].boxplot(insurance_data['Complaint'])\n",
    "axis[3, 1].set_title(\"Complaint outlier boxplot\")\n",
    "\n",
    "axis[4, 0].boxplot(insurance_data['ExistingPolicyTenure'])\n",
    "axis[4, 0].set_title(\"ExistingPolicyTenure outlier boxplot\")\n",
    "\n",
    "axis[4, 1].boxplot(insurance_data['SumAssured'])\n",
    "axis[4, 1].set_title(\"SumAssured outlier boxplot\")\n",
    "\n",
    "axis[5, 0].boxplot(insurance_data['LastMonthCalls'])\n",
    "axis[5, 0].set_title(\"LastMonthCalls outlier boxplot\")\n",
    "\n",
    "axis[5, 1].boxplot(insurance_data['CustCareScore'])\n",
    "axis[5, 1].set_title(\"CustCareScore boxplot\")\n",
    "\n",
    "figure.set_figheight(20)\n",
    "figure.set_figwidth(15)\n"
   ]
  },
  {
   "cell_type": "code",
   "execution_count": 34,
   "metadata": {},
   "outputs": [],
   "source": [
    "X = insurance_data.drop([\"AgentBonus\"] , axis=1)\n",
    "\n",
    "y = insurance_data[[\"AgentBonus\"]]"
   ]
  },
  {
   "cell_type": "code",
   "execution_count": 35,
   "metadata": {},
   "outputs": [],
   "source": [
    "from sklearn.model_selection import train_test_split"
   ]
  },
  {
   "cell_type": "code",
   "execution_count": 36,
   "metadata": {},
   "outputs": [],
   "source": [
    "X_train, X_test, y_train, y_test = train_test_split(X, y, test_size=0.20, random_state=1)"
   ]
  },
  {
   "cell_type": "code",
   "execution_count": 37,
   "metadata": {},
   "outputs": [
    {
     "data": {
      "text/plain": [
       "Age                              0\n",
       "CustTenure                       0\n",
       "Gender                           0\n",
       "ExistingProdType                 0\n",
       "NumberOfPolicy                   0\n",
       "MonthlyIncome                    0\n",
       "Complaint                        0\n",
       "ExistingPolicyTenure             0\n",
       "SumAssured                       0\n",
       "LastMonthCalls                   0\n",
       "CustCareScore                    0\n",
       "Channel_Online                   0\n",
       "Channel_Third Party Partner      0\n",
       "Occupation_Large Business        0\n",
       "Occupation_Salaried              0\n",
       "Occupation_Small Business        0\n",
       "EducationField_Engineer          0\n",
       "EducationField_Graduate          0\n",
       "EducationField_MBA               0\n",
       "EducationField_Post Graduate     0\n",
       "EducationField_Under Graduate    0\n",
       "Designation_Exe                  0\n",
       "Designation_Executive            0\n",
       "Designation_Manager              0\n",
       "Designation_Senior Manager       0\n",
       "Designation_VP                   0\n",
       "MaritalStatus_Married            0\n",
       "MaritalStatus_Single             0\n",
       "Zone_North                       0\n",
       "Zone_South                       0\n",
       "Zone_West                        0\n",
       "PaymentMethod_Monthly            0\n",
       "PaymentMethod_Quarterly          0\n",
       "PaymentMethod_Yearly             0\n",
       "dtype: int64"
      ]
     },
     "execution_count": 37,
     "metadata": {},
     "output_type": "execute_result"
    }
   ],
   "source": [
    "X_train.isna().sum()"
   ]
  },
  {
   "cell_type": "code",
   "execution_count": 38,
   "metadata": {},
   "outputs": [
    {
     "name": "stderr",
     "output_type": "stream",
     "text": [
      "C:\\Users\\spdev\\Anaconda3\\lib\\importlib\\_bootstrap.py:219: RuntimeWarning: numpy.ufunc size changed, may indicate binary incompatibility. Expected 192 from C header, got 216 from PyObject\n",
      "  return f(*args, **kwds)\n"
     ]
    },
    {
     "data": {
      "text/plain": [
       "LinearRegression()"
      ]
     },
     "execution_count": 38,
     "metadata": {},
     "output_type": "execute_result"
    }
   ],
   "source": [
    "from sklearn.linear_model import LinearRegression\n",
    "# invoke linear regression from sklearn\n",
    "l_reg = LinearRegression()\n",
    "l_reg.fit(X_train, y_train)"
   ]
  },
  {
   "cell_type": "code",
   "execution_count": 39,
   "metadata": {},
   "outputs": [
    {
     "data": {
      "text/plain": [
       "1284.2480890100915"
      ]
     },
     "execution_count": 39,
     "metadata": {},
     "output_type": "execute_result"
    }
   ],
   "source": [
    "l_reg.intercept_[0]"
   ]
  },
  {
   "cell_type": "code",
   "execution_count": 40,
   "metadata": {},
   "outputs": [
    {
     "name": "stdout",
     "output_type": "stream",
     "text": [
      "Age   coeffient value is    21.49321346065893\n",
      "CustTenure   coeffient value is    22.325768503325776\n",
      "Gender   coeffient value is    15.75590700014973\n",
      "ExistingProdType   coeffient value is    43.69393485393986\n",
      "NumberOfPolicy   coeffient value is    7.416841403664289\n",
      "MonthlyIncome   coeffient value is    0.0300707585680077\n",
      "Complaint   coeffient value is    28.234104200201916\n",
      "ExistingPolicyTenure   coeffient value is    40.014281398465975\n",
      "SumAssured   coeffient value is    0.003585594331303678\n",
      "LastMonthCalls   coeffient value is    -2.3273110783039126\n",
      "CustCareScore   coeffient value is    4.923047043143056\n",
      "Channel_Online   coeffient value is    23.32828591630399\n",
      "Channel_Third Party Partner   coeffient value is    2.88172642765803\n",
      "Occupation_Large Business   coeffient value is    -753.5279406042562\n",
      "Occupation_Salaried   coeffient value is    -617.0130286071201\n",
      "Occupation_Small Business   coeffient value is    -722.1064459129746\n",
      "EducationField_Engineer   coeffient value is    30.408163988469877\n",
      "EducationField_Graduate   coeffient value is    -85.74175473513743\n",
      "EducationField_MBA   coeffient value is    -208.81310383973386\n",
      "EducationField_Post Graduate   coeffient value is    -82.49439084228477\n",
      "EducationField_Under Graduate   coeffient value is    12.233932251083472\n",
      "Designation_Exe   coeffient value is    -963.8736931234155\n",
      "Designation_Executive   coeffient value is    -477.07998216037856\n",
      "Designation_Manager   coeffient value is    -471.5300957465127\n",
      "Designation_Senior Manager   coeffient value is    -279.7188825688627\n",
      "Designation_VP   coeffient value is    9.98784337109213\n",
      "MaritalStatus_Married   coeffient value is    -41.50377325993483\n",
      "MaritalStatus_Single   coeffient value is    1.4787069364044336\n",
      "Zone_North   coeffient value is    48.66972231069127\n",
      "Zone_South   coeffient value is    186.61115324438234\n",
      "Zone_West   coeffient value is    33.24153083247791\n",
      "PaymentMethod_Monthly   coeffient value is    154.8786936376992\n",
      "PaymentMethod_Quarterly   coeffient value is    103.46728106409857\n",
      "PaymentMethod_Yearly   coeffient value is    -73.31862138988247\n"
     ]
    }
   ],
   "source": [
    "for index, columns in enumerate(X_train.columns):\n",
    "    print(columns, \"  coeffient value is   \", l_reg.coef_[0][index])"
   ]
  },
  {
   "cell_type": "code",
   "execution_count": 41,
   "metadata": {},
   "outputs": [],
   "source": [
    "coefficients = pd.DataFrame({\"Feature\":X_train.columns,\"Coefficients\": np.transpose(l_reg.coef_[0])})"
   ]
  },
  {
   "cell_type": "code",
   "execution_count": 42,
   "metadata": {
    "scrolled": true
   },
   "outputs": [
    {
     "data": {
      "text/html": [
       "<div>\n",
       "<style scoped>\n",
       "    .dataframe tbody tr th:only-of-type {\n",
       "        vertical-align: middle;\n",
       "    }\n",
       "\n",
       "    .dataframe tbody tr th {\n",
       "        vertical-align: top;\n",
       "    }\n",
       "\n",
       "    .dataframe thead th {\n",
       "        text-align: right;\n",
       "    }\n",
       "</style>\n",
       "<table border=\"1\" class=\"dataframe\">\n",
       "  <thead>\n",
       "    <tr style=\"text-align: right;\">\n",
       "      <th></th>\n",
       "      <th>Feature</th>\n",
       "      <th>Coefficients</th>\n",
       "    </tr>\n",
       "  </thead>\n",
       "  <tbody>\n",
       "    <tr>\n",
       "      <td>29</td>\n",
       "      <td>Zone_South</td>\n",
       "      <td>186.611153</td>\n",
       "    </tr>\n",
       "    <tr>\n",
       "      <td>31</td>\n",
       "      <td>PaymentMethod_Monthly</td>\n",
       "      <td>154.878694</td>\n",
       "    </tr>\n",
       "    <tr>\n",
       "      <td>32</td>\n",
       "      <td>PaymentMethod_Quarterly</td>\n",
       "      <td>103.467281</td>\n",
       "    </tr>\n",
       "    <tr>\n",
       "      <td>28</td>\n",
       "      <td>Zone_North</td>\n",
       "      <td>48.669722</td>\n",
       "    </tr>\n",
       "    <tr>\n",
       "      <td>3</td>\n",
       "      <td>ExistingProdType</td>\n",
       "      <td>43.693935</td>\n",
       "    </tr>\n",
       "    <tr>\n",
       "      <td>7</td>\n",
       "      <td>ExistingPolicyTenure</td>\n",
       "      <td>40.014281</td>\n",
       "    </tr>\n",
       "    <tr>\n",
       "      <td>30</td>\n",
       "      <td>Zone_West</td>\n",
       "      <td>33.241531</td>\n",
       "    </tr>\n",
       "    <tr>\n",
       "      <td>16</td>\n",
       "      <td>EducationField_Engineer</td>\n",
       "      <td>30.408164</td>\n",
       "    </tr>\n",
       "    <tr>\n",
       "      <td>6</td>\n",
       "      <td>Complaint</td>\n",
       "      <td>28.234104</td>\n",
       "    </tr>\n",
       "    <tr>\n",
       "      <td>11</td>\n",
       "      <td>Channel_Online</td>\n",
       "      <td>23.328286</td>\n",
       "    </tr>\n",
       "    <tr>\n",
       "      <td>1</td>\n",
       "      <td>CustTenure</td>\n",
       "      <td>22.325769</td>\n",
       "    </tr>\n",
       "    <tr>\n",
       "      <td>0</td>\n",
       "      <td>Age</td>\n",
       "      <td>21.493213</td>\n",
       "    </tr>\n",
       "    <tr>\n",
       "      <td>2</td>\n",
       "      <td>Gender</td>\n",
       "      <td>15.755907</td>\n",
       "    </tr>\n",
       "    <tr>\n",
       "      <td>20</td>\n",
       "      <td>EducationField_Under Graduate</td>\n",
       "      <td>12.233932</td>\n",
       "    </tr>\n",
       "    <tr>\n",
       "      <td>25</td>\n",
       "      <td>Designation_VP</td>\n",
       "      <td>9.987843</td>\n",
       "    </tr>\n",
       "    <tr>\n",
       "      <td>4</td>\n",
       "      <td>NumberOfPolicy</td>\n",
       "      <td>7.416841</td>\n",
       "    </tr>\n",
       "    <tr>\n",
       "      <td>10</td>\n",
       "      <td>CustCareScore</td>\n",
       "      <td>4.923047</td>\n",
       "    </tr>\n",
       "    <tr>\n",
       "      <td>12</td>\n",
       "      <td>Channel_Third Party Partner</td>\n",
       "      <td>2.881726</td>\n",
       "    </tr>\n",
       "    <tr>\n",
       "      <td>27</td>\n",
       "      <td>MaritalStatus_Single</td>\n",
       "      <td>1.478707</td>\n",
       "    </tr>\n",
       "    <tr>\n",
       "      <td>5</td>\n",
       "      <td>MonthlyIncome</td>\n",
       "      <td>0.030071</td>\n",
       "    </tr>\n",
       "    <tr>\n",
       "      <td>8</td>\n",
       "      <td>SumAssured</td>\n",
       "      <td>0.003586</td>\n",
       "    </tr>\n",
       "    <tr>\n",
       "      <td>9</td>\n",
       "      <td>LastMonthCalls</td>\n",
       "      <td>-2.327311</td>\n",
       "    </tr>\n",
       "    <tr>\n",
       "      <td>26</td>\n",
       "      <td>MaritalStatus_Married</td>\n",
       "      <td>-41.503773</td>\n",
       "    </tr>\n",
       "    <tr>\n",
       "      <td>33</td>\n",
       "      <td>PaymentMethod_Yearly</td>\n",
       "      <td>-73.318621</td>\n",
       "    </tr>\n",
       "    <tr>\n",
       "      <td>19</td>\n",
       "      <td>EducationField_Post Graduate</td>\n",
       "      <td>-82.494391</td>\n",
       "    </tr>\n",
       "    <tr>\n",
       "      <td>17</td>\n",
       "      <td>EducationField_Graduate</td>\n",
       "      <td>-85.741755</td>\n",
       "    </tr>\n",
       "    <tr>\n",
       "      <td>18</td>\n",
       "      <td>EducationField_MBA</td>\n",
       "      <td>-208.813104</td>\n",
       "    </tr>\n",
       "    <tr>\n",
       "      <td>24</td>\n",
       "      <td>Designation_Senior Manager</td>\n",
       "      <td>-279.718883</td>\n",
       "    </tr>\n",
       "    <tr>\n",
       "      <td>23</td>\n",
       "      <td>Designation_Manager</td>\n",
       "      <td>-471.530096</td>\n",
       "    </tr>\n",
       "    <tr>\n",
       "      <td>22</td>\n",
       "      <td>Designation_Executive</td>\n",
       "      <td>-477.079982</td>\n",
       "    </tr>\n",
       "    <tr>\n",
       "      <td>14</td>\n",
       "      <td>Occupation_Salaried</td>\n",
       "      <td>-617.013029</td>\n",
       "    </tr>\n",
       "    <tr>\n",
       "      <td>15</td>\n",
       "      <td>Occupation_Small Business</td>\n",
       "      <td>-722.106446</td>\n",
       "    </tr>\n",
       "    <tr>\n",
       "      <td>13</td>\n",
       "      <td>Occupation_Large Business</td>\n",
       "      <td>-753.527941</td>\n",
       "    </tr>\n",
       "    <tr>\n",
       "      <td>21</td>\n",
       "      <td>Designation_Exe</td>\n",
       "      <td>-963.873693</td>\n",
       "    </tr>\n",
       "  </tbody>\n",
       "</table>\n",
       "</div>"
      ],
      "text/plain": [
       "                          Feature  Coefficients\n",
       "29                     Zone_South    186.611153\n",
       "31          PaymentMethod_Monthly    154.878694\n",
       "32        PaymentMethod_Quarterly    103.467281\n",
       "28                     Zone_North     48.669722\n",
       "3                ExistingProdType     43.693935\n",
       "7            ExistingPolicyTenure     40.014281\n",
       "30                      Zone_West     33.241531\n",
       "16        EducationField_Engineer     30.408164\n",
       "6                       Complaint     28.234104\n",
       "11                 Channel_Online     23.328286\n",
       "1                      CustTenure     22.325769\n",
       "0                             Age     21.493213\n",
       "2                          Gender     15.755907\n",
       "20  EducationField_Under Graduate     12.233932\n",
       "25                 Designation_VP      9.987843\n",
       "4                  NumberOfPolicy      7.416841\n",
       "10                  CustCareScore      4.923047\n",
       "12    Channel_Third Party Partner      2.881726\n",
       "27           MaritalStatus_Single      1.478707\n",
       "5                   MonthlyIncome      0.030071\n",
       "8                      SumAssured      0.003586\n",
       "9                  LastMonthCalls     -2.327311\n",
       "26          MaritalStatus_Married    -41.503773\n",
       "33           PaymentMethod_Yearly    -73.318621\n",
       "19   EducationField_Post Graduate    -82.494391\n",
       "17        EducationField_Graduate    -85.741755\n",
       "18             EducationField_MBA   -208.813104\n",
       "24     Designation_Senior Manager   -279.718883\n",
       "23            Designation_Manager   -471.530096\n",
       "22          Designation_Executive   -477.079982\n",
       "14            Occupation_Salaried   -617.013029\n",
       "15      Occupation_Small Business   -722.106446\n",
       "13      Occupation_Large Business   -753.527941\n",
       "21                Designation_Exe   -963.873693"
      ]
     },
     "execution_count": 42,
     "metadata": {},
     "output_type": "execute_result"
    }
   ],
   "source": [
    "coefficients.sort_values(\"Coefficients\", axis=0, ascending=False)"
   ]
  },
  {
   "cell_type": "code",
   "execution_count": 43,
   "metadata": {},
   "outputs": [],
   "source": [
    "removable_coef = coefficients[coefficients[\"Coefficients\"] < -100]"
   ]
  },
  {
   "cell_type": "code",
   "execution_count": 44,
   "metadata": {},
   "outputs": [
    {
     "data": {
      "text/plain": [
       "['Occupation_Large Business',\n",
       " 'Occupation_Salaried',\n",
       " 'Occupation_Small Business',\n",
       " 'EducationField_MBA',\n",
       " 'Designation_Exe',\n",
       " 'Designation_Executive',\n",
       " 'Designation_Manager',\n",
       " 'Designation_Senior Manager']"
      ]
     },
     "execution_count": 44,
     "metadata": {},
     "output_type": "execute_result"
    }
   ],
   "source": [
    "list(removable_coef[\"Feature\"])"
   ]
  },
  {
   "cell_type": "code",
   "execution_count": 45,
   "metadata": {},
   "outputs": [
    {
     "data": {
      "text/plain": [
       "0.8071986223262232"
      ]
     },
     "execution_count": 45,
     "metadata": {},
     "output_type": "execute_result"
    }
   ],
   "source": [
    "l_reg.score(X_train, y_train)"
   ]
  },
  {
   "cell_type": "code",
   "execution_count": 46,
   "metadata": {},
   "outputs": [
    {
     "data": {
      "text/plain": [
       "0.7857144664032669"
      ]
     },
     "execution_count": 46,
     "metadata": {},
     "output_type": "execute_result"
    }
   ],
   "source": [
    "l_reg.score(X_test, y_test)"
   ]
  },
  {
   "cell_type": "code",
   "execution_count": 47,
   "metadata": {},
   "outputs": [],
   "source": [
    "mse_train = np.mean((l_reg.predict(X_train)-y_train)**2)"
   ]
  },
  {
   "cell_type": "code",
   "execution_count": 48,
   "metadata": {},
   "outputs": [
    {
     "data": {
      "text/plain": [
       "597.2718864728804"
      ]
     },
     "execution_count": 48,
     "metadata": {},
     "output_type": "execute_result"
    }
   ],
   "source": [
    "math.sqrt(mse_train)"
   ]
  },
  {
   "cell_type": "code",
   "execution_count": 49,
   "metadata": {},
   "outputs": [
    {
     "data": {
      "text/html": [
       "<div>\n",
       "<style scoped>\n",
       "    .dataframe tbody tr th:only-of-type {\n",
       "        vertical-align: middle;\n",
       "    }\n",
       "\n",
       "    .dataframe tbody tr th {\n",
       "        vertical-align: top;\n",
       "    }\n",
       "\n",
       "    .dataframe thead th {\n",
       "        text-align: right;\n",
       "    }\n",
       "</style>\n",
       "<table border=\"1\" class=\"dataframe\">\n",
       "  <thead>\n",
       "    <tr style=\"text-align: right;\">\n",
       "      <th></th>\n",
       "      <th>AgentBonus</th>\n",
       "    </tr>\n",
       "  </thead>\n",
       "  <tbody>\n",
       "    <tr>\n",
       "      <td>610</td>\n",
       "      <td>-1090.018526</td>\n",
       "    </tr>\n",
       "    <tr>\n",
       "      <td>1519</td>\n",
       "      <td>120.950381</td>\n",
       "    </tr>\n",
       "    <tr>\n",
       "      <td>1620</td>\n",
       "      <td>589.998071</td>\n",
       "    </tr>\n",
       "    <tr>\n",
       "      <td>2031</td>\n",
       "      <td>580.819922</td>\n",
       "    </tr>\n",
       "    <tr>\n",
       "      <td>494</td>\n",
       "      <td>-67.353341</td>\n",
       "    </tr>\n",
       "    <tr>\n",
       "      <td>...</td>\n",
       "      <td>...</td>\n",
       "    </tr>\n",
       "    <tr>\n",
       "      <td>921</td>\n",
       "      <td>506.869052</td>\n",
       "    </tr>\n",
       "    <tr>\n",
       "      <td>490</td>\n",
       "      <td>726.607052</td>\n",
       "    </tr>\n",
       "    <tr>\n",
       "      <td>2264</td>\n",
       "      <td>-38.343005</td>\n",
       "    </tr>\n",
       "    <tr>\n",
       "      <td>3476</td>\n",
       "      <td>-176.844499</td>\n",
       "    </tr>\n",
       "    <tr>\n",
       "      <td>757</td>\n",
       "      <td>427.649169</td>\n",
       "    </tr>\n",
       "  </tbody>\n",
       "</table>\n",
       "<p>904 rows × 1 columns</p>\n",
       "</div>"
      ],
      "text/plain": [
       "       AgentBonus\n",
       "610  -1090.018526\n",
       "1519   120.950381\n",
       "1620   589.998071\n",
       "2031   580.819922\n",
       "494    -67.353341\n",
       "...           ...\n",
       "921    506.869052\n",
       "490    726.607052\n",
       "2264   -38.343005\n",
       "3476  -176.844499\n",
       "757    427.649169\n",
       "\n",
       "[904 rows x 1 columns]"
      ]
     },
     "execution_count": 49,
     "metadata": {},
     "output_type": "execute_result"
    }
   ],
   "source": [
    "l_reg.predict(X_test)-y_test"
   ]
  },
  {
   "cell_type": "code",
   "execution_count": 50,
   "metadata": {},
   "outputs": [],
   "source": [
    "mse_test = np.mean((l_reg.predict(X_test)-y_test)**2)"
   ]
  },
  {
   "cell_type": "code",
   "execution_count": 51,
   "metadata": {},
   "outputs": [
    {
     "data": {
      "text/plain": [
       "AgentBonus    389822.185426\n",
       "dtype: float64"
      ]
     },
     "execution_count": 51,
     "metadata": {},
     "output_type": "execute_result"
    }
   ],
   "source": [
    "mse_test"
   ]
  },
  {
   "cell_type": "code",
   "execution_count": 52,
   "metadata": {},
   "outputs": [
    {
     "data": {
      "text/plain": [
       "624.3574180117236"
      ]
     },
     "execution_count": 52,
     "metadata": {},
     "output_type": "execute_result"
    }
   ],
   "source": [
    "math.sqrt(mse_test)"
   ]
  },
  {
   "cell_type": "code",
   "execution_count": 53,
   "metadata": {},
   "outputs": [],
   "source": [
    "y_test_predict =l_reg.predict(X_test)"
   ]
  },
  {
   "cell_type": "code",
   "execution_count": 54,
   "metadata": {},
   "outputs": [],
   "source": [
    "y_train_predict = l_reg.predict(X_train)"
   ]
  },
  {
   "cell_type": "code",
   "execution_count": 55,
   "metadata": {},
   "outputs": [
    {
     "data": {
      "image/png": "[encoded data removed]",
      "text/plain": [
       "<Figure size 1080x576 with 2 Axes>"
      ]
     },
     "metadata": {
      "needs_background": "light"
     },
     "output_type": "display_data"
    }
   ],
   "source": [
    "figure, axis = plt.subplots(1, 2)\n",
    "axis[0].scatter(y_train['AgentBonus'], y_train_predict)\n",
    "axis[0].set_title(\"Train data linear line\")\n",
    "axis[1].scatter(y_test['AgentBonus'], y_test_predict)\n",
    "axis[1].set_title(\"Test data linear line\")\n",
    "\n",
    "figure.set_figheight(8)\n",
    "figure.set_figwidth(15)\n"
   ]
  },
  {
   "cell_type": "code",
   "execution_count": 73,
   "metadata": {},
   "outputs": [],
   "source": [
    "# Hyper parameter\n",
    "from sklearn.model_selection import RandomizedSearchCV\n",
    "from sklearn.model_selection import GridSearchCV\n",
    "from sklearn.model_selection import RepeatedKFold"
   ]
  },
  {
   "cell_type": "code",
   "execution_count": 74,
   "metadata": {},
   "outputs": [],
   "source": [
    "cv = RepeatedKFold(n_splits=10, n_repeats=3, random_state=1)"
   ]
  },
  {
   "cell_type": "code",
   "execution_count": 75,
   "metadata": {},
   "outputs": [],
   "source": [
    "model = LinearRegression()"
   ]
  },
  {
   "cell_type": "code",
   "execution_count": 94,
   "metadata": {},
   "outputs": [],
   "source": [
    "space = dict()\n",
    "space['solver'] = ['svd', 'cholesky', 'lsqr', 'sag']\n",
    "space['fit_intercept'] = [True, False]\n",
    "space['normalize'] = [True, False]\n",
    "# define search\n",
    "parameters = {'fit_intercept':[True,False], 'normalize':[True,False], 'copy_X':[True, False]}\n",
    "grid = GridSearchCV(model,parameters,scoring='neg_mean_absolute_error', cv=cv)\n",
    "# search =GridSearchCV(model, space, scoring='neg_mean_absolute_error', n_jobs=-1, cv=3)\n",
    "# execute search\n",
    "result = grid.fit(X_train, y_train)\n"
   ]
  },
  {
   "cell_type": "code",
   "execution_count": 97,
   "metadata": {},
   "outputs": [
    {
     "data": {
      "text/plain": [
       "{'copy_X': True, 'fit_intercept': True, 'normalize': False}"
      ]
     },
     "execution_count": 97,
     "metadata": {},
     "output_type": "execute_result"
    }
   ],
   "source": [
    "result.best_params_"
   ]
  },
  {
   "cell_type": "code",
   "execution_count": 100,
   "metadata": {},
   "outputs": [],
   "source": [
    "model_tuning = LinearRegression(copy_X= True, fit_intercept= True, normalize= False)"
   ]
  },
  {
   "cell_type": "code",
   "execution_count": 101,
   "metadata": {},
   "outputs": [
    {
     "data": {
      "text/plain": [
       "LinearRegression()"
      ]
     },
     "execution_count": 101,
     "metadata": {},
     "output_type": "execute_result"
    }
   ],
   "source": [
    "model_tuning.fit(X_train, y_train)"
   ]
  },
  {
   "cell_type": "code",
   "execution_count": 102,
   "metadata": {},
   "outputs": [
    {
     "data": {
      "text/plain": [
       "0.8071986223262232"
      ]
     },
     "execution_count": 102,
     "metadata": {},
     "output_type": "execute_result"
    }
   ],
   "source": [
    "model_tuning.score(X_train, y_train)"
   ]
  },
  {
   "cell_type": "code",
   "execution_count": 103,
   "metadata": {},
   "outputs": [
    {
     "data": {
      "text/plain": [
       "0.7857144664032669"
      ]
     },
     "execution_count": 103,
     "metadata": {},
     "output_type": "execute_result"
    }
   ],
   "source": [
    "model_tuning.score(X_test, y_test)"
   ]
  },
  {
   "cell_type": "code",
   "execution_count": 104,
   "metadata": {},
   "outputs": [],
   "source": [
    "mse_train = np.mean((model_tuning.predict(X_train)-y_train)**2)"
   ]
  },
  {
   "cell_type": "code",
   "execution_count": 105,
   "metadata": {},
   "outputs": [
    {
     "data": {
      "text/plain": [
       "597.2718864728804"
      ]
     },
     "execution_count": 105,
     "metadata": {},
     "output_type": "execute_result"
    }
   ],
   "source": [
    "math.sqrt(mse_train)"
   ]
  },
  {
   "cell_type": "code",
   "execution_count": 106,
   "metadata": {},
   "outputs": [
    {
     "data": {
      "text/plain": [
       "1284.2480890100915"
      ]
     },
     "execution_count": 106,
     "metadata": {},
     "output_type": "execute_result"
    }
   ],
   "source": [
    "model_tuning.intercept_[0]"
   ]
  },
  {
   "cell_type": "code",
   "execution_count": 109,
   "metadata": {},
   "outputs": [],
   "source": [
    "coefficients_tuned = pd.DataFrame({\"Feature\":X_train.columns,\"Coefficients\": np.transpose(model_tuning.coef_[0])})"
   ]
  },
  {
   "cell_type": "code",
   "execution_count": 110,
   "metadata": {},
   "outputs": [
    {
     "data": {
      "text/html": [
       "<div>\n",
       "<style scoped>\n",
       "    .dataframe tbody tr th:only-of-type {\n",
       "        vertical-align: middle;\n",
       "    }\n",
       "\n",
       "    .dataframe tbody tr th {\n",
       "        vertical-align: top;\n",
       "    }\n",
       "\n",
       "    .dataframe thead th {\n",
       "        text-align: right;\n",
       "    }\n",
       "</style>\n",
       "<table border=\"1\" class=\"dataframe\">\n",
       "  <thead>\n",
       "    <tr style=\"text-align: right;\">\n",
       "      <th></th>\n",
       "      <th>Feature</th>\n",
       "      <th>Coefficients</th>\n",
       "    </tr>\n",
       "  </thead>\n",
       "  <tbody>\n",
       "    <tr>\n",
       "      <td>29</td>\n",
       "      <td>Zone_South</td>\n",
       "      <td>186.611153</td>\n",
       "    </tr>\n",
       "    <tr>\n",
       "      <td>31</td>\n",
       "      <td>PaymentMethod_Monthly</td>\n",
       "      <td>154.878694</td>\n",
       "    </tr>\n",
       "    <tr>\n",
       "      <td>32</td>\n",
       "      <td>PaymentMethod_Quarterly</td>\n",
       "      <td>103.467281</td>\n",
       "    </tr>\n",
       "    <tr>\n",
       "      <td>28</td>\n",
       "      <td>Zone_North</td>\n",
       "      <td>48.669722</td>\n",
       "    </tr>\n",
       "    <tr>\n",
       "      <td>3</td>\n",
       "      <td>ExistingProdType</td>\n",
       "      <td>43.693935</td>\n",
       "    </tr>\n",
       "    <tr>\n",
       "      <td>7</td>\n",
       "      <td>ExistingPolicyTenure</td>\n",
       "      <td>40.014281</td>\n",
       "    </tr>\n",
       "    <tr>\n",
       "      <td>30</td>\n",
       "      <td>Zone_West</td>\n",
       "      <td>33.241531</td>\n",
       "    </tr>\n",
       "    <tr>\n",
       "      <td>16</td>\n",
       "      <td>EducationField_Engineer</td>\n",
       "      <td>30.408164</td>\n",
       "    </tr>\n",
       "    <tr>\n",
       "      <td>6</td>\n",
       "      <td>Complaint</td>\n",
       "      <td>28.234104</td>\n",
       "    </tr>\n",
       "    <tr>\n",
       "      <td>11</td>\n",
       "      <td>Channel_Online</td>\n",
       "      <td>23.328286</td>\n",
       "    </tr>\n",
       "    <tr>\n",
       "      <td>1</td>\n",
       "      <td>CustTenure</td>\n",
       "      <td>22.325769</td>\n",
       "    </tr>\n",
       "    <tr>\n",
       "      <td>0</td>\n",
       "      <td>Age</td>\n",
       "      <td>21.493213</td>\n",
       "    </tr>\n",
       "    <tr>\n",
       "      <td>2</td>\n",
       "      <td>Gender</td>\n",
       "      <td>15.755907</td>\n",
       "    </tr>\n",
       "    <tr>\n",
       "      <td>20</td>\n",
       "      <td>EducationField_Under Graduate</td>\n",
       "      <td>12.233932</td>\n",
       "    </tr>\n",
       "    <tr>\n",
       "      <td>25</td>\n",
       "      <td>Designation_VP</td>\n",
       "      <td>9.987843</td>\n",
       "    </tr>\n",
       "    <tr>\n",
       "      <td>4</td>\n",
       "      <td>NumberOfPolicy</td>\n",
       "      <td>7.416841</td>\n",
       "    </tr>\n",
       "    <tr>\n",
       "      <td>10</td>\n",
       "      <td>CustCareScore</td>\n",
       "      <td>4.923047</td>\n",
       "    </tr>\n",
       "    <tr>\n",
       "      <td>12</td>\n",
       "      <td>Channel_Third Party Partner</td>\n",
       "      <td>2.881726</td>\n",
       "    </tr>\n",
       "    <tr>\n",
       "      <td>27</td>\n",
       "      <td>MaritalStatus_Single</td>\n",
       "      <td>1.478707</td>\n",
       "    </tr>\n",
       "    <tr>\n",
       "      <td>5</td>\n",
       "      <td>MonthlyIncome</td>\n",
       "      <td>0.030071</td>\n",
       "    </tr>\n",
       "    <tr>\n",
       "      <td>8</td>\n",
       "      <td>SumAssured</td>\n",
       "      <td>0.003586</td>\n",
       "    </tr>\n",
       "    <tr>\n",
       "      <td>9</td>\n",
       "      <td>LastMonthCalls</td>\n",
       "      <td>-2.327311</td>\n",
       "    </tr>\n",
       "    <tr>\n",
       "      <td>26</td>\n",
       "      <td>MaritalStatus_Married</td>\n",
       "      <td>-41.503773</td>\n",
       "    </tr>\n",
       "    <tr>\n",
       "      <td>33</td>\n",
       "      <td>PaymentMethod_Yearly</td>\n",
       "      <td>-73.318621</td>\n",
       "    </tr>\n",
       "    <tr>\n",
       "      <td>19</td>\n",
       "      <td>EducationField_Post Graduate</td>\n",
       "      <td>-82.494391</td>\n",
       "    </tr>\n",
       "    <tr>\n",
       "      <td>17</td>\n",
       "      <td>EducationField_Graduate</td>\n",
       "      <td>-85.741755</td>\n",
       "    </tr>\n",
       "    <tr>\n",
       "      <td>18</td>\n",
       "      <td>EducationField_MBA</td>\n",
       "      <td>-208.813104</td>\n",
       "    </tr>\n",
       "    <tr>\n",
       "      <td>24</td>\n",
       "      <td>Designation_Senior Manager</td>\n",
       "      <td>-279.718883</td>\n",
       "    </tr>\n",
       "    <tr>\n",
       "      <td>23</td>\n",
       "      <td>Designation_Manager</td>\n",
       "      <td>-471.530096</td>\n",
       "    </tr>\n",
       "    <tr>\n",
       "      <td>22</td>\n",
       "      <td>Designation_Executive</td>\n",
       "      <td>-477.079982</td>\n",
       "    </tr>\n",
       "    <tr>\n",
       "      <td>14</td>\n",
       "      <td>Occupation_Salaried</td>\n",
       "      <td>-617.013029</td>\n",
       "    </tr>\n",
       "    <tr>\n",
       "      <td>15</td>\n",
       "      <td>Occupation_Small Business</td>\n",
       "      <td>-722.106446</td>\n",
       "    </tr>\n",
       "    <tr>\n",
       "      <td>13</td>\n",
       "      <td>Occupation_Large Business</td>\n",
       "      <td>-753.527941</td>\n",
       "    </tr>\n",
       "    <tr>\n",
       "      <td>21</td>\n",
       "      <td>Designation_Exe</td>\n",
       "      <td>-963.873693</td>\n",
       "    </tr>\n",
       "  </tbody>\n",
       "</table>\n",
       "</div>"
      ],
      "text/plain": [
       "                          Feature  Coefficients\n",
       "29                     Zone_South    186.611153\n",
       "31          PaymentMethod_Monthly    154.878694\n",
       "32        PaymentMethod_Quarterly    103.467281\n",
       "28                     Zone_North     48.669722\n",
       "3                ExistingProdType     43.693935\n",
       "7            ExistingPolicyTenure     40.014281\n",
       "30                      Zone_West     33.241531\n",
       "16        EducationField_Engineer     30.408164\n",
       "6                       Complaint     28.234104\n",
       "11                 Channel_Online     23.328286\n",
       "1                      CustTenure     22.325769\n",
       "0                             Age     21.493213\n",
       "2                          Gender     15.755907\n",
       "20  EducationField_Under Graduate     12.233932\n",
       "25                 Designation_VP      9.987843\n",
       "4                  NumberOfPolicy      7.416841\n",
       "10                  CustCareScore      4.923047\n",
       "12    Channel_Third Party Partner      2.881726\n",
       "27           MaritalStatus_Single      1.478707\n",
       "5                   MonthlyIncome      0.030071\n",
       "8                      SumAssured      0.003586\n",
       "9                  LastMonthCalls     -2.327311\n",
       "26          MaritalStatus_Married    -41.503773\n",
       "33           PaymentMethod_Yearly    -73.318621\n",
       "19   EducationField_Post Graduate    -82.494391\n",
       "17        EducationField_Graduate    -85.741755\n",
       "18             EducationField_MBA   -208.813104\n",
       "24     Designation_Senior Manager   -279.718883\n",
       "23            Designation_Manager   -471.530096\n",
       "22          Designation_Executive   -477.079982\n",
       "14            Occupation_Salaried   -617.013029\n",
       "15      Occupation_Small Business   -722.106446\n",
       "13      Occupation_Large Business   -753.527941\n",
       "21                Designation_Exe   -963.873693"
      ]
     },
     "execution_count": 110,
     "metadata": {},
     "output_type": "execute_result"
    }
   ],
   "source": [
    "coefficients_tuned.sort_values(\"Coefficients\", axis=0, ascending=False)"
   ]
  },
  {
   "cell_type": "code",
   "execution_count": null,
   "metadata": {},
   "outputs": [],
   "source": []
  }
 ],
 "metadata": {
  "kernelspec": {
   "display_name": "Python 3",
   "language": "python",
   "name": "python3"
  },
  "language_info": {
   "codemirror_mode": {
    "name": "ipython",
    "version": 3
   },
   "file_extension": ".py",
   "mimetype": "text/x-python",
   "name": "python",
   "nbconvert_exporter": "python",
   "pygments_lexer": "ipython3",
   "version": "3.7.4"
  }
 },
 "nbformat": 4,
 "nbformat_minor": 2
}
